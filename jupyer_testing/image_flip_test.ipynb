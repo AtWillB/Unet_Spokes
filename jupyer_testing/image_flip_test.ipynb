{
 "cells": [
  {
   "cell_type": "code",
   "execution_count": 1,
   "metadata": {},
   "outputs": [],
   "source": [
    "import matplotlib.pyplot as plt\n",
    "import scipy.io as io\n",
    "import numpy as np\n",
    "import copy\n",
    "import cv2\n",
    "from PIL import Image\n",
    "from PIL import ImageEnhance as IE\n",
    "from PIL import ImageStat as IS\n",
    "import os\n",
    "import glob\n",
    "from matplotlib import cm\n",
    "import seaborn as sns\n",
    "import sklearn.preprocessing as sk\n",
    "from scipy.ndimage import gaussian_filter"
   ]
  }
 ],
 "metadata": {
  "kernelspec": {
   "display_name": "unet",
   "language": "python",
   "name": "python3"
  },
  "language_info": {
   "codemirror_mode": {
    "name": "ipython",
    "version": 3
   },
   "file_extension": ".py",
   "mimetype": "text/x-python",
   "name": "python",
   "nbconvert_exporter": "python",
   "pygments_lexer": "ipython3",
   "version": "3.10.8"
  },
  "orig_nbformat": 4
 },
 "nbformat": 4,
 "nbformat_minor": 2
}
