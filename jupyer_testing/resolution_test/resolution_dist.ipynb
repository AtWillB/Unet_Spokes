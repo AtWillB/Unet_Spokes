{
 "cells": [
  {
   "cell_type": "code",
   "execution_count": 29,
   "metadata": {},
   "outputs": [],
   "source": [
    "# PLEASE NOTE THAT THIS CODE INCLUDES HARD_CODED FILE PATHS FROM MY COMPUTER. \n",
    "# THIS CODE WILL NOT WORK ON YOUR MACHINE, AS I HAVE DOWNLOADED ALL IMAGES "
   ]
  },
  {
   "cell_type": "code",
   "execution_count": 30,
   "metadata": {},
   "outputs": [],
   "source": [
    "import matplotlib.pyplot as plt\n",
    "import pandas as pd\n",
    "import seaborn as sb\n",
    "import numpy as np\n",
    "\n",
    "import glob\n",
    "import os\n",
    "\n",
    "from PIL import Image\n",
    "import scipy.io as io\n",
    "import cv2"
   ]
  },
  {
   "cell_type": "code",
   "execution_count": 31,
   "metadata": {},
   "outputs": [],
   "source": [
    "# making sure Im grabbing all the image files\n",
    "len(glob.glob(\"../../../data/2023_imagery/filtered/*/*.png\"))\n",
    "img_ex = glob.glob(\"../../../data/2023_imagery/filtered/*/*.png\")[0]"
   ]
  },
  {
   "cell_type": "code",
   "execution_count": 32,
   "metadata": {},
   "outputs": [
    {
     "name": "stdout",
     "output_type": "stream",
     "text": [
      "1488\n"
     ]
    },
    {
     "data": {
      "text/plain": [
       "281"
      ]
     },
     "execution_count": 32,
     "metadata": {},
     "output_type": "execute_result"
    }
   ],
   "source": [
    "print(Image.open(img_ex).size[0])\n",
    "Image.open(img_ex).size[1]"
   ]
  },
  {
   "attachments": {},
   "cell_type": "markdown",
   "metadata": {},
   "source": [
    "# Making Dataframe"
   ]
  },
  {
   "cell_type": "code",
   "execution_count": 33,
   "metadata": {},
   "outputs": [],
   "source": [
    "opus_id = []\n",
    "x_length = []\n",
    "y_length = []\n",
    "folder = []\n",
    "full_path = []\n",
    "\n",
    "for filepath in glob.glob(\"../../../data/2023_imagery/filtered/*/*.png\"):\n",
    "    file_split = filepath.split(\"/\")\n",
    "\n",
    "    opus_id.append(file_split[-1].split('.')[0])\n",
    "    x_length.append(Image.open(filepath).size[0])\n",
    "    y_length.append(Image.open(filepath).size[1])\n",
    "    folder.append(file_split[-2])\n",
    "    full_path.append(filepath)\n",
    "\n",
    "fileres_data = {\"opus_id\": opus_id, \"x_length\": x_length, \"y_length\": y_length, \"folder\": folder, \"full_path\": full_path}"
   ]
  },
  {
   "cell_type": "code",
   "execution_count": 34,
   "metadata": {},
   "outputs": [],
   "source": [
    "res_df = pd.DataFrame(fileres_data)"
   ]
  },
  {
   "cell_type": "code",
   "execution_count": 35,
   "metadata": {},
   "outputs": [],
   "source": [
    "res_df.set_index('opus_id', inplace=True)"
   ]
  },
  {
   "cell_type": "code",
   "execution_count": 36,
   "metadata": {},
   "outputs": [
    {
     "data": {
      "text/html": [
       "<div>\n",
       "<style scoped>\n",
       "    .dataframe tbody tr th:only-of-type {\n",
       "        vertical-align: middle;\n",
       "    }\n",
       "\n",
       "    .dataframe tbody tr th {\n",
       "        vertical-align: top;\n",
       "    }\n",
       "\n",
       "    .dataframe thead th {\n",
       "        text-align: right;\n",
       "    }\n",
       "</style>\n",
       "<table border=\"1\" class=\"dataframe\">\n",
       "  <thead>\n",
       "    <tr style=\"text-align: right;\">\n",
       "      <th></th>\n",
       "      <th>x_length</th>\n",
       "      <th>y_length</th>\n",
       "      <th>folder</th>\n",
       "      <th>full_path</th>\n",
       "    </tr>\n",
       "    <tr>\n",
       "      <th>opus_id</th>\n",
       "      <th></th>\n",
       "      <th></th>\n",
       "      <th></th>\n",
       "      <th></th>\n",
       "    </tr>\n",
       "  </thead>\n",
       "  <tbody>\n",
       "    <tr>\n",
       "      <th>W1630641951</th>\n",
       "      <td>1488</td>\n",
       "      <td>281</td>\n",
       "      <td>117_SPKMVLFHP_005</td>\n",
       "      <td>../../../data/2023_imagery/filtered/117_SPKMVL...</td>\n",
       "    </tr>\n",
       "    <tr>\n",
       "      <th>W1630637151</th>\n",
       "      <td>1488</td>\n",
       "      <td>285</td>\n",
       "      <td>117_SPKMVLFHP_005</td>\n",
       "      <td>../../../data/2023_imagery/filtered/117_SPKMVL...</td>\n",
       "    </tr>\n",
       "    <tr>\n",
       "      <th>W1630646151</th>\n",
       "      <td>1488</td>\n",
       "      <td>283</td>\n",
       "      <td>117_SPKMVLFHP_005</td>\n",
       "      <td>../../../data/2023_imagery/filtered/117_SPKMVL...</td>\n",
       "    </tr>\n",
       "    <tr>\n",
       "      <th>bad_bad_W1630655751</th>\n",
       "      <td>1442</td>\n",
       "      <td>1108</td>\n",
       "      <td>117_SPKMVLFHP_005</td>\n",
       "      <td>../../../data/2023_imagery/filtered/117_SPKMVL...</td>\n",
       "    </tr>\n",
       "    <tr>\n",
       "      <th>W1630639551</th>\n",
       "      <td>1488</td>\n",
       "      <td>285</td>\n",
       "      <td>117_SPKMVLFHP_005</td>\n",
       "      <td>../../../data/2023_imagery/filtered/117_SPKMVL...</td>\n",
       "    </tr>\n",
       "    <tr>\n",
       "      <th>...</th>\n",
       "      <td>...</td>\n",
       "      <td>...</td>\n",
       "      <td>...</td>\n",
       "      <td>...</td>\n",
       "    </tr>\n",
       "    <tr>\n",
       "      <th>W1597976395</th>\n",
       "      <td>1488</td>\n",
       "      <td>601</td>\n",
       "      <td>081_SPKMVLFLP</td>\n",
       "      <td>../../../data/2023_imagery/filtered/081_SPKMVL...</td>\n",
       "    </tr>\n",
       "    <tr>\n",
       "      <th>W1598009545</th>\n",
       "      <td>1488</td>\n",
       "      <td>494</td>\n",
       "      <td>081_SPKMVLFLP</td>\n",
       "      <td>../../../data/2023_imagery/filtered/081_SPKMVL...</td>\n",
       "    </tr>\n",
       "    <tr>\n",
       "      <th>W1598003695</th>\n",
       "      <td>1488</td>\n",
       "      <td>517</td>\n",
       "      <td>081_SPKMVLFLP</td>\n",
       "      <td>../../../data/2023_imagery/filtered/081_SPKMVL...</td>\n",
       "    </tr>\n",
       "    <tr>\n",
       "      <th>W1598000770</th>\n",
       "      <td>1488</td>\n",
       "      <td>524</td>\n",
       "      <td>081_SPKMVLFLP</td>\n",
       "      <td>../../../data/2023_imagery/filtered/081_SPKMVL...</td>\n",
       "    </tr>\n",
       "    <tr>\n",
       "      <th>W1597994920</th>\n",
       "      <td>1488</td>\n",
       "      <td>542</td>\n",
       "      <td>081_SPKMVLFLP</td>\n",
       "      <td>../../../data/2023_imagery/filtered/081_SPKMVL...</td>\n",
       "    </tr>\n",
       "  </tbody>\n",
       "</table>\n",
       "<p>1883 rows × 4 columns</p>\n",
       "</div>"
      ],
      "text/plain": [
       "                     x_length  y_length             folder  \\\n",
       "opus_id                                                      \n",
       "W1630641951              1488       281  117_SPKMVLFHP_005   \n",
       "W1630637151              1488       285  117_SPKMVLFHP_005   \n",
       "W1630646151              1488       283  117_SPKMVLFHP_005   \n",
       "bad_bad_W1630655751      1442      1108  117_SPKMVLFHP_005   \n",
       "W1630639551              1488       285  117_SPKMVLFHP_005   \n",
       "...                       ...       ...                ...   \n",
       "W1597976395              1488       601      081_SPKMVLFLP   \n",
       "W1598009545              1488       494      081_SPKMVLFLP   \n",
       "W1598003695              1488       517      081_SPKMVLFLP   \n",
       "W1598000770              1488       524      081_SPKMVLFLP   \n",
       "W1597994920              1488       542      081_SPKMVLFLP   \n",
       "\n",
       "                                                             full_path  \n",
       "opus_id                                                                 \n",
       "W1630641951          ../../../data/2023_imagery/filtered/117_SPKMVL...  \n",
       "W1630637151          ../../../data/2023_imagery/filtered/117_SPKMVL...  \n",
       "W1630646151          ../../../data/2023_imagery/filtered/117_SPKMVL...  \n",
       "bad_bad_W1630655751  ../../../data/2023_imagery/filtered/117_SPKMVL...  \n",
       "W1630639551          ../../../data/2023_imagery/filtered/117_SPKMVL...  \n",
       "...                                                                ...  \n",
       "W1597976395          ../../../data/2023_imagery/filtered/081_SPKMVL...  \n",
       "W1598009545          ../../../data/2023_imagery/filtered/081_SPKMVL...  \n",
       "W1598003695          ../../../data/2023_imagery/filtered/081_SPKMVL...  \n",
       "W1598000770          ../../../data/2023_imagery/filtered/081_SPKMVL...  \n",
       "W1597994920          ../../../data/2023_imagery/filtered/081_SPKMVL...  \n",
       "\n",
       "[1883 rows x 4 columns]"
      ]
     },
     "execution_count": 36,
     "metadata": {},
     "output_type": "execute_result"
    }
   ],
   "source": [
    "res_df"
   ]
  },
  {
   "attachments": {},
   "cell_type": "markdown",
   "metadata": {},
   "source": [
    "# Visualiation X/Y resolution distributions"
   ]
  },
  {
   "cell_type": "code",
   "execution_count": 37,
   "metadata": {},
   "outputs": [
    {
     "data": {
      "image/png": "[encoded data removed]",
      "text/plain": [
       "<Figure size 640x480 with 1 Axes>"
      ]
     },
     "metadata": {},
     "output_type": "display_data"
    },
    {
     "name": "stdout",
     "output_type": "stream",
     "text": [
      "Of the 1883 pngs, 59 are not of x dimension 1488\n"
     ]
    }
   ],
   "source": [
    "sb.histplot(res_df['x_length'])\n",
    "plt.show()\n",
    "num_not_mode = len(res_df.loc[res_df['x_length'] != res_df['x_length'].mode()[0]])\n",
    "\n",
    "print(f\"Of the {len(res_df)} pngs, {num_not_mode} are not of x dimension 1488\")"
   ]
  },
  {
   "cell_type": "code",
   "execution_count": 38,
   "metadata": {},
   "outputs": [
    {
     "data": {
      "image/png": "[encoded data removed]",
      "text/plain": [
       "<Figure size 640x480 with 1 Axes>"
      ]
     },
     "metadata": {},
     "output_type": "display_data"
    },
    {
     "data": {
      "text/plain": [
       "count    1883.000000\n",
       "mean      421.791290\n",
       "std       236.137146\n",
       "min       199.000000\n",
       "25%       299.000000\n",
       "50%       347.000000\n",
       "75%       386.000000\n",
       "max      1108.000000\n",
       "Name: y_length, dtype: float64"
      ]
     },
     "execution_count": 38,
     "metadata": {},
     "output_type": "execute_result"
    }
   ],
   "source": [
    "sb.histplot(res_df['y_length'])\n",
    "plt.show()\n",
    "res_df['y_length'].describe() # statisicall summary of this column"
   ]
  },
  {
   "attachments": {},
   "cell_type": "markdown",
   "metadata": {},
   "source": [
    "#### What am I looking for/Why is that far right cluster a problem?\n",
    "\n",
    "Well, the expected output from my cropping method is that these images are long and skinny.\n",
    "\n",
    "Im expecting x_length to be consistent, around 1500 pixels. \n",
    "The y axis is bound to vary much more(since the original images vary significantly along the y axis),\n",
    "\n",
    "however, the y axis should stay well within the range of x_length/2. \n",
    "\n",
    "So, seeing a cluster of images that have y axis over 1000 is a sign that my cropping method messed up. "
   ]
  },
  {
   "attachments": {},
   "cell_type": "markdown",
   "metadata": {},
   "source": [
    "# Lets explore the Y distribution, given this odd clustering"
   ]
  },
  {
   "cell_type": "code",
   "execution_count": 39,
   "metadata": {},
   "outputs": [],
   "source": [
    "guessing_fine = res_df.loc[(res_df['y_length'] > 400) & (res_df['y_length'] < 800)]\n",
    "guessing_fine = list(guessing_fine['full_path'])\n",
    "\n",
    "#all but that one at 717 are good"
   ]
  },
  {
   "cell_type": "code",
   "execution_count": 40,
   "metadata": {},
   "outputs": [],
   "source": [
    "f = open(\"resolution_400_800.txt\", \"w\")\n",
    "for x in guessing_fine: \n",
    "    f.write(x+\"\\n\")\n",
    "f.close()\n",
    "# these are in fact fine\n",
    "# I checked this externally via terminal window"
   ]
  },
  {
   "cell_type": "code",
   "execution_count": 41,
   "metadata": {},
   "outputs": [],
   "source": [
    "guessing_bad = res_df.loc[res_df['y_length'] > 700]\n",
    "guessing_bad = list(guessing_bad['full_path'])"
   ]
  },
  {
   "cell_type": "code",
   "execution_count": 42,
   "metadata": {},
   "outputs": [
    {
     "data": {
      "text/plain": [
       "203"
      ]
     },
     "execution_count": 42,
     "metadata": {},
     "output_type": "execute_result"
    }
   ],
   "source": [
    "len(guessing_bad)"
   ]
  },
  {
   "cell_type": "code",
   "execution_count": 43,
   "metadata": {},
   "outputs": [],
   "source": [
    "f = open(\"resolution_800.txt\", \"w\")\n",
    "for x in guessing_bad: \n",
    "    f.write(x+\"\\n\")\n",
    "f.close()\n",
    "# all of these are bad. \n",
    "# I checked this externally via terminal window\n",
    "\n"
   ]
  },
  {
   "attachments": {},
   "cell_type": "markdown",
   "metadata": {},
   "source": [
    "# What does this mean?"
   ]
  },
  {
   "cell_type": "code",
   "execution_count": 44,
   "metadata": {},
   "outputs": [
    {
     "name": "stdout",
     "output_type": "stream",
     "text": [
      "This means that 203 out of 1883 are bad, or 10.780669144981413 percent are poorly cropped\n",
      "this leaves 1680 good ones if I don't fix cropping algorithm\n",
      "Is this a problem?\n"
     ]
    }
   ],
   "source": [
    "print(f'This means that {len(guessing_bad)} out of {len(res_df)} are bad, or {(len(guessing_bad)/len(res_df)) * 100} percent are poorly cropped')\n",
    "print(f\"this leaves {len(res_df) - len(guessing_bad)} good ones if I don't fix cropping algorithm\")\n",
    "print(\"Is this a problem?\")"
   ]
  },
  {
   "attachments": {},
   "cell_type": "markdown",
   "metadata": {},
   "source": [
    "# Identifying appropriate X/Y resolution to map all images to"
   ]
  },
  {
   "attachments": {},
   "cell_type": "markdown",
   "metadata": {},
   "source": [
    "Remember, Unet requires that all images fed to it are the same resolution. \n",
    "\n",
    "on top of this, the image needs to be divisible by 8 since the decode scales images down factor of 2^3"
   ]
  },
  {
   "cell_type": "code",
   "execution_count": 45,
   "metadata": {},
   "outputs": [
    {
     "data": {
      "text/plain": [
       "<AxesSubplot: xlabel='y_length', ylabel='Count'>"
      ]
     },
     "execution_count": 45,
     "metadata": {},
     "output_type": "execute_result"
    },
    {
     "data": {
      "image/png": "[encoded data removed]",
      "text/plain": [
       "<Figure size 640x480 with 1 Axes>"
      ]
     },
     "metadata": {},
     "output_type": "display_data"
    }
   ],
   "source": [
    "sb.histplot(res_df['y_length'])"
   ]
  },
  {
   "cell_type": "code",
   "execution_count": 46,
   "metadata": {},
   "outputs": [],
   "source": [
    "clean_res_df = res_df.loc[res_df['y_length'] < 700]"
   ]
  },
  {
   "cell_type": "code",
   "execution_count": 47,
   "metadata": {},
   "outputs": [
    {
     "data": {
      "image/png": "[encoded data removed]",
      "text/plain": [
       "<Figure size 640x480 with 1 Axes>"
      ]
     },
     "metadata": {},
     "output_type": "display_data"
    },
    {
     "data": {
      "text/plain": [
       "count    1680.000000\n",
       "mean      342.392262\n",
       "std        62.102235\n",
       "min       199.000000\n",
       "25%       295.000000\n",
       "50%       337.000000\n",
       "75%       374.000000\n",
       "max       618.000000\n",
       "Name: y_length, dtype: float64"
      ]
     },
     "execution_count": 47,
     "metadata": {},
     "output_type": "execute_result"
    }
   ],
   "source": [
    "sb.histplot(clean_res_df['y_length'], kde=True)\n",
    "plt.show()\n",
    "clean_res_df['y_length'].describe()"
   ]
  },
  {
   "cell_type": "code",
   "execution_count": 48,
   "metadata": {},
   "outputs": [
    {
     "name": "stdout",
     "output_type": "stream",
     "text": [
      "304\n",
      "312\n",
      "320\n",
      "328\n",
      "336\n",
      "344\n",
      "352\n",
      "360\n",
      "368\n",
      "376\n",
      "384\n",
      "392\n"
     ]
    }
   ],
   "source": [
    "Y_list = np.arange(300,400)\n",
    "\n",
    "for x in Y_list:\n",
    "    if x%8 == 0:\n",
    "        print(x)\n",
    "# using 336"
   ]
  },
  {
   "cell_type": "code",
   "execution_count": 49,
   "metadata": {},
   "outputs": [
    {
     "name": "stdout",
     "output_type": "stream",
     "text": [
      "1464\n",
      "1472\n",
      "1480\n",
      "1488\n",
      "1496\n"
     ]
    }
   ],
   "source": [
    "X_list = np.arange(1460,1500)\n",
    "\n",
    "for x in X_list:\n",
    "    if x%8 == 0:\n",
    "        print(x)\n",
    "# using 1488"
   ]
  },
  {
   "cell_type": "code",
   "execution_count": null,
   "metadata": {},
   "outputs": [],
   "source": []
  },
  {
   "cell_type": "code",
   "execution_count": 50,
   "metadata": {},
   "outputs": [
    {
     "name": "stderr",
     "output_type": "stream",
     "text": [
      "/var/folders/21/1lgl4bt141nf87j2l6lc_nw00000gn/T/ipykernel_59328/4113122232.py:2: SettingWithCopyWarning: \n",
      "A value is trying to be set on a copy of a slice from a DataFrame.\n",
      "Try using .loc[row_indexer,col_indexer] = value instead\n",
      "\n",
      "See the caveats in the documentation: https://pandas.pydata.org/pandas-docs/stable/user_guide/indexing.html#returning-a-view-versus-a-copy\n",
      "  clean_res_df['pixel_error'] = clean_res_df['y_length'].apply(lambda x: abs(x-336))\n"
     ]
    }
   ],
   "source": [
    "# attempting to calcualte the TOTAL pixel error of smushing across all images along the y axis\n",
    "clean_res_df['pixel_error'] = clean_res_df['y_length'].apply(lambda x: abs(x-336))"
   ]
  },
  {
   "cell_type": "code",
   "execution_count": 51,
   "metadata": {},
   "outputs": [
    {
     "data": {
      "text/html": [
       "<div>\n",
       "<style scoped>\n",
       "    .dataframe tbody tr th:only-of-type {\n",
       "        vertical-align: middle;\n",
       "    }\n",
       "\n",
       "    .dataframe tbody tr th {\n",
       "        vertical-align: top;\n",
       "    }\n",
       "\n",
       "    .dataframe thead th {\n",
       "        text-align: right;\n",
       "    }\n",
       "</style>\n",
       "<table border=\"1\" class=\"dataframe\">\n",
       "  <thead>\n",
       "    <tr style=\"text-align: right;\">\n",
       "      <th></th>\n",
       "      <th>x_length</th>\n",
       "      <th>y_length</th>\n",
       "      <th>folder</th>\n",
       "      <th>full_path</th>\n",
       "      <th>pixel_error</th>\n",
       "    </tr>\n",
       "    <tr>\n",
       "      <th>opus_id</th>\n",
       "      <th></th>\n",
       "      <th></th>\n",
       "      <th></th>\n",
       "      <th></th>\n",
       "      <th></th>\n",
       "    </tr>\n",
       "  </thead>\n",
       "  <tbody>\n",
       "    <tr>\n",
       "      <th>W1630641951</th>\n",
       "      <td>1488</td>\n",
       "      <td>281</td>\n",
       "      <td>117_SPKMVLFHP_005</td>\n",
       "      <td>../../../data/2023_imagery/filtered/117_SPKMVL...</td>\n",
       "      <td>55</td>\n",
       "    </tr>\n",
       "    <tr>\n",
       "      <th>W1630637151</th>\n",
       "      <td>1488</td>\n",
       "      <td>285</td>\n",
       "      <td>117_SPKMVLFHP_005</td>\n",
       "      <td>../../../data/2023_imagery/filtered/117_SPKMVL...</td>\n",
       "      <td>51</td>\n",
       "    </tr>\n",
       "    <tr>\n",
       "      <th>W1630646151</th>\n",
       "      <td>1488</td>\n",
       "      <td>283</td>\n",
       "      <td>117_SPKMVLFHP_005</td>\n",
       "      <td>../../../data/2023_imagery/filtered/117_SPKMVL...</td>\n",
       "      <td>53</td>\n",
       "    </tr>\n",
       "    <tr>\n",
       "      <th>W1630639551</th>\n",
       "      <td>1488</td>\n",
       "      <td>285</td>\n",
       "      <td>117_SPKMVLFHP_005</td>\n",
       "      <td>../../../data/2023_imagery/filtered/117_SPKMVL...</td>\n",
       "      <td>51</td>\n",
       "    </tr>\n",
       "    <tr>\n",
       "      <th>W1630648551</th>\n",
       "      <td>1488</td>\n",
       "      <td>281</td>\n",
       "      <td>117_SPKMVLFHP_005</td>\n",
       "      <td>../../../data/2023_imagery/filtered/117_SPKMVL...</td>\n",
       "      <td>55</td>\n",
       "    </tr>\n",
       "    <tr>\n",
       "      <th>...</th>\n",
       "      <td>...</td>\n",
       "      <td>...</td>\n",
       "      <td>...</td>\n",
       "      <td>...</td>\n",
       "      <td>...</td>\n",
       "    </tr>\n",
       "    <tr>\n",
       "      <th>W1597976395</th>\n",
       "      <td>1488</td>\n",
       "      <td>601</td>\n",
       "      <td>081_SPKMVLFLP</td>\n",
       "      <td>../../../data/2023_imagery/filtered/081_SPKMVL...</td>\n",
       "      <td>265</td>\n",
       "    </tr>\n",
       "    <tr>\n",
       "      <th>W1598009545</th>\n",
       "      <td>1488</td>\n",
       "      <td>494</td>\n",
       "      <td>081_SPKMVLFLP</td>\n",
       "      <td>../../../data/2023_imagery/filtered/081_SPKMVL...</td>\n",
       "      <td>158</td>\n",
       "    </tr>\n",
       "    <tr>\n",
       "      <th>W1598003695</th>\n",
       "      <td>1488</td>\n",
       "      <td>517</td>\n",
       "      <td>081_SPKMVLFLP</td>\n",
       "      <td>../../../data/2023_imagery/filtered/081_SPKMVL...</td>\n",
       "      <td>181</td>\n",
       "    </tr>\n",
       "    <tr>\n",
       "      <th>W1598000770</th>\n",
       "      <td>1488</td>\n",
       "      <td>524</td>\n",
       "      <td>081_SPKMVLFLP</td>\n",
       "      <td>../../../data/2023_imagery/filtered/081_SPKMVL...</td>\n",
       "      <td>188</td>\n",
       "    </tr>\n",
       "    <tr>\n",
       "      <th>W1597994920</th>\n",
       "      <td>1488</td>\n",
       "      <td>542</td>\n",
       "      <td>081_SPKMVLFLP</td>\n",
       "      <td>../../../data/2023_imagery/filtered/081_SPKMVL...</td>\n",
       "      <td>206</td>\n",
       "    </tr>\n",
       "  </tbody>\n",
       "</table>\n",
       "<p>1680 rows × 5 columns</p>\n",
       "</div>"
      ],
      "text/plain": [
       "             x_length  y_length             folder  \\\n",
       "opus_id                                              \n",
       "W1630641951      1488       281  117_SPKMVLFHP_005   \n",
       "W1630637151      1488       285  117_SPKMVLFHP_005   \n",
       "W1630646151      1488       283  117_SPKMVLFHP_005   \n",
       "W1630639551      1488       285  117_SPKMVLFHP_005   \n",
       "W1630648551      1488       281  117_SPKMVLFHP_005   \n",
       "...               ...       ...                ...   \n",
       "W1597976395      1488       601      081_SPKMVLFLP   \n",
       "W1598009545      1488       494      081_SPKMVLFLP   \n",
       "W1598003695      1488       517      081_SPKMVLFLP   \n",
       "W1598000770      1488       524      081_SPKMVLFLP   \n",
       "W1597994920      1488       542      081_SPKMVLFLP   \n",
       "\n",
       "                                                     full_path  pixel_error  \n",
       "opus_id                                                                      \n",
       "W1630641951  ../../../data/2023_imagery/filtered/117_SPKMVL...           55  \n",
       "W1630637151  ../../../data/2023_imagery/filtered/117_SPKMVL...           51  \n",
       "W1630646151  ../../../data/2023_imagery/filtered/117_SPKMVL...           53  \n",
       "W1630639551  ../../../data/2023_imagery/filtered/117_SPKMVL...           51  \n",
       "W1630648551  ../../../data/2023_imagery/filtered/117_SPKMVL...           55  \n",
       "...                                                        ...          ...  \n",
       "W1597976395  ../../../data/2023_imagery/filtered/081_SPKMVL...          265  \n",
       "W1598009545  ../../../data/2023_imagery/filtered/081_SPKMVL...          158  \n",
       "W1598003695  ../../../data/2023_imagery/filtered/081_SPKMVL...          181  \n",
       "W1598000770  ../../../data/2023_imagery/filtered/081_SPKMVL...          188  \n",
       "W1597994920  ../../../data/2023_imagery/filtered/081_SPKMVL...          206  \n",
       "\n",
       "[1680 rows x 5 columns]"
      ]
     },
     "execution_count": 51,
     "metadata": {},
     "output_type": "execute_result"
    }
   ],
   "source": [
    "clean_res_df"
   ]
  },
  {
   "cell_type": "code",
   "execution_count": 52,
   "metadata": {},
   "outputs": [
    {
     "data": {
      "text/plain": [
       "0.8629617589126923"
      ]
     },
     "execution_count": 52,
     "metadata": {},
     "output_type": "execute_result"
    }
   ],
   "source": [
    "# percentage of pixels unaffected by image re-scaling that are cropped propperly\n",
    "(clean_res_df.y_length.sum() - clean_res_df.pixel_error.sum()) / clean_res_df.y_length.sum()"
   ]
  },
  {
   "cell_type": "code",
   "execution_count": 53,
   "metadata": {},
   "outputs": [
    {
     "data": {
      "text/plain": [
       "0.7108745166720597"
      ]
     },
     "execution_count": 53,
     "metadata": {},
     "output_type": "execute_result"
    }
   ],
   "source": [
    "# percentage of pixels unaffected by image re-scaling(including impropperly cropped images)\n",
    "\n",
    "res_df['pixel_error'] = res_df['y_length'].apply(lambda x: abs(x-336))\n",
    "(res_df.y_length.sum() - res_df.pixel_error.sum()) / res_df.y_length.sum()"
   ]
  },
  {
   "cell_type": "code",
   "execution_count": 54,
   "metadata": {},
   "outputs": [],
   "source": [
    "res_df.to_csv(\"training_image_resolution.csv\")"
   ]
  },
  {
   "attachments": {},
   "cell_type": "markdown",
   "metadata": {},
   "source": [
    "# Labeling the files that are all bad"
   ]
  },
  {
   "cell_type": "code",
   "execution_count": 55,
   "metadata": {},
   "outputs": [],
   "source": [
    "dirt_res_df = res_df.loc[res_df['y_length'] > 700]"
   ]
  },
  {
   "cell_type": "code",
   "execution_count": 56,
   "metadata": {},
   "outputs": [],
   "source": [
    "#putting bad infront of the improppelry cropped images\n",
    "\n",
    "# for filepath in dirt_res_df['full_path']:\n",
    "#     file_split = filepath.split(\"/\")\n",
    "\n",
    "#     new_filename = 'bad_'+file_split[-1]\n",
    "#     file_split[-1] = new_filename\n",
    "\n",
    "#     new_path = \"/\".join(map(str,file_split))\n",
    "\n",
    "#     os.rename(filepath, new_path)"
   ]
  }
 ],
 "metadata": {
  "kernelspec": {
   "display_name": "unet",
   "language": "python",
   "name": "python3"
  },
  "language_info": {
   "codemirror_mode": {
    "name": "ipython",
    "version": 3
   },
   "file_extension": ".py",
   "mimetype": "text/x-python",
   "name": "python",
   "nbconvert_exporter": "python",
   "pygments_lexer": "ipython3",
   "version": "3.10.8"
  },
  "orig_nbformat": 4
 },
 "nbformat": 4,
 "nbformat_minor": 2
}
