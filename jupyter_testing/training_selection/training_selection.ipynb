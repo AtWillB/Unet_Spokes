{
 "cells": [
  {
   "cell_type": "code",
   "execution_count": 3,
   "metadata": {},
   "outputs": [],
   "source": [
    "import matplotlib.pyplot as plt\n",
    "import pandas as pd\n",
    "import numpy as np\n",
    "import random\n",
    "\n",
    "import glob\n",
    "import os\n",
    "import shutil\n",
    "\n",
    "from PIL import Image\n",
    "import scipy.io as io\n",
    "import cv2"
   ]
  },
  {
   "cell_type": "code",
   "execution_count": 2,
   "metadata": {},
   "outputs": [
    {
     "data": {
      "text/plain": [
       "937"
      ]
     },
     "execution_count": 2,
     "metadata": {},
     "output_type": "execute_result"
    }
   ],
   "source": [
    "image_list = glob.glob(\"../../../data/2023_imagery/filtered/*/W*.png\")\n",
    "len(image_list)"
   ]
  },
  {
   "cell_type": "code",
   "execution_count": 3,
   "metadata": {},
   "outputs": [],
   "source": [
    "ML_ready = []\n",
    "random_index = random.sample(range(0, 937), 140)\n",
    "\n",
    "for i in range (0, 140):\n",
    "    selected_index = random_index[i]\n",
    "    ML_ready.append(image_list[selected_index])\n"
   ]
  },
  {
   "cell_type": "code",
   "execution_count": 4,
   "metadata": {},
   "outputs": [],
   "source": [
    "training_path = \"../../../data/training/images/\"\n",
    "new_files = []\n",
    "\n",
    "for file_path in ML_ready:\n",
    "    file_split = file_path.split(\"/\")\n",
    "\n",
    "    new_path = training_path + file_split[-1]\n",
    "    new_files.append(shutil.copy2(file_path, new_path))\n",
    "    "
   ]
  },
  {
   "cell_type": "code",
   "execution_count": 5,
   "metadata": {},
   "outputs": [
    {
     "data": {
      "text/plain": [
       "140"
      ]
     },
     "execution_count": 5,
     "metadata": {},
     "output_type": "execute_result"
    }
   ],
   "source": [
    "len(new_files)"
   ]
  },
  {
   "attachments": {},
   "cell_type": "markdown",
   "metadata": {},
   "source": [
    "# Doing same for dark"
   ]
  },
  {
   "cell_type": "code",
   "execution_count": 20,
   "metadata": {},
   "outputs": [
    {
     "name": "stdout",
     "output_type": "stream",
     "text": [
      "17\n",
      "40\n",
      "34\n",
      "35\n",
      "47\n",
      "49\n"
     ]
    }
   ],
   "source": [
    "folder1 = glob.glob(\"../../../data/2023_imagery/filtered/074_SPKLFMOV/*.png\")\n",
    "print(len(folder1))\n",
    "folder2 = glob.glob(\"../../../data/2023_imagery/filtered/081_SPKMVLFLP/*.png\")\n",
    "print(len(folder2))\n",
    "folder3 = glob.glob(\"../../../data/2023_imagery/filtered/085_SPKMVLFLP/*.png\")\n",
    "print(len(folder3))\n",
    "folder4 = glob.glob(\"../../../data/2023_imagery/filtered/086_SPKMVLFLP/*.png\")\n",
    "print(len(folder4))\n",
    "folder5 = glob.glob(\"../../../data/2023_imagery/filtered/088_SPKMVLFLP/*.png\")\n",
    "print(len(folder5))\n",
    "folder6 = glob.glob(\"../../../data/2023_imagery/filtered/094_SPKMVLFLP/*.png\")\n",
    "print(len(folder6))"
   ]
  },
  {
   "cell_type": "code",
   "execution_count": 21,
   "metadata": {},
   "outputs": [
    {
     "data": {
      "text/plain": [
       "222"
      ]
     },
     "execution_count": 21,
     "metadata": {},
     "output_type": "execute_result"
    }
   ],
   "source": [
    "dark_image_list = folder1+folder2+folder3+folder4+folder5+folder6\n",
    "len(dark_image_list)"
   ]
  },
  {
   "cell_type": "code",
   "execution_count": 22,
   "metadata": {},
   "outputs": [],
   "source": [
    "ML_ready = []\n",
    "random_index = random.sample(range(0, 222), 30)\n",
    "\n",
    "for i in range (0, 30):\n",
    "    selected_index = random_index[i]\n",
    "    ML_ready.append(dark_image_list[selected_index])\n"
   ]
  },
  {
   "cell_type": "code",
   "execution_count": 23,
   "metadata": {},
   "outputs": [],
   "source": [
    "training_path = \"../../../data/training/dark/images/\"\n",
    "new_files = []\n",
    "\n",
    "for file_path in ML_ready:\n",
    "    file_split = file_path.split(\"/\")\n",
    "\n",
    "    new_path = training_path + file_split[-1]\n",
    "    new_files.append(shutil.copy2(file_path, new_path))"
   ]
  }
 ],
 "metadata": {
  "kernelspec": {
   "display_name": "unet",
   "language": "python",
   "name": "python3"
  },
  "language_info": {
   "codemirror_mode": {
    "name": "ipython",
    "version": 3
   },
   "file_extension": ".py",
   "mimetype": "text/x-python",
   "name": "python",
   "nbconvert_exporter": "python",
   "pygments_lexer": "ipython3",
   "version": "3.10.8"
  },
  "orig_nbformat": 4
 },
 "nbformat": 4,
 "nbformat_minor": 2
}
