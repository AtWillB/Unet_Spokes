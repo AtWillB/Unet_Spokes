{
 "cells": [
  {
   "cell_type": "code",
   "execution_count": 89,
   "metadata": {},
   "outputs": [],
   "source": [
    "import glob\n",
    "import pandas as pd\n",
    "import numpy as np\n",
    "from PIL import Image\n",
    "import glob\n",
    "import re\n",
    "import math\n",
    "from pathlib import Path\n",
    "import os\n",
    "import matplotlib.pyplot as plt"
   ]
  },
  {
   "cell_type": "code",
   "execution_count": 62,
   "metadata": {},
   "outputs": [],
   "source": [
    "path_to_image_folder = \"../../data/training/images/\"\n",
    "path_to_mask_folder = \"../../data/training/masks/\""
   ]
  },
  {
   "cell_type": "code",
   "execution_count": 63,
   "metadata": {},
   "outputs": [],
   "source": [
    "image_paths = glob.glob(f\"{path_to_image_folder}*\")"
   ]
  },
  {
   "cell_type": "code",
   "execution_count": 64,
   "metadata": {},
   "outputs": [],
   "source": [
    "file_pattern = re.compile(r'.*?(\\d+).*?')\n",
    "def get_order(file):\n",
    "    match = file_pattern.match(Path(file).name)\n",
    "    if not match:\n",
    "        return math.inf\n",
    "    return int(match.groups()[0])"
   ]
  },
  {
   "cell_type": "code",
   "execution_count": 65,
   "metadata": {},
   "outputs": [
    {
     "data": {
      "text/plain": [
       "70"
      ]
     },
     "execution_count": 65,
     "metadata": {},
     "output_type": "execute_result"
    }
   ],
   "source": [
    "opus_ids = [path.split(\"/\")[-1].split(\".\")[0] for path in sorted(image_paths, key = get_order)]\n",
    "len(opus_ids[:70])"
   ]
  },
  {
   "cell_type": "code",
   "execution_count": 66,
   "metadata": {},
   "outputs": [
    {
     "data": {
      "text/plain": [
       "70"
      ]
     },
     "execution_count": 66,
     "metadata": {},
     "output_type": "execute_result"
    }
   ],
   "source": [
    "mask_paths = glob.glob(f\"{path_to_mask_folder}*\")\n",
    "len(mask_paths)"
   ]
  },
  {
   "cell_type": "code",
   "execution_count": 67,
   "metadata": {},
   "outputs": [],
   "source": [
    "indexes = [path.split(\"/\")[-1].split(\"-\")[1] for path in sorted(mask_paths, key=get_order)]"
   ]
  },
  {
   "cell_type": "code",
   "execution_count": 76,
   "metadata": {},
   "outputs": [],
   "source": [
    "for index, old_mask_path in zip(indexes, sorted(mask_paths, key=get_order)):\n",
    "    int_index = int(index) - 31\n",
    "    filename = opus_ids[int_index].split(\".\")[0]\n",
    "\n",
    "    old_mask_split = old_mask_path.split(\"/\")\n",
    "    old_mask_split[-1] = f\"mask_{filename}.png\"\n",
    "    \n",
    "    new_mask_path = \"/\".join(old_mask_split)\n",
    "    os.rename(old_mask_path, new_mask_path)\n",
    "    # print(new_mask_path)"
   ]
  },
  {
   "attachments": {},
   "cell_type": "markdown",
   "metadata": {},
   "source": [
    "# Doing the ones that don't get labeled"
   ]
  },
  {
   "cell_type": "code",
   "execution_count": 79,
   "metadata": {},
   "outputs": [],
   "source": [
    "indexes = [int(x) for x in indexes]"
   ]
  },
  {
   "cell_type": "code",
   "execution_count": 85,
   "metadata": {},
   "outputs": [],
   "source": [
    "no_spoke_indexes = [x-31 for x in indexes] "
   ]
  },
  {
   "cell_type": "code",
   "execution_count": 86,
   "metadata": {},
   "outputs": [],
   "source": [
    "no_spoke_indexes = [x for x in range(0, 140) if x not in no_spoke_indexes]"
   ]
  },
  {
   "cell_type": "code",
   "execution_count": 87,
   "metadata": {},
   "outputs": [
    {
     "data": {
      "text/plain": [
       "[50,\n",
       " 71,\n",
       " 72,\n",
       " 73,\n",
       " 74,\n",
       " 75,\n",
       " 76,\n",
       " 77,\n",
       " 78,\n",
       " 79,\n",
       " 80,\n",
       " 81,\n",
       " 82,\n",
       " 83,\n",
       " 84,\n",
       " 85,\n",
       " 86,\n",
       " 87,\n",
       " 88,\n",
       " 89,\n",
       " 90,\n",
       " 91,\n",
       " 92,\n",
       " 93,\n",
       " 94,\n",
       " 95,\n",
       " 96,\n",
       " 97,\n",
       " 98,\n",
       " 99,\n",
       " 100,\n",
       " 101,\n",
       " 102,\n",
       " 103,\n",
       " 104,\n",
       " 105,\n",
       " 106,\n",
       " 107,\n",
       " 108,\n",
       " 109,\n",
       " 110,\n",
       " 111,\n",
       " 112,\n",
       " 113,\n",
       " 114,\n",
       " 115,\n",
       " 116,\n",
       " 117,\n",
       " 118,\n",
       " 119,\n",
       " 120,\n",
       " 121,\n",
       " 122,\n",
       " 123,\n",
       " 124,\n",
       " 125,\n",
       " 126,\n",
       " 127,\n",
       " 128,\n",
       " 129,\n",
       " 130,\n",
       " 131,\n",
       " 132,\n",
       " 133,\n",
       " 134,\n",
       " 135,\n",
       " 136,\n",
       " 137,\n",
       " 138,\n",
       " 139]"
      ]
     },
     "execution_count": 87,
     "metadata": {},
     "output_type": "execute_result"
    }
   ],
   "source": [
    "no_spoke_indexes"
   ]
  },
  {
   "cell_type": "code",
   "execution_count": 100,
   "metadata": {},
   "outputs": [
    {
     "name": "stdout",
     "output_type": "stream",
     "text": [
      "W1630743791\n",
      "W1656621008\n",
      "W1766030604\n",
      "W1766036792\n",
      "W1766043864\n",
      "W1766045632\n",
      "W1766054472\n",
      "W1766057124\n",
      "W1766058008\n",
      "W1766065080\n",
      "W1766073920\n",
      "W1766077456\n",
      "W1766475429\n",
      "W1766481873\n",
      "W1766490465\n",
      "W1766507649\n",
      "W1766528055\n",
      "W1766540943\n",
      "W1766545239\n",
      "W1766550609\n",
      "W1766553831\n",
      "W1766555979\n",
      "W1766581755\n",
      "W1766583903\n",
      "W1766588199\n",
      "W1766589273\n",
      "W1768358295\n",
      "W1768362985\n",
      "W1768368345\n",
      "W1768369015\n",
      "W1768380405\n",
      "W1768386435\n",
      "W1768388445\n",
      "W1770859216\n",
      "W1770859918\n",
      "W1770861322\n",
      "W1770869044\n",
      "W1770880276\n",
      "W1770885892\n",
      "W1770887998\n",
      "W1770888700\n",
      "W1770895018\n",
      "W1770897826\n",
      "W1770900634\n",
      "W1770903442\n",
      "W1771094892\n",
      "W1771095552\n",
      "W1771096212\n",
      "W1771110732\n",
      "W1771114032\n",
      "W1771116672\n",
      "W1771123272\n",
      "W1771134492\n",
      "W1771267109\n",
      "W1771270789\n",
      "W1771280357\n",
      "W1771281829\n",
      "W1771295813\n",
      "W1771298021\n",
      "W1771304645\n",
      "W1771306117\n",
      "W1771308325\n",
      "W1771442324\n",
      "W1771445324\n",
      "W1771449824\n",
      "W1771452074\n",
      "W1771456574\n",
      "W1771473824\n",
      "W1771476824\n",
      "W1771483574\n"
     ]
    }
   ],
   "source": [
    "mask_path = \"../../data/training/masks/\"\n",
    "for no_spoke_index in no_spoke_indexes:\n",
    "    opus_id = opus_ids[no_spoke_index]\n",
    "    new_path = mask_path + \"mask_\"+opus_id+\".png\"\n",
    "\n",
    "    new_mask = np.zeros((160, 736))\n",
    "    print(opus_id)\n",
    "    plt.imsave(fname=new_path, arr=new_mask, cmap='gray', format='png', origin=\"lower\")\n",
    "    \n"
   ]
  },
  {
   "attachments": {},
   "cell_type": "markdown",
   "metadata": {},
   "source": [
    "# Sanity Check"
   ]
  },
  {
   "cell_type": "code",
   "execution_count": 101,
   "metadata": {},
   "outputs": [],
   "source": [
    "image_path = glob.glob(\"../../data/training/images/*\")\n",
    "image_opus = [x.split(\"/\")[-1].split(\".\")[0] for x in image_path]"
   ]
  },
  {
   "cell_type": "code",
   "execution_count": 103,
   "metadata": {},
   "outputs": [],
   "source": [
    "mask_path = glob.glob(\"../../data/training/masks/*\")\n",
    "mask_opus = [x.split(\"/\")[-1].split(\".\")[0].split(\"_\")[1] for x in mask_path]"
   ]
  },
  {
   "cell_type": "code",
   "execution_count": 105,
   "metadata": {},
   "outputs": [],
   "source": [
    "for x in image_opus:\n",
    "    if x not in mask_opus:\n",
    "        print(x)"
   ]
  }
 ],
 "metadata": {
  "kernelspec": {
   "display_name": "unet",
   "language": "python",
   "name": "python3"
  },
  "language_info": {
   "codemirror_mode": {
    "name": "ipython",
    "version": 3
   },
   "file_extension": ".py",
   "mimetype": "text/x-python",
   "name": "python",
   "nbconvert_exporter": "python",
   "pygments_lexer": "ipython3",
   "version": "3.10.8"
  },
  "orig_nbformat": 4
 },
 "nbformat": 4,
 "nbformat_minor": 2
}
