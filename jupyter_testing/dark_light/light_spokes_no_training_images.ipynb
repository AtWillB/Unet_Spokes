{
 "cells": [
  {
   "cell_type": "code",
   "execution_count": 1,
   "metadata": {},
   "outputs": [],
   "source": [
    "import glob\n",
    "import pandas as pd\n",
    "import numpy as np\n",
    "from PIL import Image\n",
    "import glob\n",
    "import re\n",
    "import math\n",
    "from pathlib import Path\n",
    "import os\n",
    "import matplotlib.pyplot as plt\n",
    "import shutil"
   ]
  },
  {
   "cell_type": "code",
   "execution_count": 3,
   "metadata": {},
   "outputs": [],
   "source": [
    "img_paths = glob.glob(\"../../data/2023_imagery/filtered/*/*.png\")\n",
    "img_list = [x.split(\"/\")[-1] for x in img_paths]"
   ]
  },
  {
   "cell_type": "code",
   "execution_count": 6,
   "metadata": {},
   "outputs": [],
   "source": [
    "training_img_paths = glob.glob(\"../../data/training/images/*.png\")\n",
    "training_img_list = [x.split(\"/\")[-1] for x in training_img_paths]"
   ]
  },
  {
   "cell_type": "code",
   "execution_count": 10,
   "metadata": {},
   "outputs": [],
   "source": [
    "light_spokes_list = []\n",
    "for x in img_list: \n",
    "    if x not in training_img_list:\n",
    "        light_spokes_list.append(x)"
   ]
  },
  {
   "cell_type": "code",
   "execution_count": 17,
   "metadata": {},
   "outputs": [],
   "source": [
    "light_spokes_path = \"../../data/training/light_spokes/\"\n",
    "for img_path in img_paths:\n",
    "    img_split= img_path.split(\"/\")\n",
    "    img_filename = img_split[-1]\n",
    "\n",
    "    new_path = light_spokes_path+img_filename\n",
    "    if img_filename in light_spokes_list:\n",
    "        shutil.copy2(img_path, new_path)\n",
    "    "
   ]
  },
  {
   "attachments": {},
   "cell_type": "markdown",
   "metadata": {},
   "source": [
    "# Doing same for dark"
   ]
  },
  {
   "cell_type": "code",
   "execution_count": 6,
   "metadata": {},
   "outputs": [
    {
     "name": "stdout",
     "output_type": "stream",
     "text": [
      "17\n",
      "40\n",
      "34\n",
      "35\n",
      "47\n",
      "49\n"
     ]
    }
   ],
   "source": [
    "folder1 = glob.glob(\"../../../data/2023_imagery/filtered/074_SPKLFMOV/*.png\")\n",
    "print(len(folder1))\n",
    "folder2 = glob.glob(\"../../../data/2023_imagery/filtered/081_SPKMVLFLP/*.png\")\n",
    "print(len(folder2))\n",
    "folder3 = glob.glob(\"../../../data/2023_imagery/filtered/085_SPKMVLFLP/*.png\")\n",
    "print(len(folder3))\n",
    "folder4 = glob.glob(\"../../../data/2023_imagery/filtered/086_SPKMVLFLP/*.png\")\n",
    "print(len(folder4))\n",
    "folder5 = glob.glob(\"../../../data/2023_imagery/filtered/088_SPKMVLFLP/*.png\")\n",
    "print(len(folder5))\n",
    "folder6 = glob.glob(\"../../../data/2023_imagery/filtered/094_SPKMVLFLP/*.png\")\n",
    "print(len(folder6))"
   ]
  },
  {
   "cell_type": "code",
   "execution_count": 7,
   "metadata": {},
   "outputs": [
    {
     "data": {
      "text/plain": [
       "222"
      ]
     },
     "execution_count": 7,
     "metadata": {},
     "output_type": "execute_result"
    }
   ],
   "source": [
    "all_dark_paths = folder1+folder2+folder3+folder4+folder5+folder6\n",
    "img_list = [x.split(\"/\")[-1] for x in all_dark_paths]\n",
    "len(img_list)"
   ]
  },
  {
   "cell_type": "code",
   "execution_count": 8,
   "metadata": {},
   "outputs": [
    {
     "data": {
      "text/plain": [
       "['W1593678128.png',\n",
       " 'W1593676089.png',\n",
       " 'W1593704635.png',\n",
       " 'W1593684245.png',\n",
       " 'W1593700557.png',\n",
       " 'W1593698518.png',\n",
       " 'W1593686284.png',\n",
       " 'W1593694440.png',\n",
       " 'W1593688323.png',\n",
       " 'W1593696479.png',\n",
       " 'W1593702596.png',\n",
       " 'W1593708713.png',\n",
       " 'W1593682206.png',\n",
       " 'W1593706674.png',\n",
       " 'W1593692401.png',\n",
       " 'W1593690362.png',\n",
       " 'W1593680167.png',\n",
       " 'W1597992970.png',\n",
       " 'W1597981270.png',\n",
       " 'W1597988095.png',\n",
       " 'W1597996870.png',\n",
       " 'W1597985170.png',\n",
       " 'W1597979320.png',\n",
       " 'W1597991995.png',\n",
       " 'W1597975420.png',\n",
       " 'W1597984195.png',\n",
       " 'W1597993945.png',\n",
       " 'W1597986145.png',\n",
       " 'W1598006620.png',\n",
       " 'W1598002720.png',\n",
       " 'W1597990045.png',\n",
       " 'W1597980295.png',\n",
       " 'W1597989070.png',\n",
       " 'W1597997845.png',\n",
       " 'W1597982245.png',\n",
       " 'W1597971520.png',\n",
       " 'W1597995895.png',\n",
       " 'W1598008570.png',\n",
       " 'W1597983220.png',\n",
       " 'W1598005645.png',\n",
       " 'W1597991020.png',\n",
       " 'W1597998820.png',\n",
       " 'W1598001745.png',\n",
       " 'W1597977370.png',\n",
       " 'W1597987120.png',\n",
       " 'W1597974445.png',\n",
       " 'W1597973470.png',\n",
       " 'W1597978345.png',\n",
       " 'W1598007595.png',\n",
       " 'W1597972495.png',\n",
       " 'W1597999795.png',\n",
       " 'W1598004670.png',\n",
       " 'W1597976395.png',\n",
       " 'W1598009545.png',\n",
       " 'W1598003695.png',\n",
       " 'W1598000770.png',\n",
       " 'W1597994920.png',\n",
       " 'W1600563372.png',\n",
       " 'W1600568582.png',\n",
       " 'W1600562330.png',\n",
       " 'W1600559204.png',\n",
       " 'W1600549826.png',\n",
       " 'W1600581086.png',\n",
       " 'W1600556078.png',\n",
       " 'W1600579002.png',\n",
       " 'W1600545658.png',\n",
       " 'W1600572750.png',\n",
       " 'W1600548784.png',\n",
       " 'W1600561288.png',\n",
       " 'W1600553994.png',\n",
       " 'W1600566498.png',\n",
       " 'W1600571708.png',\n",
       " 'W1600557120.png',\n",
       " 'W1600550868.png',\n",
       " 'W1600576918.png',\n",
       " 'W1600567540.png',\n",
       " 'W1600577960.png',\n",
       " 'W1600580044.png',\n",
       " 'W1600558162.png',\n",
       " 'W1600569624.png',\n",
       " 'W1600547742.png',\n",
       " 'W1600564414.png',\n",
       " 'W1600574834.png',\n",
       " 'W1600575876.png',\n",
       " 'W1600565456.png',\n",
       " 'W1600546700.png',\n",
       " 'W1600552952.png',\n",
       " 'W1600573792.png',\n",
       " 'W1600555036.png',\n",
       " 'W1600570666.png',\n",
       " 'W1600551910.png',\n",
       " 'W1601161684.png',\n",
       " 'W1601171904.png',\n",
       " 'W1601180080.png',\n",
       " 'W1601167816.png',\n",
       " 'W1601182124.png',\n",
       " 'W1601193366.png',\n",
       " 'W1601196432.png',\n",
       " 'W1601195410.png',\n",
       " 'W1601181102.png',\n",
       " 'W1601173948.png',\n",
       " 'W1601160662.png',\n",
       " 'W1601169860.png',\n",
       " 'W1601192344.png',\n",
       " 'W1601162706.png',\n",
       " 'W1601170882.png',\n",
       " 'W1601172926.png',\n",
       " 'W1601188256.png',\n",
       " 'W1601178036.png',\n",
       " 'W1601187234.png',\n",
       " 'W1601185190.png',\n",
       " 'W1601168838.png',\n",
       " 'W1601179058.png',\n",
       " 'W1601174970.png',\n",
       " 'W1601166794.png',\n",
       " 'W1601191322.png',\n",
       " 'W1601164750.png',\n",
       " 'W1601183146.png',\n",
       " 'W1601189278.png',\n",
       " 'W1601194388.png',\n",
       " 'W1601163728.png',\n",
       " 'W1601186212.png',\n",
       " 'W1601175992.png',\n",
       " 'W1601177014.png',\n",
       " 'W1601190300.png',\n",
       " 'W1601165772.png',\n",
       " 'W1602481160.png',\n",
       " 'W1602479426.png',\n",
       " 'W1602465554.png',\n",
       " 'W1602490697.png',\n",
       " 'W1602483761.png',\n",
       " 'W1602480293.png',\n",
       " 'W1602488963.png',\n",
       " 'W1602475958.png',\n",
       " 'W1602469022.png',\n",
       " 'W1602491564.png',\n",
       " 'W1602459485.png',\n",
       " 'W1602478559.png',\n",
       " 'W1602476825.png',\n",
       " 'W1602471623.png',\n",
       " 'W1602482027.png',\n",
       " 'W1602473357.png',\n",
       " 'W1602487229.png',\n",
       " 'W1602489830.png',\n",
       " 'W1602492431.png',\n",
       " 'W1602457751.png',\n",
       " 'W1602493298.png',\n",
       " 'W1602488096.png',\n",
       " 'W1602500234.png',\n",
       " 'W1602499367.png',\n",
       " 'W1602461219.png',\n",
       " 'W1602469889.png',\n",
       " 'W1602475091.png',\n",
       " 'W1602477692.png',\n",
       " 'W1602467288.png',\n",
       " 'W1602472490.png',\n",
       " 'W1602474224.png',\n",
       " 'W1602497633.png',\n",
       " 'W1602498500.png',\n",
       " 'W1602463820.png',\n",
       " 'W1602466421.png',\n",
       " 'W1602495032.png',\n",
       " 'W1602468155.png',\n",
       " 'W1602486362.png',\n",
       " 'W1602485495.png',\n",
       " 'W1602484628.png',\n",
       " 'W1602470756.png',\n",
       " 'W1602482894.png',\n",
       " 'W1602495899.png',\n",
       " 'W1602496766.png',\n",
       " 'W1602494165.png',\n",
       " 'W1602464687.png',\n",
       " 'W1602458618.png',\n",
       " 'W1606371503.png',\n",
       " 'W1606368495.png',\n",
       " 'W1606350447.png',\n",
       " 'W1606364735.png',\n",
       " 'W1606360223.png',\n",
       " 'W1606345935.png',\n",
       " 'W1606344431.png',\n",
       " 'W1606360975.png',\n",
       " 'W1606354959.png',\n",
       " 'W1606351951.png',\n",
       " 'W1606359471.png',\n",
       " 'W1606348191.png',\n",
       " 'W1606355711.png',\n",
       " 'W1606379775.png',\n",
       " 'W1606370751.png',\n",
       " 'W1606351199.png',\n",
       " 'W1606375263.png',\n",
       " 'W1606357215.png',\n",
       " 'W1606373759.png',\n",
       " 'W1606372255.png',\n",
       " 'W1606373007.png',\n",
       " 'W1606358719.png',\n",
       " 'W1606346687.png',\n",
       " 'W1606362479.png',\n",
       " 'W1606363983.png',\n",
       " 'W1606347439.png',\n",
       " 'W1606353455.png',\n",
       " 'W1606369247.png',\n",
       " 'W1606345183.png',\n",
       " 'W1606343679.png',\n",
       " 'W1606363231.png',\n",
       " 'W1606366991.png',\n",
       " 'W1606366239.png',\n",
       " 'W1606356463.png',\n",
       " 'W1606357967.png',\n",
       " 'W1606376767.png',\n",
       " 'W1606376015.png',\n",
       " 'W1606377519.png',\n",
       " 'W1606365487.png',\n",
       " 'W1606348943.png',\n",
       " 'W1606369999.png',\n",
       " 'W1606379023.png',\n",
       " 'W1606352703.png',\n",
       " 'W1606374511.png',\n",
       " 'W1606354207.png',\n",
       " 'W1606361727.png',\n",
       " 'W1606349695.png',\n",
       " 'W1606367743.png',\n",
       " 'W1606378271.png']"
      ]
     },
     "execution_count": 8,
     "metadata": {},
     "output_type": "execute_result"
    }
   ],
   "source": [
    "img_list"
   ]
  },
  {
   "cell_type": "code",
   "execution_count": 9,
   "metadata": {},
   "outputs": [
    {
     "data": {
      "text/plain": [
       "30"
      ]
     },
     "execution_count": 9,
     "metadata": {},
     "output_type": "execute_result"
    }
   ],
   "source": [
    "training_img_paths = glob.glob(\"../../../data/training/dark/images/*.png\")\n",
    "training_img_list = [x.split(\"/\")[-1] for x in training_img_paths]\n",
    "len(training_img_list)"
   ]
  },
  {
   "cell_type": "code",
   "execution_count": 10,
   "metadata": {},
   "outputs": [
    {
     "data": {
      "text/plain": [
       "['W1606371503.png',\n",
       " 'W1606359471.png',\n",
       " 'W1606351199.png',\n",
       " 'W1602492431.png',\n",
       " 'W1593694440.png',\n",
       " 'W1606363983.png',\n",
       " 'W1606347439.png',\n",
       " 'W1593708713.png',\n",
       " 'W1600571708.png',\n",
       " 'W1600557120.png',\n",
       " 'W1602497633.png',\n",
       " 'W1598001745.png',\n",
       " 'W1597977370.png',\n",
       " 'W1597987120.png',\n",
       " 'W1600580044.png',\n",
       " 'W1602466421.png',\n",
       " 'W1600558162.png',\n",
       " 'W1600569624.png',\n",
       " 'W1597999795.png',\n",
       " 'W1600574834.png',\n",
       " 'W1602485495.png',\n",
       " 'W1606352703.png',\n",
       " 'W1602484628.png',\n",
       " 'W1601194388.png',\n",
       " 'W1601163728.png',\n",
       " 'W1597976395.png',\n",
       " 'W1606361727.png',\n",
       " 'W1606367743.png',\n",
       " 'W1601177014.png',\n",
       " 'W1601190300.png']"
      ]
     },
     "execution_count": 10,
     "metadata": {},
     "output_type": "execute_result"
    }
   ],
   "source": [
    "training_img_list"
   ]
  },
  {
   "cell_type": "code",
   "execution_count": 11,
   "metadata": {},
   "outputs": [],
   "source": [
    "dark_spokes_list = []\n",
    "for x in img_list: \n",
    "    if x not in training_img_list:\n",
    "        dark_spokes_list.append(x)"
   ]
  },
  {
   "cell_type": "code",
   "execution_count": 14,
   "metadata": {},
   "outputs": [],
   "source": [
    "dark_spokes_path = \"../../../data/training/dark/dark_spokes/\"\n",
    "for img_path in all_dark_paths:\n",
    "    img_split= img_path.split(\"/\")\n",
    "    img_filename = img_split[-1]\n",
    "\n",
    "    new_path = dark_spokes_path+img_filename\n",
    "    if img_filename in dark_spokes_list:\n",
    "        shutil.copy2(img_path, new_path)"
   ]
  }
 ],
 "metadata": {
  "kernelspec": {
   "display_name": "unet",
   "language": "python",
   "name": "python3"
  },
  "language_info": {
   "codemirror_mode": {
    "name": "ipython",
    "version": 3
   },
   "file_extension": ".py",
   "mimetype": "text/x-python",
   "name": "python",
   "nbconvert_exporter": "python",
   "pygments_lexer": "ipython3",
   "version": "3.10.8"
  },
  "orig_nbformat": 4
 },
 "nbformat": 4,
 "nbformat_minor": 2
}
