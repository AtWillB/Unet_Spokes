{
 "cells": [
  {
   "cell_type": "code",
   "execution_count": 8,
   "metadata": {},
   "outputs": [],
   "source": [
    "import glob\n",
    "import pandas as pd\n",
    "import numpy as np\n",
    "from PIL import Image\n",
    "import glob\n",
    "import re\n",
    "import math\n",
    "from pathlib import Path\n",
    "import os\n",
    "import matplotlib.pyplot as plt\n",
    "import shutil"
   ]
  },
  {
   "cell_type": "code",
   "execution_count": 3,
   "metadata": {},
   "outputs": [],
   "source": [
    "img_paths = glob.glob(\"../../data/2023_imagery/filtered/*/*.png\")\n",
    "img_list = [x.split(\"/\")[-1] for x in img_paths]"
   ]
  },
  {
   "cell_type": "code",
   "execution_count": 6,
   "metadata": {},
   "outputs": [],
   "source": [
    "training_img_paths = glob.glob(\"../../data/training/images/*.png\")\n",
    "training_img_list = [x.split(\"/\")[-1] for x in training_img_paths]"
   ]
  },
  {
   "cell_type": "code",
   "execution_count": 10,
   "metadata": {},
   "outputs": [],
   "source": [
    "light_spokes_list = []\n",
    "for x in img_list: \n",
    "    if x not in training_img_list:\n",
    "        light_spokes_list.append(x)"
   ]
  },
  {
   "cell_type": "code",
   "execution_count": 17,
   "metadata": {},
   "outputs": [],
   "source": [
    "light_spokes_path = \"../../data/training/light_spokes/\"\n",
    "for img_path in img_paths:\n",
    "    img_split= img_path.split(\"/\")\n",
    "    img_filename = img_split[-1]\n",
    "\n",
    "    new_path = light_spokes_path+img_filename\n",
    "    if img_filename in light_spokes_list:\n",
    "        shutil.copy2(img_path, new_path)\n",
    "    "
   ]
  }
 ],
 "metadata": {
  "kernelspec": {
   "display_name": "unet",
   "language": "python",
   "name": "python3"
  },
  "language_info": {
   "codemirror_mode": {
    "name": "ipython",
    "version": 3
   },
   "file_extension": ".py",
   "mimetype": "text/x-python",
   "name": "python",
   "nbconvert_exporter": "python",
   "pygments_lexer": "ipython3",
   "version": "3.10.8"
  },
  "orig_nbformat": 4
 },
 "nbformat": 4,
 "nbformat_minor": 2
}
