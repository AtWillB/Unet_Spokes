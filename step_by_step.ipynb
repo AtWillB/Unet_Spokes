{
 "cells": [
  {
   "cell_type": "code",
   "execution_count": 2,
   "metadata": {},
   "outputs": [
    {
     "name": "stdout",
     "output_type": "stream",
     "text": [
      "Collecting segmentation_models\n",
      "  Downloading segmentation_models-1.0.1-py3-none-any.whl (33 kB)\n",
      "Collecting efficientnet==1.0.0\n",
      "  Downloading efficientnet-1.0.0-py3-none-any.whl (17 kB)\n",
      "Collecting keras-applications<=1.0.8,>=1.0.7\n",
      "  Downloading Keras_Applications-1.0.8-py3-none-any.whl (50 kB)\n",
      "\u001b[2K     \u001b[90m━━━━━━━━━━━━━━━━━━━━━━━━━━━━━━━━━━━━━━━━\u001b[0m \u001b[32m50.7/50.7 kB\u001b[0m \u001b[31m12.7 MB/s\u001b[0m eta \u001b[36m0:00:00\u001b[0m\n",
      "\u001b[?25hCollecting image-classifiers==1.0.0\n",
      "  Downloading image_classifiers-1.0.0-py3-none-any.whl (19 kB)\n",
      "Requirement already satisfied: scikit-image in /usr/local/lib/python3.9/dist-packages (from efficientnet==1.0.0->segmentation_models) (0.19.3)\n",
      "Requirement already satisfied: numpy>=1.9.1 in /usr/local/lib/python3.9/dist-packages (from keras-applications<=1.0.8,>=1.0.7->segmentation_models) (1.23.1)\n",
      "Requirement already satisfied: h5py in /usr/local/lib/python3.9/dist-packages (from keras-applications<=1.0.8,>=1.0.7->segmentation_models) (3.7.0)\n",
      "Requirement already satisfied: tifffile>=2019.7.26 in /usr/local/lib/python3.9/dist-packages (from scikit-image->efficientnet==1.0.0->segmentation_models) (2022.5.4)\n",
      "Requirement already satisfied: networkx>=2.2 in /usr/local/lib/python3.9/dist-packages (from scikit-image->efficientnet==1.0.0->segmentation_models) (2.8.4)\n",
      "Requirement already satisfied: imageio>=2.4.1 in /usr/local/lib/python3.9/dist-packages (from scikit-image->efficientnet==1.0.0->segmentation_models) (2.19.3)\n",
      "Requirement already satisfied: scipy>=1.4.1 in /usr/local/lib/python3.9/dist-packages (from scikit-image->efficientnet==1.0.0->segmentation_models) (1.8.1)\n",
      "Requirement already satisfied: pillow!=7.1.0,!=7.1.1,!=8.3.0,>=6.1.0 in /usr/local/lib/python3.9/dist-packages (from scikit-image->efficientnet==1.0.0->segmentation_models) (9.2.0)\n",
      "Requirement already satisfied: PyWavelets>=1.1.1 in /usr/local/lib/python3.9/dist-packages (from scikit-image->efficientnet==1.0.0->segmentation_models) (1.3.0)\n",
      "Requirement already satisfied: packaging>=20.0 in /usr/local/lib/python3.9/dist-packages (from scikit-image->efficientnet==1.0.0->segmentation_models) (21.3)\n",
      "Requirement already satisfied: pyparsing!=3.0.5,>=2.0.2 in /usr/local/lib/python3.9/dist-packages (from packaging>=20.0->scikit-image->efficientnet==1.0.0->segmentation_models) (3.0.9)\n",
      "Installing collected packages: keras-applications, image-classifiers, efficientnet, segmentation_models\n",
      "Successfully installed efficientnet-1.0.0 image-classifiers-1.0.0 keras-applications-1.0.8 segmentation_models-1.0.1\n",
      "\u001b[33mWARNING: Running pip as the 'root' user can result in broken permissions and conflicting behaviour with the system package manager. It is recommended to use a virtual environment instead: https://pip.pypa.io/warnings/venv\u001b[0m\u001b[33m\n",
      "\u001b[0m"
     ]
    }
   ],
   "source": [
    "! pip install segmentation_models"
   ]
  },
  {
   "cell_type": "code",
   "execution_count": 3,
   "metadata": {},
   "outputs": [
    {
     "name": "stdout",
     "output_type": "stream",
     "text": [
      "Segmentation Models: using `keras` framework.\n"
     ]
    }
   ],
   "source": [
    "import tensorflow as tf\n",
    "from tensorflow import keras\n",
    "from keras.layers import Input, Conv2D\n",
    "from keras.models import Model\n",
    "from keras.utils import normalize\n",
    "import segmentation_models as sm\n",
    "from sklearn.model_selection import train_test_split\n",
    "\n",
    "\n",
    "#path sorting\n",
    "import glob\n",
    "import cv2\n",
    "from pathlib import Path\n",
    "import re\n",
    "\n",
    "#math\n",
    "import numpy as np\n",
    "import matplotlib.pyplot as plt\n",
    "import math\n",
    "import pandas as pd"
   ]
  },
  {
   "cell_type": "code",
   "execution_count": 6,
   "metadata": {},
   "outputs": [],
   "source": [
    "training_path = \"../datasets/\"\n",
    "\n",
    "X = []\n",
    "Y = []\n",
    "\n",
    "\n",
    "\n",
    "#regex pattern I copied to sort filepaths in ascending order\n",
    "file_pattern = re.compile(r'.*?(\\d+).*?')\n",
    "def get_order(file):\n",
    "    match = file_pattern.match(Path(file).name)\n",
    "    if not match:\n",
    "        return math.inf\n",
    "    return int(match.groups()[0])"
   ]
  },
  {
   "cell_type": "code",
   "execution_count": 157,
   "metadata": {},
   "outputs": [],
   "source": [
    "\n",
    "for img_path in sorted(glob.glob(training_path+\"light_spokes_training_images/*.png\"), key=get_order):\n",
    "    img = cv2.imread(img_path, cv2.IMREAD_GRAYSCALE)\n",
    "    X.append(img)\n",
    "\n",
    "    \n",
    "    \n",
    "for mask_path in sorted(glob.glob(training_path+\"light_spokes_training_masks/*.png\"), key=get_order):\n",
    "    mask = cv2.imread(mask_path, cv2.IMREAD_GRAYSCALE)\n",
    "    mask[mask != 0] = 255\n",
    "    Y.append(mask)\n",
    "\n",
    "X = normalize(np.array(X), axis=1)\n",
    "Y = (np.array(Y))/255."
   ]
  },
  {
   "cell_type": "code",
   "execution_count": 158,
   "metadata": {},
   "outputs": [],
   "source": [
    "# train/test split\n",
    "x_train, x_test, y_train, y_test = train_test_split(X,Y, test_size = 0.15, random_state = 42)"
   ]
  },
  {
   "cell_type": "code",
   "execution_count": 159,
   "metadata": {},
   "outputs": [],
   "source": [
    "SIZE_Y, SIZE_X = X.shape[1], X.shape[2]\n",
    "# 160, 736"
   ]
  },
  {
   "cell_type": "code",
   "execution_count": 160,
   "metadata": {},
   "outputs": [
    {
     "name": "stdout",
     "output_type": "stream",
     "text": [
      "(119, 160, 736)\n",
      "(21, 160, 736)\n",
      "(119, 160, 736)\n",
      "(21, 160, 736)\n"
     ]
    }
   ],
   "source": [
    "print(x_train.shape)\n",
    "print(x_test.shape)\n",
    "print(y_train.shape)\n",
    "print(y_test.shape)"
   ]
  },
  {
   "cell_type": "code",
   "execution_count": 161,
   "metadata": {},
   "outputs": [
    {
     "name": "stdout",
     "output_type": "stream",
     "text": [
      "Model: \"model_5\"\n",
      "__________________________________________________________________________________________________\n",
      " Layer (type)                   Output Shape         Param #     Connected to                     \n",
      "==================================================================================================\n",
      " data (InputLayer)              [(None, 160, 736, 1  0           []                               \n",
      "                                )]                                                                \n",
      "                                                                                                  \n",
      " bn_data (BatchNormalization)   (None, 160, 736, 1)  3           ['data[0][0]']                   \n",
      "                                                                                                  \n",
      " zero_padding2d_68 (ZeroPadding  (None, 166, 742, 1)  0          ['bn_data[0][0]']                \n",
      " 2D)                                                                                              \n",
      "                                                                                                  \n",
      " conv0 (Conv2D)                 (None, 80, 368, 64)  3136        ['zero_padding2d_68[0][0]']      \n",
      "                                                                                                  \n",
      " bn0 (BatchNormalization)       (None, 80, 368, 64)  256         ['conv0[0][0]']                  \n",
      "                                                                                                  \n",
      " relu0 (Activation)             (None, 80, 368, 64)  0           ['bn0[0][0]']                    \n",
      "                                                                                                  \n",
      " zero_padding2d_69 (ZeroPadding  (None, 82, 370, 64)  0          ['relu0[0][0]']                  \n",
      " 2D)                                                                                              \n",
      "                                                                                                  \n",
      " pooling0 (MaxPooling2D)        (None, 40, 184, 64)  0           ['zero_padding2d_69[0][0]']      \n",
      "                                                                                                  \n",
      " stage1_unit1_bn1 (BatchNormali  (None, 40, 184, 64)  256        ['pooling0[0][0]']               \n",
      " zation)                                                                                          \n",
      "                                                                                                  \n",
      " stage1_unit1_relu1 (Activation  (None, 40, 184, 64)  0          ['stage1_unit1_bn1[0][0]']       \n",
      " )                                                                                                \n",
      "                                                                                                  \n",
      " zero_padding2d_70 (ZeroPadding  (None, 42, 186, 64)  0          ['stage1_unit1_relu1[0][0]']     \n",
      " 2D)                                                                                              \n",
      "                                                                                                  \n",
      " stage1_unit1_conv1 (Conv2D)    (None, 40, 184, 64)  36864       ['zero_padding2d_70[0][0]']      \n",
      "                                                                                                  \n",
      " stage1_unit1_bn2 (BatchNormali  (None, 40, 184, 64)  256        ['stage1_unit1_conv1[0][0]']     \n",
      " zation)                                                                                          \n",
      "                                                                                                  \n",
      " stage1_unit1_relu2 (Activation  (None, 40, 184, 64)  0          ['stage1_unit1_bn2[0][0]']       \n",
      " )                                                                                                \n",
      "                                                                                                  \n",
      " zero_padding2d_71 (ZeroPadding  (None, 42, 186, 64)  0          ['stage1_unit1_relu2[0][0]']     \n",
      " 2D)                                                                                              \n",
      "                                                                                                  \n",
      " stage1_unit1_conv2 (Conv2D)    (None, 40, 184, 64)  36864       ['zero_padding2d_71[0][0]']      \n",
      "                                                                                                  \n",
      " stage1_unit1_sc (Conv2D)       (None, 40, 184, 64)  4096        ['stage1_unit1_relu1[0][0]']     \n",
      "                                                                                                  \n",
      " add_32 (Add)                   (None, 40, 184, 64)  0           ['stage1_unit1_conv2[0][0]',     \n",
      "                                                                  'stage1_unit1_sc[0][0]']        \n",
      "                                                                                                  \n",
      " stage1_unit2_bn1 (BatchNormali  (None, 40, 184, 64)  256        ['add_32[0][0]']                 \n",
      " zation)                                                                                          \n",
      "                                                                                                  \n",
      " stage1_unit2_relu1 (Activation  (None, 40, 184, 64)  0          ['stage1_unit2_bn1[0][0]']       \n",
      " )                                                                                                \n",
      "                                                                                                  \n",
      " zero_padding2d_72 (ZeroPadding  (None, 42, 186, 64)  0          ['stage1_unit2_relu1[0][0]']     \n",
      " 2D)                                                                                              \n",
      "                                                                                                  \n",
      " stage1_unit2_conv1 (Conv2D)    (None, 40, 184, 64)  36864       ['zero_padding2d_72[0][0]']      \n",
      "                                                                                                  \n",
      " stage1_unit2_bn2 (BatchNormali  (None, 40, 184, 64)  256        ['stage1_unit2_conv1[0][0]']     \n",
      " zation)                                                                                          \n",
      "                                                                                                  \n",
      " stage1_unit2_relu2 (Activation  (None, 40, 184, 64)  0          ['stage1_unit2_bn2[0][0]']       \n",
      " )                                                                                                \n",
      "                                                                                                  \n",
      " zero_padding2d_73 (ZeroPadding  (None, 42, 186, 64)  0          ['stage1_unit2_relu2[0][0]']     \n",
      " 2D)                                                                                              \n",
      "                                                                                                  \n",
      " stage1_unit2_conv2 (Conv2D)    (None, 40, 184, 64)  36864       ['zero_padding2d_73[0][0]']      \n",
      "                                                                                                  \n",
      " add_33 (Add)                   (None, 40, 184, 64)  0           ['stage1_unit2_conv2[0][0]',     \n",
      "                                                                  'add_32[0][0]']                 \n",
      "                                                                                                  \n",
      " stage1_unit3_bn1 (BatchNormali  (None, 40, 184, 64)  256        ['add_33[0][0]']                 \n",
      " zation)                                                                                          \n",
      "                                                                                                  \n",
      " stage1_unit3_relu1 (Activation  (None, 40, 184, 64)  0          ['stage1_unit3_bn1[0][0]']       \n",
      " )                                                                                                \n",
      "                                                                                                  \n",
      " zero_padding2d_74 (ZeroPadding  (None, 42, 186, 64)  0          ['stage1_unit3_relu1[0][0]']     \n",
      " 2D)                                                                                              \n",
      "                                                                                                  \n",
      " stage1_unit3_conv1 (Conv2D)    (None, 40, 184, 64)  36864       ['zero_padding2d_74[0][0]']      \n",
      "                                                                                                  \n",
      " stage1_unit3_bn2 (BatchNormali  (None, 40, 184, 64)  256        ['stage1_unit3_conv1[0][0]']     \n",
      " zation)                                                                                          \n",
      "                                                                                                  \n",
      " stage1_unit3_relu2 (Activation  (None, 40, 184, 64)  0          ['stage1_unit3_bn2[0][0]']       \n",
      " )                                                                                                \n",
      "                                                                                                  \n",
      " zero_padding2d_75 (ZeroPadding  (None, 42, 186, 64)  0          ['stage1_unit3_relu2[0][0]']     \n",
      " 2D)                                                                                              \n",
      "                                                                                                  \n",
      " stage1_unit3_conv2 (Conv2D)    (None, 40, 184, 64)  36864       ['zero_padding2d_75[0][0]']      \n",
      "                                                                                                  \n",
      " add_34 (Add)                   (None, 40, 184, 64)  0           ['stage1_unit3_conv2[0][0]',     \n",
      "                                                                  'add_33[0][0]']                 \n",
      "                                                                                                  \n",
      " stage2_unit1_bn1 (BatchNormali  (None, 40, 184, 64)  256        ['add_34[0][0]']                 \n",
      " zation)                                                                                          \n",
      "                                                                                                  \n",
      " stage2_unit1_relu1 (Activation  (None, 40, 184, 64)  0          ['stage2_unit1_bn1[0][0]']       \n",
      " )                                                                                                \n",
      "                                                                                                  \n",
      " zero_padding2d_76 (ZeroPadding  (None, 42, 186, 64)  0          ['stage2_unit1_relu1[0][0]']     \n",
      " 2D)                                                                                              \n",
      "                                                                                                  \n",
      " stage2_unit1_conv1 (Conv2D)    (None, 20, 92, 128)  73728       ['zero_padding2d_76[0][0]']      \n",
      "                                                                                                  \n",
      " stage2_unit1_bn2 (BatchNormali  (None, 20, 92, 128)  512        ['stage2_unit1_conv1[0][0]']     \n",
      " zation)                                                                                          \n",
      "                                                                                                  \n",
      " stage2_unit1_relu2 (Activation  (None, 20, 92, 128)  0          ['stage2_unit1_bn2[0][0]']       \n",
      " )                                                                                                \n",
      "                                                                                                  \n",
      " zero_padding2d_77 (ZeroPadding  (None, 22, 94, 128)  0          ['stage2_unit1_relu2[0][0]']     \n",
      " 2D)                                                                                              \n",
      "                                                                                                  \n",
      " stage2_unit1_conv2 (Conv2D)    (None, 20, 92, 128)  147456      ['zero_padding2d_77[0][0]']      \n",
      "                                                                                                  \n",
      " stage2_unit1_sc (Conv2D)       (None, 20, 92, 128)  8192        ['stage2_unit1_relu1[0][0]']     \n",
      "                                                                                                  \n",
      " add_35 (Add)                   (None, 20, 92, 128)  0           ['stage2_unit1_conv2[0][0]',     \n",
      "                                                                  'stage2_unit1_sc[0][0]']        \n",
      "                                                                                                  \n",
      " stage2_unit2_bn1 (BatchNormali  (None, 20, 92, 128)  512        ['add_35[0][0]']                 \n",
      " zation)                                                                                          \n",
      "                                                                                                  \n",
      " stage2_unit2_relu1 (Activation  (None, 20, 92, 128)  0          ['stage2_unit2_bn1[0][0]']       \n",
      " )                                                                                                \n",
      "                                                                                                  \n",
      " zero_padding2d_78 (ZeroPadding  (None, 22, 94, 128)  0          ['stage2_unit2_relu1[0][0]']     \n",
      " 2D)                                                                                              \n",
      "                                                                                                  \n",
      " stage2_unit2_conv1 (Conv2D)    (None, 20, 92, 128)  147456      ['zero_padding2d_78[0][0]']      \n",
      "                                                                                                  \n",
      " stage2_unit2_bn2 (BatchNormali  (None, 20, 92, 128)  512        ['stage2_unit2_conv1[0][0]']     \n",
      " zation)                                                                                          \n",
      "                                                                                                  \n",
      " stage2_unit2_relu2 (Activation  (None, 20, 92, 128)  0          ['stage2_unit2_bn2[0][0]']       \n",
      " )                                                                                                \n",
      "                                                                                                  \n",
      " zero_padding2d_79 (ZeroPadding  (None, 22, 94, 128)  0          ['stage2_unit2_relu2[0][0]']     \n",
      " 2D)                                                                                              \n",
      "                                                                                                  \n",
      " stage2_unit2_conv2 (Conv2D)    (None, 20, 92, 128)  147456      ['zero_padding2d_79[0][0]']      \n",
      "                                                                                                  \n",
      " add_36 (Add)                   (None, 20, 92, 128)  0           ['stage2_unit2_conv2[0][0]',     \n",
      "                                                                  'add_35[0][0]']                 \n",
      "                                                                                                  \n",
      " stage2_unit3_bn1 (BatchNormali  (None, 20, 92, 128)  512        ['add_36[0][0]']                 \n",
      " zation)                                                                                          \n",
      "                                                                                                  \n",
      " stage2_unit3_relu1 (Activation  (None, 20, 92, 128)  0          ['stage2_unit3_bn1[0][0]']       \n",
      " )                                                                                                \n",
      "                                                                                                  \n",
      " zero_padding2d_80 (ZeroPadding  (None, 22, 94, 128)  0          ['stage2_unit3_relu1[0][0]']     \n",
      " 2D)                                                                                              \n",
      "                                                                                                  \n",
      " stage2_unit3_conv1 (Conv2D)    (None, 20, 92, 128)  147456      ['zero_padding2d_80[0][0]']      \n",
      "                                                                                                  \n",
      " stage2_unit3_bn2 (BatchNormali  (None, 20, 92, 128)  512        ['stage2_unit3_conv1[0][0]']     \n",
      " zation)                                                                                          \n",
      "                                                                                                  \n",
      " stage2_unit3_relu2 (Activation  (None, 20, 92, 128)  0          ['stage2_unit3_bn2[0][0]']       \n",
      " )                                                                                                \n",
      "                                                                                                  \n",
      " zero_padding2d_81 (ZeroPadding  (None, 22, 94, 128)  0          ['stage2_unit3_relu2[0][0]']     \n",
      " 2D)                                                                                              \n",
      "                                                                                                  \n",
      " stage2_unit3_conv2 (Conv2D)    (None, 20, 92, 128)  147456      ['zero_padding2d_81[0][0]']      \n",
      "                                                                                                  \n",
      " add_37 (Add)                   (None, 20, 92, 128)  0           ['stage2_unit3_conv2[0][0]',     \n",
      "                                                                  'add_36[0][0]']                 \n",
      "                                                                                                  \n",
      " stage2_unit4_bn1 (BatchNormali  (None, 20, 92, 128)  512        ['add_37[0][0]']                 \n",
      " zation)                                                                                          \n",
      "                                                                                                  \n",
      " stage2_unit4_relu1 (Activation  (None, 20, 92, 128)  0          ['stage2_unit4_bn1[0][0]']       \n",
      " )                                                                                                \n",
      "                                                                                                  \n",
      " zero_padding2d_82 (ZeroPadding  (None, 22, 94, 128)  0          ['stage2_unit4_relu1[0][0]']     \n",
      " 2D)                                                                                              \n",
      "                                                                                                  \n",
      " stage2_unit4_conv1 (Conv2D)    (None, 20, 92, 128)  147456      ['zero_padding2d_82[0][0]']      \n",
      "                                                                                                  \n",
      " stage2_unit4_bn2 (BatchNormali  (None, 20, 92, 128)  512        ['stage2_unit4_conv1[0][0]']     \n",
      " zation)                                                                                          \n",
      "                                                                                                  \n",
      " stage2_unit4_relu2 (Activation  (None, 20, 92, 128)  0          ['stage2_unit4_bn2[0][0]']       \n",
      " )                                                                                                \n",
      "                                                                                                  \n",
      " zero_padding2d_83 (ZeroPadding  (None, 22, 94, 128)  0          ['stage2_unit4_relu2[0][0]']     \n",
      " 2D)                                                                                              \n",
      "                                                                                                  \n",
      " stage2_unit4_conv2 (Conv2D)    (None, 20, 92, 128)  147456      ['zero_padding2d_83[0][0]']      \n",
      "                                                                                                  \n",
      " add_38 (Add)                   (None, 20, 92, 128)  0           ['stage2_unit4_conv2[0][0]',     \n",
      "                                                                  'add_37[0][0]']                 \n",
      "                                                                                                  \n",
      " stage3_unit1_bn1 (BatchNormali  (None, 20, 92, 128)  512        ['add_38[0][0]']                 \n",
      " zation)                                                                                          \n",
      "                                                                                                  \n",
      " stage3_unit1_relu1 (Activation  (None, 20, 92, 128)  0          ['stage3_unit1_bn1[0][0]']       \n",
      " )                                                                                                \n",
      "                                                                                                  \n",
      " zero_padding2d_84 (ZeroPadding  (None, 22, 94, 128)  0          ['stage3_unit1_relu1[0][0]']     \n",
      " 2D)                                                                                              \n",
      "                                                                                                  \n",
      " stage3_unit1_conv1 (Conv2D)    (None, 10, 46, 256)  294912      ['zero_padding2d_84[0][0]']      \n",
      "                                                                                                  \n",
      " stage3_unit1_bn2 (BatchNormali  (None, 10, 46, 256)  1024       ['stage3_unit1_conv1[0][0]']     \n",
      " zation)                                                                                          \n",
      "                                                                                                  \n",
      " stage3_unit1_relu2 (Activation  (None, 10, 46, 256)  0          ['stage3_unit1_bn2[0][0]']       \n",
      " )                                                                                                \n",
      "                                                                                                  \n",
      " zero_padding2d_85 (ZeroPadding  (None, 12, 48, 256)  0          ['stage3_unit1_relu2[0][0]']     \n",
      " 2D)                                                                                              \n",
      "                                                                                                  \n",
      " stage3_unit1_conv2 (Conv2D)    (None, 10, 46, 256)  589824      ['zero_padding2d_85[0][0]']      \n",
      "                                                                                                  \n",
      " stage3_unit1_sc (Conv2D)       (None, 10, 46, 256)  32768       ['stage3_unit1_relu1[0][0]']     \n",
      "                                                                                                  \n",
      " add_39 (Add)                   (None, 10, 46, 256)  0           ['stage3_unit1_conv2[0][0]',     \n",
      "                                                                  'stage3_unit1_sc[0][0]']        \n",
      "                                                                                                  \n",
      " stage3_unit2_bn1 (BatchNormali  (None, 10, 46, 256)  1024       ['add_39[0][0]']                 \n",
      " zation)                                                                                          \n",
      "                                                                                                  \n",
      " stage3_unit2_relu1 (Activation  (None, 10, 46, 256)  0          ['stage3_unit2_bn1[0][0]']       \n",
      " )                                                                                                \n",
      "                                                                                                  \n",
      " zero_padding2d_86 (ZeroPadding  (None, 12, 48, 256)  0          ['stage3_unit2_relu1[0][0]']     \n",
      " 2D)                                                                                              \n",
      "                                                                                                  \n",
      " stage3_unit2_conv1 (Conv2D)    (None, 10, 46, 256)  589824      ['zero_padding2d_86[0][0]']      \n",
      "                                                                                                  \n",
      " stage3_unit2_bn2 (BatchNormali  (None, 10, 46, 256)  1024       ['stage3_unit2_conv1[0][0]']     \n",
      " zation)                                                                                          \n",
      "                                                                                                  \n",
      " stage3_unit2_relu2 (Activation  (None, 10, 46, 256)  0          ['stage3_unit2_bn2[0][0]']       \n",
      " )                                                                                                \n",
      "                                                                                                  \n",
      " zero_padding2d_87 (ZeroPadding  (None, 12, 48, 256)  0          ['stage3_unit2_relu2[0][0]']     \n",
      " 2D)                                                                                              \n",
      "                                                                                                  \n",
      " stage3_unit2_conv2 (Conv2D)    (None, 10, 46, 256)  589824      ['zero_padding2d_87[0][0]']      \n",
      "                                                                                                  \n",
      " add_40 (Add)                   (None, 10, 46, 256)  0           ['stage3_unit2_conv2[0][0]',     \n",
      "                                                                  'add_39[0][0]']                 \n",
      "                                                                                                  \n",
      " stage3_unit3_bn1 (BatchNormali  (None, 10, 46, 256)  1024       ['add_40[0][0]']                 \n",
      " zation)                                                                                          \n",
      "                                                                                                  \n",
      " stage3_unit3_relu1 (Activation  (None, 10, 46, 256)  0          ['stage3_unit3_bn1[0][0]']       \n",
      " )                                                                                                \n",
      "                                                                                                  \n",
      " zero_padding2d_88 (ZeroPadding  (None, 12, 48, 256)  0          ['stage3_unit3_relu1[0][0]']     \n",
      " 2D)                                                                                              \n",
      "                                                                                                  \n",
      " stage3_unit3_conv1 (Conv2D)    (None, 10, 46, 256)  589824      ['zero_padding2d_88[0][0]']      \n",
      "                                                                                                  \n",
      " stage3_unit3_bn2 (BatchNormali  (None, 10, 46, 256)  1024       ['stage3_unit3_conv1[0][0]']     \n",
      " zation)                                                                                          \n",
      "                                                                                                  \n",
      " stage3_unit3_relu2 (Activation  (None, 10, 46, 256)  0          ['stage3_unit3_bn2[0][0]']       \n",
      " )                                                                                                \n",
      "                                                                                                  \n",
      " zero_padding2d_89 (ZeroPadding  (None, 12, 48, 256)  0          ['stage3_unit3_relu2[0][0]']     \n",
      " 2D)                                                                                              \n",
      "                                                                                                  \n",
      " stage3_unit3_conv2 (Conv2D)    (None, 10, 46, 256)  589824      ['zero_padding2d_89[0][0]']      \n",
      "                                                                                                  \n",
      " add_41 (Add)                   (None, 10, 46, 256)  0           ['stage3_unit3_conv2[0][0]',     \n",
      "                                                                  'add_40[0][0]']                 \n",
      "                                                                                                  \n",
      " stage3_unit4_bn1 (BatchNormali  (None, 10, 46, 256)  1024       ['add_41[0][0]']                 \n",
      " zation)                                                                                          \n",
      "                                                                                                  \n",
      " stage3_unit4_relu1 (Activation  (None, 10, 46, 256)  0          ['stage3_unit4_bn1[0][0]']       \n",
      " )                                                                                                \n",
      "                                                                                                  \n",
      " zero_padding2d_90 (ZeroPadding  (None, 12, 48, 256)  0          ['stage3_unit4_relu1[0][0]']     \n",
      " 2D)                                                                                              \n",
      "                                                                                                  \n",
      " stage3_unit4_conv1 (Conv2D)    (None, 10, 46, 256)  589824      ['zero_padding2d_90[0][0]']      \n",
      "                                                                                                  \n",
      " stage3_unit4_bn2 (BatchNormali  (None, 10, 46, 256)  1024       ['stage3_unit4_conv1[0][0]']     \n",
      " zation)                                                                                          \n",
      "                                                                                                  \n",
      " stage3_unit4_relu2 (Activation  (None, 10, 46, 256)  0          ['stage3_unit4_bn2[0][0]']       \n",
      " )                                                                                                \n",
      "                                                                                                  \n",
      " zero_padding2d_91 (ZeroPadding  (None, 12, 48, 256)  0          ['stage3_unit4_relu2[0][0]']     \n",
      " 2D)                                                                                              \n",
      "                                                                                                  \n",
      " stage3_unit4_conv2 (Conv2D)    (None, 10, 46, 256)  589824      ['zero_padding2d_91[0][0]']      \n",
      "                                                                                                  \n",
      " add_42 (Add)                   (None, 10, 46, 256)  0           ['stage3_unit4_conv2[0][0]',     \n",
      "                                                                  'add_41[0][0]']                 \n",
      "                                                                                                  \n",
      " stage3_unit5_bn1 (BatchNormali  (None, 10, 46, 256)  1024       ['add_42[0][0]']                 \n",
      " zation)                                                                                          \n",
      "                                                                                                  \n",
      " stage3_unit5_relu1 (Activation  (None, 10, 46, 256)  0          ['stage3_unit5_bn1[0][0]']       \n",
      " )                                                                                                \n",
      "                                                                                                  \n",
      " zero_padding2d_92 (ZeroPadding  (None, 12, 48, 256)  0          ['stage3_unit5_relu1[0][0]']     \n",
      " 2D)                                                                                              \n",
      "                                                                                                  \n",
      " stage3_unit5_conv1 (Conv2D)    (None, 10, 46, 256)  589824      ['zero_padding2d_92[0][0]']      \n",
      "                                                                                                  \n",
      " stage3_unit5_bn2 (BatchNormali  (None, 10, 46, 256)  1024       ['stage3_unit5_conv1[0][0]']     \n",
      " zation)                                                                                          \n",
      "                                                                                                  \n",
      " stage3_unit5_relu2 (Activation  (None, 10, 46, 256)  0          ['stage3_unit5_bn2[0][0]']       \n",
      " )                                                                                                \n",
      "                                                                                                  \n",
      " zero_padding2d_93 (ZeroPadding  (None, 12, 48, 256)  0          ['stage3_unit5_relu2[0][0]']     \n",
      " 2D)                                                                                              \n",
      "                                                                                                  \n",
      " stage3_unit5_conv2 (Conv2D)    (None, 10, 46, 256)  589824      ['zero_padding2d_93[0][0]']      \n",
      "                                                                                                  \n",
      " add_43 (Add)                   (None, 10, 46, 256)  0           ['stage3_unit5_conv2[0][0]',     \n",
      "                                                                  'add_42[0][0]']                 \n",
      "                                                                                                  \n",
      " stage3_unit6_bn1 (BatchNormali  (None, 10, 46, 256)  1024       ['add_43[0][0]']                 \n",
      " zation)                                                                                          \n",
      "                                                                                                  \n",
      " stage3_unit6_relu1 (Activation  (None, 10, 46, 256)  0          ['stage3_unit6_bn1[0][0]']       \n",
      " )                                                                                                \n",
      "                                                                                                  \n",
      " zero_padding2d_94 (ZeroPadding  (None, 12, 48, 256)  0          ['stage3_unit6_relu1[0][0]']     \n",
      " 2D)                                                                                              \n",
      "                                                                                                  \n",
      " stage3_unit6_conv1 (Conv2D)    (None, 10, 46, 256)  589824      ['zero_padding2d_94[0][0]']      \n",
      "                                                                                                  \n",
      " stage3_unit6_bn2 (BatchNormali  (None, 10, 46, 256)  1024       ['stage3_unit6_conv1[0][0]']     \n",
      " zation)                                                                                          \n",
      "                                                                                                  \n",
      " stage3_unit6_relu2 (Activation  (None, 10, 46, 256)  0          ['stage3_unit6_bn2[0][0]']       \n",
      " )                                                                                                \n",
      "                                                                                                  \n",
      " zero_padding2d_95 (ZeroPadding  (None, 12, 48, 256)  0          ['stage3_unit6_relu2[0][0]']     \n",
      " 2D)                                                                                              \n",
      "                                                                                                  \n",
      " stage3_unit6_conv2 (Conv2D)    (None, 10, 46, 256)  589824      ['zero_padding2d_95[0][0]']      \n",
      "                                                                                                  \n",
      " add_44 (Add)                   (None, 10, 46, 256)  0           ['stage3_unit6_conv2[0][0]',     \n",
      "                                                                  'add_43[0][0]']                 \n",
      "                                                                                                  \n",
      " stage4_unit1_bn1 (BatchNormali  (None, 10, 46, 256)  1024       ['add_44[0][0]']                 \n",
      " zation)                                                                                          \n",
      "                                                                                                  \n",
      " stage4_unit1_relu1 (Activation  (None, 10, 46, 256)  0          ['stage4_unit1_bn1[0][0]']       \n",
      " )                                                                                                \n",
      "                                                                                                  \n",
      " zero_padding2d_96 (ZeroPadding  (None, 12, 48, 256)  0          ['stage4_unit1_relu1[0][0]']     \n",
      " 2D)                                                                                              \n",
      "                                                                                                  \n",
      " stage4_unit1_conv1 (Conv2D)    (None, 5, 23, 512)   1179648     ['zero_padding2d_96[0][0]']      \n",
      "                                                                                                  \n",
      " stage4_unit1_bn2 (BatchNormali  (None, 5, 23, 512)  2048        ['stage4_unit1_conv1[0][0]']     \n",
      " zation)                                                                                          \n",
      "                                                                                                  \n",
      " stage4_unit1_relu2 (Activation  (None, 5, 23, 512)  0           ['stage4_unit1_bn2[0][0]']       \n",
      " )                                                                                                \n",
      "                                                                                                  \n",
      " zero_padding2d_97 (ZeroPadding  (None, 7, 25, 512)  0           ['stage4_unit1_relu2[0][0]']     \n",
      " 2D)                                                                                              \n",
      "                                                                                                  \n",
      " stage4_unit1_conv2 (Conv2D)    (None, 5, 23, 512)   2359296     ['zero_padding2d_97[0][0]']      \n",
      "                                                                                                  \n",
      " stage4_unit1_sc (Conv2D)       (None, 5, 23, 512)   131072      ['stage4_unit1_relu1[0][0]']     \n",
      "                                                                                                  \n",
      " add_45 (Add)                   (None, 5, 23, 512)   0           ['stage4_unit1_conv2[0][0]',     \n",
      "                                                                  'stage4_unit1_sc[0][0]']        \n",
      "                                                                                                  \n",
      " stage4_unit2_bn1 (BatchNormali  (None, 5, 23, 512)  2048        ['add_45[0][0]']                 \n",
      " zation)                                                                                          \n",
      "                                                                                                  \n",
      " stage4_unit2_relu1 (Activation  (None, 5, 23, 512)  0           ['stage4_unit2_bn1[0][0]']       \n",
      " )                                                                                                \n",
      "                                                                                                  \n",
      " zero_padding2d_98 (ZeroPadding  (None, 7, 25, 512)  0           ['stage4_unit2_relu1[0][0]']     \n",
      " 2D)                                                                                              \n",
      "                                                                                                  \n",
      " stage4_unit2_conv1 (Conv2D)    (None, 5, 23, 512)   2359296     ['zero_padding2d_98[0][0]']      \n",
      "                                                                                                  \n",
      " stage4_unit2_bn2 (BatchNormali  (None, 5, 23, 512)  2048        ['stage4_unit2_conv1[0][0]']     \n",
      " zation)                                                                                          \n",
      "                                                                                                  \n",
      " stage4_unit2_relu2 (Activation  (None, 5, 23, 512)  0           ['stage4_unit2_bn2[0][0]']       \n",
      " )                                                                                                \n",
      "                                                                                                  \n",
      " zero_padding2d_99 (ZeroPadding  (None, 7, 25, 512)  0           ['stage4_unit2_relu2[0][0]']     \n",
      " 2D)                                                                                              \n",
      "                                                                                                  \n",
      " stage4_unit2_conv2 (Conv2D)    (None, 5, 23, 512)   2359296     ['zero_padding2d_99[0][0]']      \n",
      "                                                                                                  \n",
      " add_46 (Add)                   (None, 5, 23, 512)   0           ['stage4_unit2_conv2[0][0]',     \n",
      "                                                                  'add_45[0][0]']                 \n",
      "                                                                                                  \n",
      " stage4_unit3_bn1 (BatchNormali  (None, 5, 23, 512)  2048        ['add_46[0][0]']                 \n",
      " zation)                                                                                          \n",
      "                                                                                                  \n",
      " stage4_unit3_relu1 (Activation  (None, 5, 23, 512)  0           ['stage4_unit3_bn1[0][0]']       \n",
      " )                                                                                                \n",
      "                                                                                                  \n",
      " zero_padding2d_100 (ZeroPaddin  (None, 7, 25, 512)  0           ['stage4_unit3_relu1[0][0]']     \n",
      " g2D)                                                                                             \n",
      "                                                                                                  \n",
      " stage4_unit3_conv1 (Conv2D)    (None, 5, 23, 512)   2359296     ['zero_padding2d_100[0][0]']     \n",
      "                                                                                                  \n",
      " stage4_unit3_bn2 (BatchNormali  (None, 5, 23, 512)  2048        ['stage4_unit3_conv1[0][0]']     \n",
      " zation)                                                                                          \n",
      "                                                                                                  \n",
      " stage4_unit3_relu2 (Activation  (None, 5, 23, 512)  0           ['stage4_unit3_bn2[0][0]']       \n",
      " )                                                                                                \n",
      "                                                                                                  \n",
      " zero_padding2d_101 (ZeroPaddin  (None, 7, 25, 512)  0           ['stage4_unit3_relu2[0][0]']     \n",
      " g2D)                                                                                             \n",
      "                                                                                                  \n",
      " stage4_unit3_conv2 (Conv2D)    (None, 5, 23, 512)   2359296     ['zero_padding2d_101[0][0]']     \n",
      "                                                                                                  \n",
      " add_47 (Add)                   (None, 5, 23, 512)   0           ['stage4_unit3_conv2[0][0]',     \n",
      "                                                                  'add_46[0][0]']                 \n",
      "                                                                                                  \n",
      " bn1 (BatchNormalization)       (None, 5, 23, 512)   2048        ['add_47[0][0]']                 \n",
      "                                                                                                  \n",
      " relu1 (Activation)             (None, 5, 23, 512)   0           ['bn1[0][0]']                    \n",
      "                                                                                                  \n",
      " decoder_stage0_upsampling (UpS  (None, 10, 46, 512)  0          ['relu1[0][0]']                  \n",
      " ampling2D)                                                                                       \n",
      "                                                                                                  \n",
      " decoder_stage0_concat (Concate  (None, 10, 46, 768)  0          ['decoder_stage0_upsampling[0][0]\n",
      " nate)                                                           ',                               \n",
      "                                                                  'stage4_unit1_relu1[0][0]']     \n",
      "                                                                                                  \n",
      " decoder_stage0a_conv (Conv2D)  (None, 10, 46, 256)  1769472     ['decoder_stage0_concat[0][0]']  \n",
      "                                                                                                  \n",
      " decoder_stage0a_bn (BatchNorma  (None, 10, 46, 256)  1024       ['decoder_stage0a_conv[0][0]']   \n",
      " lization)                                                                                        \n",
      "                                                                                                  \n",
      " decoder_stage0a_relu (Activati  (None, 10, 46, 256)  0          ['decoder_stage0a_bn[0][0]']     \n",
      " on)                                                                                              \n",
      "                                                                                                  \n",
      " decoder_stage0b_conv (Conv2D)  (None, 10, 46, 256)  589824      ['decoder_stage0a_relu[0][0]']   \n",
      "                                                                                                  \n",
      " decoder_stage0b_bn (BatchNorma  (None, 10, 46, 256)  1024       ['decoder_stage0b_conv[0][0]']   \n",
      " lization)                                                                                        \n",
      "                                                                                                  \n",
      " decoder_stage0b_relu (Activati  (None, 10, 46, 256)  0          ['decoder_stage0b_bn[0][0]']     \n",
      " on)                                                                                              \n",
      "                                                                                                  \n",
      " decoder_stage1_upsampling (UpS  (None, 20, 92, 256)  0          ['decoder_stage0b_relu[0][0]']   \n",
      " ampling2D)                                                                                       \n",
      "                                                                                                  \n",
      " decoder_stage1_concat (Concate  (None, 20, 92, 384)  0          ['decoder_stage1_upsampling[0][0]\n",
      " nate)                                                           ',                               \n",
      "                                                                  'stage3_unit1_relu1[0][0]']     \n",
      "                                                                                                  \n",
      " decoder_stage1a_conv (Conv2D)  (None, 20, 92, 128)  442368      ['decoder_stage1_concat[0][0]']  \n",
      "                                                                                                  \n",
      " decoder_stage1a_bn (BatchNorma  (None, 20, 92, 128)  512        ['decoder_stage1a_conv[0][0]']   \n",
      " lization)                                                                                        \n",
      "                                                                                                  \n",
      " decoder_stage1a_relu (Activati  (None, 20, 92, 128)  0          ['decoder_stage1a_bn[0][0]']     \n",
      " on)                                                                                              \n",
      "                                                                                                  \n",
      " decoder_stage1b_conv (Conv2D)  (None, 20, 92, 128)  147456      ['decoder_stage1a_relu[0][0]']   \n",
      "                                                                                                  \n",
      " decoder_stage1b_bn (BatchNorma  (None, 20, 92, 128)  512        ['decoder_stage1b_conv[0][0]']   \n",
      " lization)                                                                                        \n",
      "                                                                                                  \n",
      " decoder_stage1b_relu (Activati  (None, 20, 92, 128)  0          ['decoder_stage1b_bn[0][0]']     \n",
      " on)                                                                                              \n",
      "                                                                                                  \n",
      " decoder_stage2_upsampling (UpS  (None, 40, 184, 128  0          ['decoder_stage1b_relu[0][0]']   \n",
      " ampling2D)                     )                                                                 \n",
      "                                                                                                  \n",
      " decoder_stage2_concat (Concate  (None, 40, 184, 192  0          ['decoder_stage2_upsampling[0][0]\n",
      " nate)                          )                                ',                               \n",
      "                                                                  'stage2_unit1_relu1[0][0]']     \n",
      "                                                                                                  \n",
      " decoder_stage2a_conv (Conv2D)  (None, 40, 184, 64)  110592      ['decoder_stage2_concat[0][0]']  \n",
      "                                                                                                  \n",
      " decoder_stage2a_bn (BatchNorma  (None, 40, 184, 64)  256        ['decoder_stage2a_conv[0][0]']   \n",
      " lization)                                                                                        \n",
      "                                                                                                  \n",
      " decoder_stage2a_relu (Activati  (None, 40, 184, 64)  0          ['decoder_stage2a_bn[0][0]']     \n",
      " on)                                                                                              \n",
      "                                                                                                  \n",
      " decoder_stage2b_conv (Conv2D)  (None, 40, 184, 64)  36864       ['decoder_stage2a_relu[0][0]']   \n",
      "                                                                                                  \n",
      " decoder_stage2b_bn (BatchNorma  (None, 40, 184, 64)  256        ['decoder_stage2b_conv[0][0]']   \n",
      " lization)                                                                                        \n",
      "                                                                                                  \n",
      " decoder_stage2b_relu (Activati  (None, 40, 184, 64)  0          ['decoder_stage2b_bn[0][0]']     \n",
      " on)                                                                                              \n",
      "                                                                                                  \n",
      " decoder_stage3_upsampling (UpS  (None, 80, 368, 64)  0          ['decoder_stage2b_relu[0][0]']   \n",
      " ampling2D)                                                                                       \n",
      "                                                                                                  \n",
      " decoder_stage3_concat (Concate  (None, 80, 368, 128  0          ['decoder_stage3_upsampling[0][0]\n",
      " nate)                          )                                ',                               \n",
      "                                                                  'relu0[0][0]']                  \n",
      "                                                                                                  \n",
      " decoder_stage3a_conv (Conv2D)  (None, 80, 368, 32)  36864       ['decoder_stage3_concat[0][0]']  \n",
      "                                                                                                  \n",
      " decoder_stage3a_bn (BatchNorma  (None, 80, 368, 32)  128        ['decoder_stage3a_conv[0][0]']   \n",
      " lization)                                                                                        \n",
      "                                                                                                  \n",
      " decoder_stage3a_relu (Activati  (None, 80, 368, 32)  0          ['decoder_stage3a_bn[0][0]']     \n",
      " on)                                                                                              \n",
      "                                                                                                  \n",
      " decoder_stage3b_conv (Conv2D)  (None, 80, 368, 32)  9216        ['decoder_stage3a_relu[0][0]']   \n",
      "                                                                                                  \n",
      " decoder_stage3b_bn (BatchNorma  (None, 80, 368, 32)  128        ['decoder_stage3b_conv[0][0]']   \n",
      " lization)                                                                                        \n",
      "                                                                                                  \n",
      " decoder_stage3b_relu (Activati  (None, 80, 368, 32)  0          ['decoder_stage3b_bn[0][0]']     \n",
      " on)                                                                                              \n",
      "                                                                                                  \n",
      " decoder_stage4_upsampling (UpS  (None, 160, 736, 32  0          ['decoder_stage3b_relu[0][0]']   \n",
      " ampling2D)                     )                                                                 \n",
      "                                                                                                  \n",
      " decoder_stage4a_conv (Conv2D)  (None, 160, 736, 16  4608        ['decoder_stage4_upsampling[0][0]\n",
      "                                )                                ']                               \n",
      "                                                                                                  \n",
      " decoder_stage4a_bn (BatchNorma  (None, 160, 736, 16  64         ['decoder_stage4a_conv[0][0]']   \n",
      " lization)                      )                                                                 \n",
      "                                                                                                  \n",
      " decoder_stage4a_relu (Activati  (None, 160, 736, 16  0          ['decoder_stage4a_bn[0][0]']     \n",
      " on)                            )                                                                 \n",
      "                                                                                                  \n",
      " decoder_stage4b_conv (Conv2D)  (None, 160, 736, 16  2304        ['decoder_stage4a_relu[0][0]']   \n",
      "                                )                                                                 \n",
      "                                                                                                  \n",
      " decoder_stage4b_bn (BatchNorma  (None, 160, 736, 16  64         ['decoder_stage4b_conv[0][0]']   \n",
      " lization)                      )                                                                 \n",
      "                                                                                                  \n",
      " decoder_stage4b_relu (Activati  (None, 160, 736, 16  0          ['decoder_stage4b_bn[0][0]']     \n",
      " on)                            )                                                                 \n",
      "                                                                                                  \n",
      " final_conv (Conv2D)            (None, 160, 736, 1)  145         ['decoder_stage4b_relu[0][0]']   \n",
      "                                                                                                  \n",
      " sigmoid (Activation)           (None, 160, 736, 1)  0           ['final_conv[0][0]']             \n",
      "                                                                                                  \n",
      "==================================================================================================\n",
      "Total params: 24,449,876\n",
      "Trainable params: 24,432,530\n",
      "Non-trainable params: 17,346\n",
      "__________________________________________________________________________________________________\n",
      "None\n"
     ]
    }
   ],
   "source": [
    "model = sm.Unet(backbone_name=\"resnet34\", encoder_weights = None, input_shape=(SIZE_Y,SIZE_X, 1))\n",
    "model.compile(optimizer = \"Adam\" , loss = \"binary_crossentropy\", metrics = [sm.metrics.IOUScore()], )\n",
    "print(model.summary())"
   ]
  },
  {
   "cell_type": "code",
   "execution_count": 162,
   "metadata": {},
   "outputs": [
    {
     "name": "stdout",
     "output_type": "stream",
     "text": [
      "Epoch 1/300\n",
      "10/10 [==============================] - 6s 216ms/step - loss: 0.5603 - iou_score: 0.0143 - val_loss: 5.5118 - val_iou_score: 2.3514e-11\n",
      "Epoch 2/300\n",
      "10/10 [==============================] - 1s 136ms/step - loss: 0.2693 - iou_score: 0.0150 - val_loss: 11.0553 - val_iou_score: 0.0150\n",
      "Epoch 3/300\n",
      "10/10 [==============================] - 1s 136ms/step - loss: 0.1734 - iou_score: 0.0163 - val_loss: 7.1748 - val_iou_score: 0.0110\n",
      "Epoch 4/300\n",
      "10/10 [==============================] - 1s 136ms/step - loss: 0.1331 - iou_score: 0.0172 - val_loss: 0.1704 - val_iou_score: 1.5148e-09\n",
      "Epoch 5/300\n",
      "10/10 [==============================] - 1s 136ms/step - loss: 0.1084 - iou_score: 0.0252 - val_loss: 3.3016 - val_iou_score: 9.0971e-04\n",
      "Epoch 6/300\n",
      "10/10 [==============================] - 1s 135ms/step - loss: 0.0927 - iou_score: 0.0285 - val_loss: 8.2916 - val_iou_score: 0.0194\n",
      "Epoch 7/300\n",
      "10/10 [==============================] - 1s 136ms/step - loss: 0.0810 - iou_score: 0.0382 - val_loss: 0.7551 - val_iou_score: 1.4694e-04\n",
      "Epoch 8/300\n",
      "10/10 [==============================] - 1s 135ms/step - loss: 0.0711 - iou_score: 0.0482 - val_loss: 0.6387 - val_iou_score: 0.0049\n",
      "Epoch 9/300\n",
      "10/10 [==============================] - 1s 137ms/step - loss: 0.0633 - iou_score: 0.0580 - val_loss: 0.2979 - val_iou_score: 4.2692e-10\n",
      "Epoch 10/300\n",
      "10/10 [==============================] - 1s 137ms/step - loss: 0.0596 - iou_score: 0.0655 - val_loss: 0.8211 - val_iou_score: 0.0080\n",
      "Epoch 11/300\n",
      "10/10 [==============================] - 1s 136ms/step - loss: 0.0548 - iou_score: 0.0785 - val_loss: 0.1749 - val_iou_score: 1.3472e-09\n",
      "Epoch 12/300\n",
      "10/10 [==============================] - 1s 136ms/step - loss: 0.0541 - iou_score: 0.0719 - val_loss: 0.1709 - val_iou_score: 1.2890e-09\n",
      "Epoch 13/300\n",
      "10/10 [==============================] - 1s 137ms/step - loss: 0.0493 - iou_score: 0.1010 - val_loss: 0.1799 - val_iou_score: 1.6361e-08\n",
      "Epoch 14/300\n",
      "10/10 [==============================] - 1s 137ms/step - loss: 0.0454 - iou_score: 0.1205 - val_loss: 0.2268 - val_iou_score: 0.0167\n",
      "Epoch 15/300\n",
      "10/10 [==============================] - 1s 138ms/step - loss: 0.0472 - iou_score: 0.1187 - val_loss: 0.0921 - val_iou_score: 0.0095\n",
      "Epoch 16/300\n",
      "10/10 [==============================] - 1s 137ms/step - loss: 0.0446 - iou_score: 0.1139 - val_loss: 0.0752 - val_iou_score: 0.0092\n",
      "Epoch 17/300\n",
      "10/10 [==============================] - 1s 137ms/step - loss: 0.0396 - iou_score: 0.1565 - val_loss: 0.0924 - val_iou_score: 0.0140\n",
      "Epoch 18/300\n",
      "10/10 [==============================] - 1s 137ms/step - loss: 0.0366 - iou_score: 0.1898 - val_loss: 0.0848 - val_iou_score: 0.0111\n",
      "Epoch 19/300\n",
      "10/10 [==============================] - 1s 137ms/step - loss: 0.0382 - iou_score: 0.1724 - val_loss: 0.1018 - val_iou_score: 0.0090\n",
      "Epoch 20/300\n",
      "10/10 [==============================] - 1s 138ms/step - loss: 0.0346 - iou_score: 0.2077 - val_loss: 0.0766 - val_iou_score: 0.0381\n",
      "Epoch 21/300\n",
      "10/10 [==============================] - 1s 139ms/step - loss: 0.0345 - iou_score: 0.2003 - val_loss: 0.0559 - val_iou_score: 0.0183\n",
      "Epoch 22/300\n",
      "10/10 [==============================] - 1s 137ms/step - loss: 0.0311 - iou_score: 0.2459 - val_loss: 0.0676 - val_iou_score: 0.0671\n",
      "Epoch 23/300\n",
      "10/10 [==============================] - 1s 140ms/step - loss: 0.0296 - iou_score: 0.2766 - val_loss: 0.0858 - val_iou_score: 0.0795\n",
      "Epoch 24/300\n",
      "10/10 [==============================] - 1s 138ms/step - loss: 0.0294 - iou_score: 0.2772 - val_loss: 0.0626 - val_iou_score: 0.1130\n",
      "Epoch 25/300\n",
      "10/10 [==============================] - 1s 139ms/step - loss: 0.0290 - iou_score: 0.2598 - val_loss: 0.0603 - val_iou_score: 0.1405\n",
      "Epoch 26/300\n",
      "10/10 [==============================] - 1s 139ms/step - loss: 0.0285 - iou_score: 0.2656 - val_loss: 0.0544 - val_iou_score: 0.1529\n",
      "Epoch 27/300\n",
      "10/10 [==============================] - 1s 139ms/step - loss: 0.0266 - iou_score: 0.2853 - val_loss: 0.0750 - val_iou_score: 0.1312\n",
      "Epoch 28/300\n",
      "10/10 [==============================] - 1s 139ms/step - loss: 0.0242 - iou_score: 0.3279 - val_loss: 0.0625 - val_iou_score: 0.1478\n",
      "Epoch 29/300\n",
      "10/10 [==============================] - 1s 140ms/step - loss: 0.0254 - iou_score: 0.3294 - val_loss: 0.0358 - val_iou_score: 0.1917\n",
      "Epoch 30/300\n",
      "10/10 [==============================] - 1s 139ms/step - loss: 0.0238 - iou_score: 0.3341 - val_loss: 0.0267 - val_iou_score: 0.2299\n",
      "Epoch 31/300\n",
      "10/10 [==============================] - 1s 151ms/step - loss: 0.0248 - iou_score: 0.3254 - val_loss: 0.0407 - val_iou_score: 0.1954\n",
      "Epoch 32/300\n",
      "10/10 [==============================] - 1s 140ms/step - loss: 0.0235 - iou_score: 0.3512 - val_loss: 0.0398 - val_iou_score: 0.2056\n",
      "Epoch 33/300\n",
      "10/10 [==============================] - 1s 139ms/step - loss: 0.0230 - iou_score: 0.3504 - val_loss: 0.0389 - val_iou_score: 0.2022\n",
      "Epoch 34/300\n",
      "10/10 [==============================] - 1s 139ms/step - loss: 0.0213 - iou_score: 0.3779 - val_loss: 0.0352 - val_iou_score: 0.2208\n",
      "Epoch 35/300\n",
      "10/10 [==============================] - 1s 139ms/step - loss: 0.0217 - iou_score: 0.3748 - val_loss: 0.0220 - val_iou_score: 0.2911\n",
      "Epoch 36/300\n",
      "10/10 [==============================] - 1s 140ms/step - loss: 0.0213 - iou_score: 0.3730 - val_loss: 0.0227 - val_iou_score: 0.2686\n",
      "Epoch 37/300\n",
      "10/10 [==============================] - 1s 140ms/step - loss: 0.0225 - iou_score: 0.3582 - val_loss: 0.0242 - val_iou_score: 0.2743\n",
      "Epoch 38/300\n",
      "10/10 [==============================] - 1s 139ms/step - loss: 0.0228 - iou_score: 0.3483 - val_loss: 0.0378 - val_iou_score: 0.2167\n",
      "Epoch 39/300\n",
      "10/10 [==============================] - 1s 139ms/step - loss: 0.0210 - iou_score: 0.3690 - val_loss: 0.0646 - val_iou_score: 0.1420\n",
      "Epoch 40/300\n",
      "10/10 [==============================] - 1s 140ms/step - loss: 0.0217 - iou_score: 0.3624 - val_loss: 0.0320 - val_iou_score: 0.2457\n",
      "Epoch 41/300\n",
      "10/10 [==============================] - 1s 140ms/step - loss: 0.0209 - iou_score: 0.3867 - val_loss: 0.0354 - val_iou_score: 0.2359\n",
      "Epoch 42/300\n",
      "10/10 [==============================] - 1s 139ms/step - loss: 0.0197 - iou_score: 0.3943 - val_loss: 0.0277 - val_iou_score: 0.2726\n",
      "Epoch 43/300\n",
      "10/10 [==============================] - 1s 140ms/step - loss: 0.0190 - iou_score: 0.4241 - val_loss: 0.0224 - val_iou_score: 0.3140\n",
      "Epoch 44/300\n",
      "10/10 [==============================] - 1s 140ms/step - loss: 0.0191 - iou_score: 0.3963 - val_loss: 0.0339 - val_iou_score: 0.2157\n",
      "Epoch 45/300\n",
      "10/10 [==============================] - 1s 140ms/step - loss: 0.0195 - iou_score: 0.4062 - val_loss: 0.0192 - val_iou_score: 0.3499\n",
      "Epoch 46/300\n",
      "10/10 [==============================] - 1s 140ms/step - loss: 0.0186 - iou_score: 0.4303 - val_loss: 0.0290 - val_iou_score: 0.2476\n",
      "Epoch 47/300\n",
      "10/10 [==============================] - 1s 139ms/step - loss: 0.0176 - iou_score: 0.4332 - val_loss: 0.0209 - val_iou_score: 0.3512\n",
      "Epoch 48/300\n",
      "10/10 [==============================] - 1s 140ms/step - loss: 0.0177 - iou_score: 0.4313 - val_loss: 0.0204 - val_iou_score: 0.3711\n",
      "Epoch 49/300\n",
      "10/10 [==============================] - 1s 140ms/step - loss: 0.0172 - iou_score: 0.4499 - val_loss: 0.0187 - val_iou_score: 0.3767\n",
      "Epoch 50/300\n",
      "10/10 [==============================] - 1s 140ms/step - loss: 0.0163 - iou_score: 0.4724 - val_loss: 0.0227 - val_iou_score: 0.2998\n",
      "Epoch 51/300\n",
      "10/10 [==============================] - 1s 140ms/step - loss: 0.0173 - iou_score: 0.4514 - val_loss: 0.0224 - val_iou_score: 0.3011\n",
      "Epoch 52/300\n",
      "10/10 [==============================] - 1s 140ms/step - loss: 0.0177 - iou_score: 0.4520 - val_loss: 0.0229 - val_iou_score: 0.2981\n",
      "Epoch 53/300\n",
      "10/10 [==============================] - 1s 141ms/step - loss: 0.0167 - iou_score: 0.4490 - val_loss: 0.0205 - val_iou_score: 0.3262\n",
      "Epoch 54/300\n",
      "10/10 [==============================] - 1s 141ms/step - loss: 0.0189 - iou_score: 0.4225 - val_loss: 0.0375 - val_iou_score: 0.1984\n",
      "Epoch 55/300\n",
      "10/10 [==============================] - 1s 140ms/step - loss: 0.0192 - iou_score: 0.4275 - val_loss: 0.1358 - val_iou_score: 0.0405\n",
      "Epoch 56/300\n",
      "10/10 [==============================] - 1s 141ms/step - loss: 0.0188 - iou_score: 0.4051 - val_loss: 0.0805 - val_iou_score: 0.0840\n",
      "Epoch 57/300\n",
      "10/10 [==============================] - 1s 140ms/step - loss: 0.0180 - iou_score: 0.4128 - val_loss: 0.0374 - val_iou_score: 0.2094\n",
      "Epoch 58/300\n",
      "10/10 [==============================] - 1s 141ms/step - loss: 0.0177 - iou_score: 0.4461 - val_loss: 0.0221 - val_iou_score: 0.3076\n",
      "Epoch 59/300\n",
      "10/10 [==============================] - 1s 140ms/step - loss: 0.0175 - iou_score: 0.4436 - val_loss: 0.0241 - val_iou_score: 0.3516\n",
      "Epoch 60/300\n",
      "10/10 [==============================] - 1s 142ms/step - loss: 0.0158 - iou_score: 0.4923 - val_loss: 0.0262 - val_iou_score: 0.3126\n",
      "Epoch 61/300\n",
      "10/10 [==============================] - 1s 141ms/step - loss: 0.0156 - iou_score: 0.4852 - val_loss: 0.0271 - val_iou_score: 0.3130\n",
      "Epoch 62/300\n",
      "10/10 [==============================] - 1s 140ms/step - loss: 0.0152 - iou_score: 0.4848 - val_loss: 0.0193 - val_iou_score: 0.3688\n",
      "Epoch 63/300\n",
      "10/10 [==============================] - 1s 140ms/step - loss: 0.0145 - iou_score: 0.5162 - val_loss: 0.0233 - val_iou_score: 0.3252\n",
      "Epoch 64/300\n",
      "10/10 [==============================] - 1s 141ms/step - loss: 0.0136 - iou_score: 0.5311 - val_loss: 0.0295 - val_iou_score: 0.2900\n",
      "Epoch 65/300\n",
      "10/10 [==============================] - 1s 140ms/step - loss: 0.0128 - iou_score: 0.5408 - val_loss: 0.0159 - val_iou_score: 0.4321\n",
      "Epoch 66/300\n",
      "10/10 [==============================] - 1s 141ms/step - loss: 0.0129 - iou_score: 0.5494 - val_loss: 0.0174 - val_iou_score: 0.4239\n",
      "Epoch 67/300\n",
      "10/10 [==============================] - 1s 141ms/step - loss: 0.0125 - iou_score: 0.5358 - val_loss: 0.0191 - val_iou_score: 0.4132\n",
      "Epoch 68/300\n",
      "10/10 [==============================] - 1s 141ms/step - loss: 0.0128 - iou_score: 0.5276 - val_loss: 0.0173 - val_iou_score: 0.4420\n",
      "Epoch 69/300\n",
      "10/10 [==============================] - 1s 141ms/step - loss: 0.0120 - iou_score: 0.5637 - val_loss: 0.0174 - val_iou_score: 0.4341\n",
      "Epoch 70/300\n",
      "10/10 [==============================] - 1s 140ms/step - loss: 0.0116 - iou_score: 0.5680 - val_loss: 0.0152 - val_iou_score: 0.4498\n",
      "Epoch 71/300\n",
      "10/10 [==============================] - 1s 140ms/step - loss: 0.0119 - iou_score: 0.5884 - val_loss: 0.0204 - val_iou_score: 0.3579\n",
      "Epoch 72/300\n",
      "10/10 [==============================] - 1s 140ms/step - loss: 0.0146 - iou_score: 0.5090 - val_loss: 0.0218 - val_iou_score: 0.4202\n",
      "Epoch 73/300\n",
      "10/10 [==============================] - 1s 141ms/step - loss: 0.0157 - iou_score: 0.4950 - val_loss: 0.0285 - val_iou_score: 0.3243\n",
      "Epoch 74/300\n",
      "10/10 [==============================] - 1s 141ms/step - loss: 0.0144 - iou_score: 0.5125 - val_loss: 0.0247 - val_iou_score: 0.3264\n",
      "Epoch 75/300\n",
      "10/10 [==============================] - 1s 140ms/step - loss: 0.0140 - iou_score: 0.5324 - val_loss: 0.0373 - val_iou_score: 0.2224\n",
      "Epoch 76/300\n",
      "10/10 [==============================] - 1s 140ms/step - loss: 0.0138 - iou_score: 0.5277 - val_loss: 0.0337 - val_iou_score: 0.3164\n",
      "Epoch 77/300\n",
      "10/10 [==============================] - 1s 140ms/step - loss: 0.0132 - iou_score: 0.5362 - val_loss: 0.0227 - val_iou_score: 0.3705\n",
      "Epoch 78/300\n",
      "10/10 [==============================] - 1s 148ms/step - loss: 0.0112 - iou_score: 0.5781 - val_loss: 0.0267 - val_iou_score: 0.3053\n",
      "Epoch 79/300\n",
      "10/10 [==============================] - 1s 141ms/step - loss: 0.0111 - iou_score: 0.6015 - val_loss: 0.0222 - val_iou_score: 0.3444\n",
      "Epoch 80/300\n",
      "10/10 [==============================] - 1s 140ms/step - loss: 0.0102 - iou_score: 0.5790 - val_loss: 0.0208 - val_iou_score: 0.4164\n",
      "Epoch 81/300\n",
      "10/10 [==============================] - 1s 148ms/step - loss: 0.0099 - iou_score: 0.6293 - val_loss: 0.0178 - val_iou_score: 0.4579\n",
      "Epoch 82/300\n",
      "10/10 [==============================] - 1s 141ms/step - loss: 0.0103 - iou_score: 0.6177 - val_loss: 0.0183 - val_iou_score: 0.4419\n",
      "Epoch 83/300\n",
      "10/10 [==============================] - 1s 142ms/step - loss: 0.0102 - iou_score: 0.6235 - val_loss: 0.0188 - val_iou_score: 0.4538\n",
      "Epoch 84/300\n",
      "10/10 [==============================] - 1s 140ms/step - loss: 0.0096 - iou_score: 0.6280 - val_loss: 0.0187 - val_iou_score: 0.4473\n",
      "Epoch 85/300\n",
      "10/10 [==============================] - 1s 141ms/step - loss: 0.0094 - iou_score: 0.6283 - val_loss: 0.0171 - val_iou_score: 0.4687\n",
      "Epoch 86/300\n",
      "10/10 [==============================] - 1s 141ms/step - loss: 0.0093 - iou_score: 0.6488 - val_loss: 0.0173 - val_iou_score: 0.4803\n",
      "Epoch 87/300\n",
      "10/10 [==============================] - 1s 141ms/step - loss: 0.0091 - iou_score: 0.6453 - val_loss: 0.0182 - val_iou_score: 0.4768\n",
      "Epoch 88/300\n",
      "10/10 [==============================] - 1s 141ms/step - loss: 0.0089 - iou_score: 0.6527 - val_loss: 0.0169 - val_iou_score: 0.4885\n",
      "Epoch 89/300\n",
      "10/10 [==============================] - 1s 141ms/step - loss: 0.0083 - iou_score: 0.6747 - val_loss: 0.0174 - val_iou_score: 0.4912\n",
      "Epoch 90/300\n",
      "10/10 [==============================] - 1s 141ms/step - loss: 0.0083 - iou_score: 0.6544 - val_loss: 0.0164 - val_iou_score: 0.5074\n",
      "Epoch 91/300\n",
      "10/10 [==============================] - 1s 141ms/step - loss: 0.0090 - iou_score: 0.6529 - val_loss: 0.0168 - val_iou_score: 0.4797\n",
      "Epoch 92/300\n",
      "10/10 [==============================] - 1s 141ms/step - loss: 0.0082 - iou_score: 0.6829 - val_loss: 0.0192 - val_iou_score: 0.4778\n",
      "Epoch 93/300\n",
      "10/10 [==============================] - 1s 141ms/step - loss: 0.0082 - iou_score: 0.6795 - val_loss: 0.0190 - val_iou_score: 0.4688\n",
      "Epoch 94/300\n",
      "10/10 [==============================] - 1s 141ms/step - loss: 0.0085 - iou_score: 0.6633 - val_loss: 0.0188 - val_iou_score: 0.4712\n",
      "Epoch 95/300\n",
      "10/10 [==============================] - 1s 142ms/step - loss: 0.0086 - iou_score: 0.6699 - val_loss: 0.0195 - val_iou_score: 0.4640\n",
      "Epoch 96/300\n",
      "10/10 [==============================] - 1s 141ms/step - loss: 0.0082 - iou_score: 0.6552 - val_loss: 0.0212 - val_iou_score: 0.4566\n",
      "Epoch 97/300\n",
      "10/10 [==============================] - 1s 140ms/step - loss: 0.0076 - iou_score: 0.6897 - val_loss: 0.0234 - val_iou_score: 0.4493\n",
      "Epoch 98/300\n",
      "10/10 [==============================] - 1s 140ms/step - loss: 0.0076 - iou_score: 0.7056 - val_loss: 0.0211 - val_iou_score: 0.4731\n",
      "Epoch 99/300\n",
      "10/10 [==============================] - 1s 142ms/step - loss: 0.0075 - iou_score: 0.7047 - val_loss: 0.0195 - val_iou_score: 0.4830\n",
      "Epoch 100/300\n",
      "10/10 [==============================] - 1s 141ms/step - loss: 0.0077 - iou_score: 0.6926 - val_loss: 0.0230 - val_iou_score: 0.4304\n",
      "Epoch 101/300\n",
      "10/10 [==============================] - 1s 141ms/step - loss: 0.0079 - iou_score: 0.6916 - val_loss: 0.0177 - val_iou_score: 0.4949\n",
      "Epoch 102/300\n",
      "10/10 [==============================] - 1s 140ms/step - loss: 0.0077 - iou_score: 0.6874 - val_loss: 0.0196 - val_iou_score: 0.4841\n",
      "Epoch 103/300\n",
      "10/10 [==============================] - 1s 141ms/step - loss: 0.0068 - iou_score: 0.7131 - val_loss: 0.0235 - val_iou_score: 0.4636\n",
      "Epoch 104/300\n",
      "10/10 [==============================] - 1s 141ms/step - loss: 0.0064 - iou_score: 0.7404 - val_loss: 0.0238 - val_iou_score: 0.4746\n",
      "Epoch 105/300\n",
      "10/10 [==============================] - 1s 140ms/step - loss: 0.0067 - iou_score: 0.7342 - val_loss: 0.0217 - val_iou_score: 0.4851\n",
      "Epoch 106/300\n",
      "10/10 [==============================] - 1s 141ms/step - loss: 0.0072 - iou_score: 0.7114 - val_loss: 0.0221 - val_iou_score: 0.4851\n",
      "Epoch 107/300\n",
      "10/10 [==============================] - 1s 141ms/step - loss: 0.0071 - iou_score: 0.7147 - val_loss: 0.0212 - val_iou_score: 0.4881\n",
      "Epoch 108/300\n",
      "10/10 [==============================] - 1s 140ms/step - loss: 0.0063 - iou_score: 0.7340 - val_loss: 0.0204 - val_iou_score: 0.4951\n",
      "Epoch 109/300\n",
      "10/10 [==============================] - 1s 141ms/step - loss: 0.0061 - iou_score: 0.7393 - val_loss: 0.0249 - val_iou_score: 0.4612\n",
      "Epoch 110/300\n",
      "10/10 [==============================] - 1s 141ms/step - loss: 0.0066 - iou_score: 0.7403 - val_loss: 0.0240 - val_iou_score: 0.4577\n",
      "Epoch 111/300\n",
      "10/10 [==============================] - 1s 141ms/step - loss: 0.0069 - iou_score: 0.7289 - val_loss: 0.0208 - val_iou_score: 0.4991\n",
      "Epoch 112/300\n",
      "10/10 [==============================] - 1s 140ms/step - loss: 0.0060 - iou_score: 0.7430 - val_loss: 0.0212 - val_iou_score: 0.4919\n",
      "Epoch 113/300\n",
      "10/10 [==============================] - 1s 141ms/step - loss: 0.0061 - iou_score: 0.7360 - val_loss: 0.0196 - val_iou_score: 0.5152\n",
      "Epoch 114/300\n",
      "10/10 [==============================] - 1s 141ms/step - loss: 0.0058 - iou_score: 0.7581 - val_loss: 0.0209 - val_iou_score: 0.4969\n",
      "Epoch 115/300\n",
      "10/10 [==============================] - 1s 141ms/step - loss: 0.0057 - iou_score: 0.7634 - val_loss: 0.0241 - val_iou_score: 0.4836\n",
      "Epoch 116/300\n",
      "10/10 [==============================] - 1s 140ms/step - loss: 0.0053 - iou_score: 0.7762 - val_loss: 0.0242 - val_iou_score: 0.4886\n",
      "Epoch 117/300\n",
      "10/10 [==============================] - 1s 142ms/step - loss: 0.0053 - iou_score: 0.7854 - val_loss: 0.0240 - val_iou_score: 0.4940\n",
      "Epoch 118/300\n",
      "10/10 [==============================] - 1s 141ms/step - loss: 0.0051 - iou_score: 0.7831 - val_loss: 0.0218 - val_iou_score: 0.5055\n",
      "Epoch 119/300\n",
      "10/10 [==============================] - 1s 140ms/step - loss: 0.0047 - iou_score: 0.7963 - val_loss: 0.0224 - val_iou_score: 0.5058\n",
      "Epoch 120/300\n",
      "10/10 [==============================] - 1s 141ms/step - loss: 0.0051 - iou_score: 0.7800 - val_loss: 0.0214 - val_iou_score: 0.5195\n",
      "Epoch 121/300\n",
      "10/10 [==============================] - 1s 142ms/step - loss: 0.0053 - iou_score: 0.7837 - val_loss: 0.0247 - val_iou_score: 0.4795\n",
      "Epoch 122/300\n",
      "10/10 [==============================] - 1s 142ms/step - loss: 0.0050 - iou_score: 0.7925 - val_loss: 0.0228 - val_iou_score: 0.5030\n",
      "Epoch 123/300\n",
      "10/10 [==============================] - 1s 143ms/step - loss: 0.0050 - iou_score: 0.7893 - val_loss: 0.0214 - val_iou_score: 0.5191\n",
      "Epoch 124/300\n",
      "10/10 [==============================] - 1s 141ms/step - loss: 0.0049 - iou_score: 0.7951 - val_loss: 0.0228 - val_iou_score: 0.5020\n",
      "Epoch 125/300\n",
      "10/10 [==============================] - 1s 141ms/step - loss: 0.0045 - iou_score: 0.8036 - val_loss: 0.0235 - val_iou_score: 0.5087\n",
      "Epoch 126/300\n",
      "10/10 [==============================] - 1s 141ms/step - loss: 0.0044 - iou_score: 0.8098 - val_loss: 0.0230 - val_iou_score: 0.5172\n",
      "Epoch 127/300\n",
      "10/10 [==============================] - 1s 141ms/step - loss: 0.0043 - iou_score: 0.8104 - val_loss: 0.0242 - val_iou_score: 0.4995\n",
      "Epoch 128/300\n",
      "10/10 [==============================] - 1s 141ms/step - loss: 0.0045 - iou_score: 0.8125 - val_loss: 0.0241 - val_iou_score: 0.5063\n",
      "Epoch 129/300\n",
      "10/10 [==============================] - 1s 140ms/step - loss: 0.0043 - iou_score: 0.8008 - val_loss: 0.0275 - val_iou_score: 0.4814\n",
      "Epoch 130/300\n",
      "10/10 [==============================] - 1s 141ms/step - loss: 0.0040 - iou_score: 0.8151 - val_loss: 0.0251 - val_iou_score: 0.5099\n",
      "Epoch 131/300\n",
      "10/10 [==============================] - 1s 142ms/step - loss: 0.0039 - iou_score: 0.8282 - val_loss: 0.0243 - val_iou_score: 0.5185\n",
      "Epoch 132/300\n",
      "10/10 [==============================] - 1s 141ms/step - loss: 0.0037 - iou_score: 0.8353 - val_loss: 0.0270 - val_iou_score: 0.4942\n",
      "Epoch 133/300\n",
      "10/10 [==============================] - 1s 140ms/step - loss: 0.0036 - iou_score: 0.8376 - val_loss: 0.0237 - val_iou_score: 0.5310\n",
      "Epoch 134/300\n",
      "10/10 [==============================] - 1s 141ms/step - loss: 0.0037 - iou_score: 0.8377 - val_loss: 0.0235 - val_iou_score: 0.5301\n",
      "Epoch 135/300\n",
      "10/10 [==============================] - 1s 141ms/step - loss: 0.0037 - iou_score: 0.8407 - val_loss: 0.0262 - val_iou_score: 0.5203\n",
      "Epoch 136/300\n",
      "10/10 [==============================] - 1s 141ms/step - loss: 0.0039 - iou_score: 0.8396 - val_loss: 0.0263 - val_iou_score: 0.5053\n",
      "Epoch 137/300\n",
      "10/10 [==============================] - 1s 141ms/step - loss: 0.0036 - iou_score: 0.8465 - val_loss: 0.0268 - val_iou_score: 0.5086\n",
      "Epoch 138/300\n",
      "10/10 [==============================] - 1s 141ms/step - loss: 0.0036 - iou_score: 0.8461 - val_loss: 0.0268 - val_iou_score: 0.5128\n",
      "Epoch 139/300\n",
      "10/10 [==============================] - 1s 141ms/step - loss: 0.0038 - iou_score: 0.8414 - val_loss: 0.0252 - val_iou_score: 0.5160\n",
      "Epoch 140/300\n",
      "10/10 [==============================] - 1s 140ms/step - loss: 0.0039 - iou_score: 0.8362 - val_loss: 0.0261 - val_iou_score: 0.5077\n",
      "Epoch 141/300\n",
      "10/10 [==============================] - 1s 141ms/step - loss: 0.0039 - iou_score: 0.8351 - val_loss: 0.0271 - val_iou_score: 0.5088\n",
      "Epoch 142/300\n",
      "10/10 [==============================] - 1s 140ms/step - loss: 0.0037 - iou_score: 0.8355 - val_loss: 0.0236 - val_iou_score: 0.5323\n",
      "Epoch 143/300\n",
      "10/10 [==============================] - 1s 141ms/step - loss: 0.0035 - iou_score: 0.8434 - val_loss: 0.0250 - val_iou_score: 0.5257\n",
      "Epoch 144/300\n",
      "10/10 [==============================] - 1s 141ms/step - loss: 0.0034 - iou_score: 0.8437 - val_loss: 0.0248 - val_iou_score: 0.5230\n",
      "Epoch 145/300\n",
      "10/10 [==============================] - 1s 141ms/step - loss: 0.0036 - iou_score: 0.8455 - val_loss: 0.0249 - val_iou_score: 0.5318\n",
      "Epoch 146/300\n",
      "10/10 [==============================] - 1s 140ms/step - loss: 0.0037 - iou_score: 0.8408 - val_loss: 0.0248 - val_iou_score: 0.5219\n",
      "Epoch 147/300\n",
      "10/10 [==============================] - 1s 141ms/step - loss: 0.0035 - iou_score: 0.8485 - val_loss: 0.0253 - val_iou_score: 0.5324\n",
      "Epoch 148/300\n",
      "10/10 [==============================] - 1s 141ms/step - loss: 0.0031 - iou_score: 0.8579 - val_loss: 0.0261 - val_iou_score: 0.5341\n",
      "Epoch 149/300\n",
      "10/10 [==============================] - 1s 142ms/step - loss: 0.0030 - iou_score: 0.8655 - val_loss: 0.0269 - val_iou_score: 0.5246\n",
      "Epoch 150/300\n",
      "10/10 [==============================] - 1s 141ms/step - loss: 0.0028 - iou_score: 0.8738 - val_loss: 0.0263 - val_iou_score: 0.5323\n",
      "Epoch 151/300\n",
      "10/10 [==============================] - 1s 141ms/step - loss: 0.0030 - iou_score: 0.8696 - val_loss: 0.0277 - val_iou_score: 0.5268\n",
      "Epoch 152/300\n",
      "10/10 [==============================] - 1s 141ms/step - loss: 0.0031 - iou_score: 0.8668 - val_loss: 0.0269 - val_iou_score: 0.5315\n",
      "Epoch 153/300\n",
      "10/10 [==============================] - 1s 141ms/step - loss: 0.0029 - iou_score: 0.8733 - val_loss: 0.0276 - val_iou_score: 0.5187\n",
      "Epoch 154/300\n",
      "10/10 [==============================] - 1s 140ms/step - loss: 0.0031 - iou_score: 0.8677 - val_loss: 0.0299 - val_iou_score: 0.5082\n",
      "Epoch 155/300\n",
      "10/10 [==============================] - 1s 141ms/step - loss: 0.0033 - iou_score: 0.8610 - val_loss: 0.0269 - val_iou_score: 0.5389\n",
      "Epoch 156/300\n",
      "10/10 [==============================] - 1s 142ms/step - loss: 0.0032 - iou_score: 0.8565 - val_loss: 0.0266 - val_iou_score: 0.5398\n",
      "Epoch 157/300\n",
      "10/10 [==============================] - 1s 141ms/step - loss: 0.0033 - iou_score: 0.8622 - val_loss: 0.0282 - val_iou_score: 0.5244\n",
      "Epoch 158/300\n",
      "10/10 [==============================] - 1s 141ms/step - loss: 0.0031 - iou_score: 0.8612 - val_loss: 0.0276 - val_iou_score: 0.5326\n",
      "Epoch 159/300\n",
      "10/10 [==============================] - 1s 141ms/step - loss: 0.0030 - iou_score: 0.8676 - val_loss: 0.0251 - val_iou_score: 0.5357\n",
      "Epoch 160/300\n",
      "10/10 [==============================] - 1s 141ms/step - loss: 0.0029 - iou_score: 0.8690 - val_loss: 0.0266 - val_iou_score: 0.5376\n",
      "Epoch 161/300\n",
      "10/10 [==============================] - 1s 141ms/step - loss: 0.0029 - iou_score: 0.8668 - val_loss: 0.0292 - val_iou_score: 0.5050\n",
      "Epoch 162/300\n",
      "10/10 [==============================] - 1s 141ms/step - loss: 0.0030 - iou_score: 0.8723 - val_loss: 0.0272 - val_iou_score: 0.5271\n",
      "Epoch 163/300\n",
      "10/10 [==============================] - 1s 142ms/step - loss: 0.0028 - iou_score: 0.8776 - val_loss: 0.0280 - val_iou_score: 0.5260\n",
      "Epoch 164/300\n",
      "10/10 [==============================] - 1s 141ms/step - loss: 0.0029 - iou_score: 0.8732 - val_loss: 0.0280 - val_iou_score: 0.5322\n",
      "Epoch 165/300\n",
      "10/10 [==============================] - 1s 141ms/step - loss: 0.0029 - iou_score: 0.8728 - val_loss: 0.0261 - val_iou_score: 0.5464\n",
      "Epoch 166/300\n",
      "10/10 [==============================] - 1s 140ms/step - loss: 0.0025 - iou_score: 0.8809 - val_loss: 0.0268 - val_iou_score: 0.5468\n",
      "Epoch 167/300\n",
      "10/10 [==============================] - 1s 141ms/step - loss: 0.0025 - iou_score: 0.8848 - val_loss: 0.0272 - val_iou_score: 0.5320\n",
      "Epoch 168/300\n",
      "10/10 [==============================] - 1s 140ms/step - loss: 0.0024 - iou_score: 0.8891 - val_loss: 0.0262 - val_iou_score: 0.5508\n",
      "Epoch 169/300\n",
      "10/10 [==============================] - 1s 142ms/step - loss: 0.0026 - iou_score: 0.8804 - val_loss: 0.0269 - val_iou_score: 0.5495\n",
      "Epoch 170/300\n",
      "10/10 [==============================] - 1s 140ms/step - loss: 0.0025 - iou_score: 0.8853 - val_loss: 0.0288 - val_iou_score: 0.5427\n",
      "Epoch 171/300\n",
      "10/10 [==============================] - 1s 140ms/step - loss: 0.0025 - iou_score: 0.8863 - val_loss: 0.0292 - val_iou_score: 0.5203\n",
      "Epoch 172/300\n",
      "10/10 [==============================] - 1s 140ms/step - loss: 0.0024 - iou_score: 0.8919 - val_loss: 0.0285 - val_iou_score: 0.5325\n",
      "Epoch 173/300\n",
      "10/10 [==============================] - 1s 141ms/step - loss: 0.0027 - iou_score: 0.8871 - val_loss: 0.0283 - val_iou_score: 0.5381\n",
      "Epoch 174/300\n",
      "10/10 [==============================] - 1s 140ms/step - loss: 0.0026 - iou_score: 0.8866 - val_loss: 0.0294 - val_iou_score: 0.5404\n",
      "Epoch 175/300\n",
      "10/10 [==============================] - 1s 140ms/step - loss: 0.0024 - iou_score: 0.8737 - val_loss: 0.0276 - val_iou_score: 0.5480\n",
      "Epoch 176/300\n",
      "10/10 [==============================] - 1s 141ms/step - loss: 0.0023 - iou_score: 0.8913 - val_loss: 0.0280 - val_iou_score: 0.5527\n",
      "Epoch 177/300\n",
      "10/10 [==============================] - 1s 141ms/step - loss: 0.0027 - iou_score: 0.8862 - val_loss: 0.0305 - val_iou_score: 0.5392\n",
      "Epoch 178/300\n",
      "10/10 [==============================] - 1s 141ms/step - loss: 0.0026 - iou_score: 0.8838 - val_loss: 0.0317 - val_iou_score: 0.5216\n",
      "Epoch 179/300\n",
      "10/10 [==============================] - 1s 142ms/step - loss: 0.0077 - iou_score: 0.8134 - val_loss: 0.0488 - val_iou_score: 0.3578\n",
      "Epoch 180/300\n",
      "10/10 [==============================] - 1s 141ms/step - loss: 0.0156 - iou_score: 0.5876 - val_loss: 0.3815 - val_iou_score: 0.0650\n",
      "Epoch 181/300\n",
      "10/10 [==============================] - 1s 142ms/step - loss: 0.0164 - iou_score: 0.4744 - val_loss: 3.9091 - val_iou_score: 0.0320\n",
      "Epoch 182/300\n",
      "10/10 [==============================] - 1s 142ms/step - loss: 0.0148 - iou_score: 0.4988 - val_loss: 8.5593 - val_iou_score: 0.0171\n",
      "Epoch 183/300\n",
      "10/10 [==============================] - 1s 141ms/step - loss: 0.0128 - iou_score: 0.5762 - val_loss: 6.8389 - val_iou_score: 0.0184\n",
      "Epoch 184/300\n",
      "10/10 [==============================] - 1s 142ms/step - loss: 0.0099 - iou_score: 0.6378 - val_loss: 4.3618 - val_iou_score: 0.0231\n",
      "Epoch 185/300\n",
      "10/10 [==============================] - 1s 141ms/step - loss: 0.0082 - iou_score: 0.6828 - val_loss: 1.2103 - val_iou_score: 0.0393\n",
      "Epoch 186/300\n",
      "10/10 [==============================] - 1s 141ms/step - loss: 0.0069 - iou_score: 0.7192 - val_loss: 0.1111 - val_iou_score: 0.1723\n",
      "Epoch 187/300\n",
      "10/10 [==============================] - 1s 141ms/step - loss: 0.0068 - iou_score: 0.7371 - val_loss: 0.0363 - val_iou_score: 0.2861\n",
      "Epoch 188/300\n",
      "10/10 [==============================] - 1s 146ms/step - loss: 0.0063 - iou_score: 0.7486 - val_loss: 0.0734 - val_iou_score: 0.2319\n",
      "Epoch 189/300\n",
      "10/10 [==============================] - 1s 143ms/step - loss: 0.0053 - iou_score: 0.7785 - val_loss: 0.0243 - val_iou_score: 0.4470\n",
      "Epoch 190/300\n",
      "10/10 [==============================] - 1s 142ms/step - loss: 0.0046 - iou_score: 0.8034 - val_loss: 0.0235 - val_iou_score: 0.4803\n",
      "Epoch 191/300\n",
      "10/10 [==============================] - 1s 141ms/step - loss: 0.0039 - iou_score: 0.8270 - val_loss: 0.0242 - val_iou_score: 0.5133\n",
      "Epoch 192/300\n",
      "10/10 [==============================] - 1s 142ms/step - loss: 0.0038 - iou_score: 0.8354 - val_loss: 0.0243 - val_iou_score: 0.5182\n",
      "Epoch 193/300\n",
      "10/10 [==============================] - 1s 141ms/step - loss: 0.0033 - iou_score: 0.8482 - val_loss: 0.0229 - val_iou_score: 0.5253\n",
      "Epoch 194/300\n",
      "10/10 [==============================] - 1s 141ms/step - loss: 0.0032 - iou_score: 0.8447 - val_loss: 0.0245 - val_iou_score: 0.5255\n",
      "Epoch 195/300\n",
      "10/10 [==============================] - 1s 145ms/step - loss: 0.0033 - iou_score: 0.8572 - val_loss: 0.0229 - val_iou_score: 0.5522\n",
      "Epoch 196/300\n",
      "10/10 [==============================] - 1s 141ms/step - loss: 0.0029 - iou_score: 0.8655 - val_loss: 0.0250 - val_iou_score: 0.5488\n",
      "Epoch 197/300\n",
      "10/10 [==============================] - 1s 141ms/step - loss: 0.0027 - iou_score: 0.8758 - val_loss: 0.0259 - val_iou_score: 0.5494\n",
      "Epoch 198/300\n",
      "10/10 [==============================] - 1s 142ms/step - loss: 0.0026 - iou_score: 0.8836 - val_loss: 0.0251 - val_iou_score: 0.5545\n",
      "Epoch 199/300\n",
      "10/10 [==============================] - 1s 142ms/step - loss: 0.0024 - iou_score: 0.8884 - val_loss: 0.0263 - val_iou_score: 0.5493\n",
      "Epoch 200/300\n",
      "10/10 [==============================] - 1s 140ms/step - loss: 0.0025 - iou_score: 0.8865 - val_loss: 0.0267 - val_iou_score: 0.5417\n",
      "Epoch 201/300\n",
      "10/10 [==============================] - 1s 142ms/step - loss: 0.0024 - iou_score: 0.8817 - val_loss: 0.0265 - val_iou_score: 0.5478\n",
      "Epoch 202/300\n",
      "10/10 [==============================] - 1s 141ms/step - loss: 0.0024 - iou_score: 0.8937 - val_loss: 0.0261 - val_iou_score: 0.5483\n",
      "Epoch 203/300\n",
      "10/10 [==============================] - 1s 141ms/step - loss: 0.0025 - iou_score: 0.8930 - val_loss: 0.0286 - val_iou_score: 0.5235\n",
      "Epoch 204/300\n",
      "10/10 [==============================] - 1s 141ms/step - loss: 0.0025 - iou_score: 0.8934 - val_loss: 0.0278 - val_iou_score: 0.5307\n",
      "Epoch 205/300\n",
      "10/10 [==============================] - 1s 141ms/step - loss: 0.0027 - iou_score: 0.8708 - val_loss: 0.0270 - val_iou_score: 0.5399\n",
      "Epoch 206/300\n",
      "10/10 [==============================] - 1s 141ms/step - loss: 0.0026 - iou_score: 0.8865 - val_loss: 0.0280 - val_iou_score: 0.5450\n",
      "Epoch 207/300\n",
      "10/10 [==============================] - 1s 141ms/step - loss: 0.0024 - iou_score: 0.8918 - val_loss: 0.0280 - val_iou_score: 0.5506\n",
      "Epoch 208/300\n",
      "10/10 [==============================] - 1s 142ms/step - loss: 0.0023 - iou_score: 0.8935 - val_loss: 0.0270 - val_iou_score: 0.5570\n",
      "Epoch 209/300\n",
      "10/10 [==============================] - 1s 141ms/step - loss: 0.0025 - iou_score: 0.8843 - val_loss: 0.0278 - val_iou_score: 0.5511\n",
      "Epoch 210/300\n",
      "10/10 [==============================] - 1s 141ms/step - loss: 0.0023 - iou_score: 0.8819 - val_loss: 0.0280 - val_iou_score: 0.5546\n",
      "Epoch 211/300\n",
      "10/10 [==============================] - 1s 142ms/step - loss: 0.0024 - iou_score: 0.8922 - val_loss: 0.0268 - val_iou_score: 0.5640\n",
      "Epoch 212/300\n",
      "10/10 [==============================] - 1s 149ms/step - loss: 0.0025 - iou_score: 0.8940 - val_loss: 0.0283 - val_iou_score: 0.5592\n",
      "Epoch 213/300\n",
      "10/10 [==============================] - 1s 140ms/step - loss: 0.0024 - iou_score: 0.8894 - val_loss: 0.0287 - val_iou_score: 0.5549\n",
      "Epoch 214/300\n",
      "10/10 [==============================] - 1s 140ms/step - loss: 0.0023 - iou_score: 0.8886 - val_loss: 0.0269 - val_iou_score: 0.5541\n",
      "Epoch 215/300\n",
      "10/10 [==============================] - 1s 140ms/step - loss: 0.0021 - iou_score: 0.9042 - val_loss: 0.0281 - val_iou_score: 0.5612\n",
      "Epoch 216/300\n",
      "10/10 [==============================] - 1s 140ms/step - loss: 0.0021 - iou_score: 0.9055 - val_loss: 0.0285 - val_iou_score: 0.5562\n",
      "Epoch 217/300\n",
      "10/10 [==============================] - 1s 141ms/step - loss: 0.0019 - iou_score: 0.9107 - val_loss: 0.0290 - val_iou_score: 0.5478\n",
      "Epoch 218/300\n",
      "10/10 [==============================] - 1s 140ms/step - loss: 0.0018 - iou_score: 0.9155 - val_loss: 0.0299 - val_iou_score: 0.5532\n",
      "Epoch 219/300\n",
      "10/10 [==============================] - 1s 140ms/step - loss: 0.0018 - iou_score: 0.9030 - val_loss: 0.0304 - val_iou_score: 0.5453\n",
      "Epoch 220/300\n",
      "10/10 [==============================] - 1s 140ms/step - loss: 0.0018 - iou_score: 0.9175 - val_loss: 0.0302 - val_iou_score: 0.5520\n",
      "Epoch 221/300\n",
      "10/10 [==============================] - 1s 140ms/step - loss: 0.0016 - iou_score: 0.9216 - val_loss: 0.0307 - val_iou_score: 0.5522\n",
      "Epoch 222/300\n",
      "10/10 [==============================] - 1s 141ms/step - loss: 0.0016 - iou_score: 0.9216 - val_loss: 0.0312 - val_iou_score: 0.5457\n",
      "Epoch 223/300\n",
      "10/10 [==============================] - 1s 148ms/step - loss: 0.0017 - iou_score: 0.9197 - val_loss: 0.0313 - val_iou_score: 0.5580\n",
      "Epoch 224/300\n",
      "10/10 [==============================] - 1s 141ms/step - loss: 0.0019 - iou_score: 0.9175 - val_loss: 0.0321 - val_iou_score: 0.5379\n",
      "Epoch 225/300\n",
      "10/10 [==============================] - 1s 140ms/step - loss: 0.0017 - iou_score: 0.9223 - val_loss: 0.0313 - val_iou_score: 0.5610\n",
      "Epoch 226/300\n",
      "10/10 [==============================] - 1s 141ms/step - loss: 0.0016 - iou_score: 0.9213 - val_loss: 0.0318 - val_iou_score: 0.5530\n",
      "Epoch 227/300\n",
      "10/10 [==============================] - 1s 141ms/step - loss: 0.0017 - iou_score: 0.9236 - val_loss: 0.0317 - val_iou_score: 0.5581\n",
      "Epoch 228/300\n",
      "10/10 [==============================] - 1s 140ms/step - loss: 0.0018 - iou_score: 0.9211 - val_loss: 0.0320 - val_iou_score: 0.5503\n",
      "Epoch 229/300\n",
      "10/10 [==============================] - 1s 141ms/step - loss: 0.0016 - iou_score: 0.9249 - val_loss: 0.0319 - val_iou_score: 0.5508\n",
      "Epoch 230/300\n",
      "10/10 [==============================] - 1s 141ms/step - loss: 0.0016 - iou_score: 0.9250 - val_loss: 0.0318 - val_iou_score: 0.5581\n",
      "Epoch 231/300\n",
      "10/10 [==============================] - 1s 141ms/step - loss: 0.0016 - iou_score: 0.9281 - val_loss: 0.0336 - val_iou_score: 0.5520\n",
      "Epoch 232/300\n",
      "10/10 [==============================] - 1s 141ms/step - loss: 0.0014 - iou_score: 0.9326 - val_loss: 0.0324 - val_iou_score: 0.5531\n",
      "Epoch 233/300\n",
      "10/10 [==============================] - 1s 140ms/step - loss: 0.0014 - iou_score: 0.9320 - val_loss: 0.0335 - val_iou_score: 0.5496\n",
      "Epoch 234/300\n",
      "10/10 [==============================] - 1s 141ms/step - loss: 0.0015 - iou_score: 0.9309 - val_loss: 0.0319 - val_iou_score: 0.5609\n",
      "Epoch 235/300\n",
      "10/10 [==============================] - 1s 141ms/step - loss: 0.0016 - iou_score: 0.9279 - val_loss: 0.0336 - val_iou_score: 0.5482\n",
      "Epoch 236/300\n",
      "10/10 [==============================] - 1s 141ms/step - loss: 0.0015 - iou_score: 0.9286 - val_loss: 0.0340 - val_iou_score: 0.5557\n",
      "Epoch 237/300\n",
      "10/10 [==============================] - 1s 142ms/step - loss: 0.0015 - iou_score: 0.9311 - val_loss: 0.0344 - val_iou_score: 0.5497\n",
      "Epoch 238/300\n",
      "10/10 [==============================] - 1s 141ms/step - loss: 0.0016 - iou_score: 0.9280 - val_loss: 0.0322 - val_iou_score: 0.5643\n",
      "Epoch 239/300\n",
      "10/10 [==============================] - 1s 141ms/step - loss: 0.0015 - iou_score: 0.9325 - val_loss: 0.0331 - val_iou_score: 0.5599\n",
      "Epoch 240/300\n",
      "10/10 [==============================] - 1s 140ms/step - loss: 0.0015 - iou_score: 0.9326 - val_loss: 0.0326 - val_iou_score: 0.5692\n",
      "Epoch 241/300\n",
      "10/10 [==============================] - 1s 141ms/step - loss: 0.0014 - iou_score: 0.9325 - val_loss: 0.0332 - val_iou_score: 0.5667\n",
      "Epoch 242/300\n",
      "10/10 [==============================] - 1s 140ms/step - loss: 0.0015 - iou_score: 0.9228 - val_loss: 0.0341 - val_iou_score: 0.5611\n",
      "Epoch 243/300\n",
      "10/10 [==============================] - 1s 149ms/step - loss: 0.0014 - iou_score: 0.9298 - val_loss: 0.0341 - val_iou_score: 0.5587\n",
      "Epoch 244/300\n",
      "10/10 [==============================] - 1s 142ms/step - loss: 0.0014 - iou_score: 0.9304 - val_loss: 0.0347 - val_iou_score: 0.5616\n",
      "Epoch 245/300\n",
      "10/10 [==============================] - 1s 141ms/step - loss: 0.0014 - iou_score: 0.9357 - val_loss: 0.0344 - val_iou_score: 0.5654\n",
      "Epoch 246/300\n",
      "10/10 [==============================] - 1s 141ms/step - loss: 0.0015 - iou_score: 0.9330 - val_loss: 0.0347 - val_iou_score: 0.5615\n",
      "Epoch 247/300\n",
      "10/10 [==============================] - 1s 142ms/step - loss: 0.0015 - iou_score: 0.9314 - val_loss: 0.0358 - val_iou_score: 0.5567\n",
      "Epoch 248/300\n",
      "10/10 [==============================] - 1s 141ms/step - loss: 0.0014 - iou_score: 0.9340 - val_loss: 0.0340 - val_iou_score: 0.5634\n",
      "Epoch 249/300\n",
      "10/10 [==============================] - 1s 140ms/step - loss: 0.0013 - iou_score: 0.9356 - val_loss: 0.0357 - val_iou_score: 0.5582\n",
      "Epoch 250/300\n",
      "10/10 [==============================] - 1s 141ms/step - loss: 0.0014 - iou_score: 0.9368 - val_loss: 0.0345 - val_iou_score: 0.5692\n",
      "Epoch 251/300\n",
      "10/10 [==============================] - 1s 141ms/step - loss: 0.0014 - iou_score: 0.9349 - val_loss: 0.0357 - val_iou_score: 0.5669\n",
      "Epoch 252/300\n",
      "10/10 [==============================] - 1s 140ms/step - loss: 0.0013 - iou_score: 0.9375 - val_loss: 0.0356 - val_iou_score: 0.5614\n",
      "Epoch 253/300\n",
      "10/10 [==============================] - 1s 141ms/step - loss: 0.0013 - iou_score: 0.9386 - val_loss: 0.0358 - val_iou_score: 0.5630\n",
      "Epoch 254/300\n",
      "10/10 [==============================] - 1s 141ms/step - loss: 0.0013 - iou_score: 0.9398 - val_loss: 0.0345 - val_iou_score: 0.5655\n",
      "Epoch 255/300\n",
      "10/10 [==============================] - 1s 141ms/step - loss: 0.0013 - iou_score: 0.9388 - val_loss: 0.0362 - val_iou_score: 0.5590\n",
      "Epoch 256/300\n",
      "10/10 [==============================] - 1s 141ms/step - loss: 0.0013 - iou_score: 0.9388 - val_loss: 0.0345 - val_iou_score: 0.5676\n",
      "Epoch 257/300\n",
      "10/10 [==============================] - 1s 140ms/step - loss: 0.0013 - iou_score: 0.9386 - val_loss: 0.0361 - val_iou_score: 0.5631\n",
      "Epoch 258/300\n",
      "10/10 [==============================] - 1s 140ms/step - loss: 0.0013 - iou_score: 0.9407 - val_loss: 0.0365 - val_iou_score: 0.5610\n",
      "Epoch 259/300\n",
      "10/10 [==============================] - 1s 142ms/step - loss: 0.0014 - iou_score: 0.9381 - val_loss: 0.0370 - val_iou_score: 0.5599\n",
      "Epoch 260/300\n",
      "10/10 [==============================] - 1s 142ms/step - loss: 0.0016 - iou_score: 0.9329 - val_loss: 0.0361 - val_iou_score: 0.5549\n",
      "Epoch 261/300\n",
      "10/10 [==============================] - 1s 141ms/step - loss: 0.0016 - iou_score: 0.9330 - val_loss: 0.0345 - val_iou_score: 0.5746\n",
      "Epoch 262/300\n",
      "10/10 [==============================] - 1s 140ms/step - loss: 0.0017 - iou_score: 0.9288 - val_loss: 0.0357 - val_iou_score: 0.5670\n",
      "Epoch 263/300\n",
      "10/10 [==============================] - 1s 140ms/step - loss: 0.0017 - iou_score: 0.9268 - val_loss: 0.0362 - val_iou_score: 0.5576\n",
      "Epoch 264/300\n",
      "10/10 [==============================] - 1s 140ms/step - loss: 0.0016 - iou_score: 0.9315 - val_loss: 0.0334 - val_iou_score: 0.5641\n",
      "Epoch 265/300\n",
      "10/10 [==============================] - 1s 141ms/step - loss: 0.0015 - iou_score: 0.9232 - val_loss: 0.0367 - val_iou_score: 0.5601\n",
      "Epoch 266/300\n",
      "10/10 [==============================] - 1s 141ms/step - loss: 0.0014 - iou_score: 0.9344 - val_loss: 0.0360 - val_iou_score: 0.5650\n",
      "Epoch 267/300\n",
      "10/10 [==============================] - 1s 141ms/step - loss: 0.0013 - iou_score: 0.9369 - val_loss: 0.0348 - val_iou_score: 0.5714\n",
      "Epoch 268/300\n",
      "10/10 [==============================] - 1s 140ms/step - loss: 0.0012 - iou_score: 0.9391 - val_loss: 0.0360 - val_iou_score: 0.5628\n",
      "Epoch 269/300\n",
      "10/10 [==============================] - 1s 140ms/step - loss: 0.0012 - iou_score: 0.9426 - val_loss: 0.0359 - val_iou_score: 0.5700\n",
      "Epoch 270/300\n",
      "10/10 [==============================] - 1s 141ms/step - loss: 0.0012 - iou_score: 0.9437 - val_loss: 0.0359 - val_iou_score: 0.5653\n",
      "Epoch 271/300\n",
      "10/10 [==============================] - 1s 141ms/step - loss: 0.0012 - iou_score: 0.9394 - val_loss: 0.0366 - val_iou_score: 0.5655\n",
      "Epoch 272/300\n",
      "10/10 [==============================] - 1s 141ms/step - loss: 0.0012 - iou_score: 0.9413 - val_loss: 0.0363 - val_iou_score: 0.5571\n",
      "Epoch 273/300\n",
      "10/10 [==============================] - 1s 141ms/step - loss: 0.0012 - iou_score: 0.9408 - val_loss: 0.0376 - val_iou_score: 0.5563\n",
      "Epoch 274/300\n",
      "10/10 [==============================] - 1s 140ms/step - loss: 0.0012 - iou_score: 0.9445 - val_loss: 0.0372 - val_iou_score: 0.5585\n",
      "Epoch 275/300\n",
      "10/10 [==============================] - 1s 141ms/step - loss: 0.0012 - iou_score: 0.9454 - val_loss: 0.0371 - val_iou_score: 0.5690\n",
      "Epoch 276/300\n",
      "10/10 [==============================] - 1s 141ms/step - loss: 0.0012 - iou_score: 0.9467 - val_loss: 0.0367 - val_iou_score: 0.5653\n",
      "Epoch 277/300\n",
      "10/10 [==============================] - 1s 141ms/step - loss: 0.0011 - iou_score: 0.9483 - val_loss: 0.0370 - val_iou_score: 0.5662\n",
      "Epoch 278/300\n",
      "10/10 [==============================] - 1s 140ms/step - loss: 0.0011 - iou_score: 0.9482 - val_loss: 0.0379 - val_iou_score: 0.5573\n",
      "Epoch 279/300\n",
      "10/10 [==============================] - 1s 140ms/step - loss: 0.0012 - iou_score: 0.9440 - val_loss: 0.0370 - val_iou_score: 0.5606\n",
      "Epoch 280/300\n",
      "10/10 [==============================] - 1s 142ms/step - loss: 0.0012 - iou_score: 0.9409 - val_loss: 0.0378 - val_iou_score: 0.5635\n",
      "Epoch 281/300\n",
      "10/10 [==============================] - 1s 141ms/step - loss: 0.0012 - iou_score: 0.9430 - val_loss: 0.0377 - val_iou_score: 0.5606\n",
      "Epoch 282/300\n",
      "10/10 [==============================] - 1s 140ms/step - loss: 0.0011 - iou_score: 0.9477 - val_loss: 0.0384 - val_iou_score: 0.5559\n",
      "Epoch 283/300\n",
      "10/10 [==============================] - 1s 140ms/step - loss: 0.0012 - iou_score: 0.9477 - val_loss: 0.0377 - val_iou_score: 0.5651\n",
      "Epoch 284/300\n",
      "10/10 [==============================] - 1s 140ms/step - loss: 0.0012 - iou_score: 0.9477 - val_loss: 0.0382 - val_iou_score: 0.5662\n",
      "Epoch 285/300\n",
      "10/10 [==============================] - 1s 140ms/step - loss: 0.0011 - iou_score: 0.9496 - val_loss: 0.0389 - val_iou_score: 0.5607\n",
      "Epoch 286/300\n",
      "10/10 [==============================] - 1s 141ms/step - loss: 0.0010 - iou_score: 0.9499 - val_loss: 0.0374 - val_iou_score: 0.5714\n",
      "Epoch 287/300\n",
      "10/10 [==============================] - 1s 140ms/step - loss: 9.6195e-04 - iou_score: 0.9524 - val_loss: 0.0390 - val_iou_score: 0.5656\n",
      "Epoch 288/300\n",
      "10/10 [==============================] - 1s 140ms/step - loss: 9.3504e-04 - iou_score: 0.9538 - val_loss: 0.0397 - val_iou_score: 0.5613\n",
      "Epoch 289/300\n",
      "10/10 [==============================] - 1s 140ms/step - loss: 0.0010 - iou_score: 0.9525 - val_loss: 0.0407 - val_iou_score: 0.5547\n",
      "Epoch 290/300\n",
      "10/10 [==============================] - 1s 140ms/step - loss: 0.0011 - iou_score: 0.9485 - val_loss: 0.0403 - val_iou_score: 0.5590\n",
      "Epoch 291/300\n",
      "10/10 [==============================] - 1s 141ms/step - loss: 0.0012 - iou_score: 0.9330 - val_loss: 0.0407 - val_iou_score: 0.5339\n",
      "Epoch 292/300\n",
      "10/10 [==============================] - 1s 141ms/step - loss: 0.0046 - iou_score: 0.8978 - val_loss: 0.0676 - val_iou_score: 0.3160\n",
      "Epoch 293/300\n",
      "10/10 [==============================] - 1s 141ms/step - loss: 0.0255 - iou_score: 0.5180 - val_loss: 0.8264 - val_iou_score: 0.0570\n",
      "Epoch 294/300\n",
      "10/10 [==============================] - 1s 141ms/step - loss: 0.0202 - iou_score: 0.4228 - val_loss: 0.8843 - val_iou_score: 0.0385\n",
      "Epoch 295/300\n",
      "10/10 [==============================] - 1s 140ms/step - loss: 0.0163 - iou_score: 0.4663 - val_loss: 0.9058 - val_iou_score: 0.0406\n",
      "Epoch 296/300\n",
      "10/10 [==============================] - 1s 140ms/step - loss: 0.0136 - iou_score: 0.5330 - val_loss: 0.3202 - val_iou_score: 0.0832\n",
      "Epoch 297/300\n",
      "10/10 [==============================] - 1s 149ms/step - loss: 0.0119 - iou_score: 0.5813 - val_loss: 0.3445 - val_iou_score: 0.0913\n",
      "Epoch 298/300\n",
      "10/10 [==============================] - 1s 141ms/step - loss: 0.0119 - iou_score: 0.5655 - val_loss: 1.3379 - val_iou_score: 0.0425\n",
      "Epoch 299/300\n",
      "10/10 [==============================] - 1s 141ms/step - loss: 0.0113 - iou_score: 0.6023 - val_loss: 0.1340 - val_iou_score: 0.1282\n",
      "Epoch 300/300\n",
      "10/10 [==============================] - 1s 141ms/step - loss: 0.0097 - iou_score: 0.6481 - val_loss: 0.0861 - val_iou_score: 0.1673\n"
     ]
    }
   ],
   "source": [
    "history = model.fit(\n",
    "   x=x_train,\n",
    "   y=y_train,\n",
    "   batch_size=10,\n",
    "   epochs=300,\n",
    "   verbose=1,\n",
    "   validation_split=.16\n",
    ")"
   ]
  },
  {
   "cell_type": "code",
   "execution_count": null,
   "metadata": {},
   "outputs": [],
   "source": [
    "# What are you testing on this one? - Does normalize impact results?"
   ]
  },
  {
   "attachments": {},
   "cell_type": "markdown",
   "metadata": {},
   "source": [
    "# Plots"
   ]
  },
  {
   "cell_type": "code",
   "execution_count": 163,
   "metadata": {},
   "outputs": [
    {
     "name": "stdout",
     "output_type": "stream",
     "text": [
      "dict_keys(['loss', 'iou_score', 'val_loss', 'val_iou_score'])\n"
     ]
    },
    {
     "data": {
      "image/png": "[encoded data removed]",
      "text/plain": [
       "<Figure size 432x288 with 1 Axes>"
      ]
     },
     "metadata": {
      "needs_background": "light"
     },
     "output_type": "display_data"
    },
    {
     "data": {
      "image/png": "[encoded data removed]",
      "text/plain": [
       "<Figure size 432x288 with 1 Axes>"
      ]
     },
     "metadata": {
      "needs_background": "light"
     },
     "output_type": "display_data"
    },
    {
     "name": "stdout",
     "output_type": "stream",
     "text": [
      "0.00967817846685648\n",
      "0.08606331050395966\n"
     ]
    }
   ],
   "source": [
    "print(history.history.keys())\n",
    "\n",
    "iou_score = history.history['iou_score']\n",
    "val_iou_score = history.history['val_iou_score']\n",
    "loss = history.history['loss']\n",
    "val_loss = history.history['val_loss']\n",
    "\n",
    "epochs = range(1, len(iou_score) + 1)\n",
    "\n",
    "plt.plot(epochs, iou_score, 'bo', label='Training acc')\n",
    "plt.plot(epochs, val_iou_score, 'b', label='Validation acc')\n",
    "plt.title('Training and validation accuracy')\n",
    "plt.legend()\n",
    "\n",
    "plt.figure()\n",
    "\n",
    "plt.plot(epochs, loss, 'bo', label='Training loss')\n",
    "plt.plot(epochs, val_loss, 'b', label='Validation loss')\n",
    "plt.title('Training and validation loss')\n",
    "plt.legend()\n",
    "\n",
    "plt.show()\n",
    "\n",
    "print(history.history['loss'][-1])\n",
    "print(history.history['val_loss'][-1])"
   ]
  },
  {
   "cell_type": "code",
   "execution_count": 164,
   "metadata": {},
   "outputs": [
    {
     "name": "stdout",
     "output_type": "stream",
     "text": [
      "1/1 [==============================] - 1s 740ms/step - loss: 0.1048 - iou_score: 0.2170\n"
     ]
    }
   ],
   "source": [
    "results = model.evaluate(x_test, y_test)"
   ]
  },
  {
   "cell_type": "code",
   "execution_count": null,
   "metadata": {},
   "outputs": [],
   "source": [
    "model_path = \"models/\"\n",
    "model.save(f\"{model_path}spoke_{140}im_{300}e_{'resnet34'}.h5\")"
   ]
  },
  {
   "cell_type": "code",
   "execution_count": 1,
   "metadata": {},
   "outputs": [],
   "source": [
    "\n",
    "from tensorflow import keras\n",
    "model = keras.models.load_model('models/spoke_140im_300e_resnet34.h5', compile=False)"
   ]
  },
  {
   "attachments": {},
   "cell_type": "markdown",
   "metadata": {},
   "source": [
    "# THIS IS CRAZY"
   ]
  },
  {
   "attachments": {},
   "cell_type": "markdown",
   "metadata": {},
   "source": [
    "# Lets test with images outside of train/test"
   ]
  },
  {
   "cell_type": "code",
   "execution_count": 16,
   "metadata": {},
   "outputs": [],
   "source": [
    "remaining_dataset = sorted(glob.glob(\"../datasets/\"+\"light_spokes_no_training/*.png\"), key=get_order)"
   ]
  },
  {
   "cell_type": "code",
   "execution_count": 17,
   "metadata": {},
   "outputs": [
    {
     "data": {
      "text/plain": [
       "797"
      ]
     },
     "execution_count": 17,
     "metadata": {},
     "output_type": "execute_result"
    }
   ],
   "source": [
    "len(remaining_dataset)"
   ]
  },
  {
   "cell_type": "code",
   "execution_count": 18,
   "metadata": {},
   "outputs": [],
   "source": [
    "remaining_test = []\n",
    "filenames = []\n",
    "\n",
    "for img_path in remaining_dataset:\n",
    "    filenames.append(img_path.split(\"/\")[-1])\n",
    "    img = cv2.imread(img_path, cv2.IMREAD_GRAYSCALE)\n",
    "    remaining_test.append(img)"
   ]
  },
  {
   "cell_type": "code",
   "execution_count": 19,
   "metadata": {},
   "outputs": [
    {
     "data": {
      "text/plain": [
       "797"
      ]
     },
     "execution_count": 19,
     "metadata": {},
     "output_type": "execute_result"
    }
   ],
   "source": [
    "len(remaining_test)"
   ]
  },
  {
   "cell_type": "code",
   "execution_count": 20,
   "metadata": {},
   "outputs": [],
   "source": [
    "remaining_test = normalize(np.array(remaining_test), axis=1)"
   ]
  },
  {
   "cell_type": "code",
   "execution_count": 25,
   "metadata": {},
   "outputs": [
    {
     "name": "stdout",
     "output_type": "stream",
     "text": [
      "W1630831573.png\n"
     ]
    },
    {
     "data": {
      "image/png": "[encoded data removed]",
      "text/plain": [
       "<Figure size 432x288 with 1 Axes>"
      ]
     },
     "metadata": {
      "needs_background": "light"
     },
     "output_type": "display_data"
    },
    {
     "name": "stdout",
     "output_type": "stream",
     "text": [
      "1/1 [==============================] - 0s 30ms/step\n"
     ]
    },
    {
     "data": {
      "image/png": "[encoded data removed]",
      "text/plain": [
       "<Figure size 432x288 with 1 Axes>"
      ]
     },
     "metadata": {
      "needs_background": "light"
     },
     "output_type": "display_data"
    },
    {
     "name": "stdout",
     "output_type": "stream",
     "text": [
      "W1630832115.png\n"
     ]
    },
    {
     "data": {
      "image/png": "[encoded data removed]",
      "text/plain": [
       "<Figure size 432x288 with 1 Axes>"
      ]
     },
     "metadata": {
      "needs_background": "light"
     },
     "output_type": "display_data"
    },
    {
     "name": "stdout",
     "output_type": "stream",
     "text": [
      "1/1 [==============================] - 0s 32ms/step\n"
     ]
    },
    {
     "data": {
      "image/png": "[encoded data removed]",
      "text/plain": [
       "<Figure size 432x288 with 1 Axes>"
      ]
     },
     "metadata": {
      "needs_background": "light"
     },
     "output_type": "display_data"
    },
    {
     "name": "stdout",
     "output_type": "stream",
     "text": [
      "W1630832657.png\n"
     ]
    },
    {
     "data": {
      "image/png": "[encoded data removed]",
      "text/plain": [
       "<Figure size 432x288 with 1 Axes>"
      ]
     },
     "metadata": {
      "needs_background": "light"
     },
     "output_type": "display_data"
    },
    {
     "name": "stdout",
     "output_type": "stream",
     "text": [
      "1/1 [==============================] - 0s 27ms/step\n"
     ]
    },
    {
     "data": {
      "image/png": "[encoded data removed]",
      "text/plain": [
       "<Figure size 432x288 with 1 Axes>"
      ]
     },
     "metadata": {
      "needs_background": "light"
     },
     "output_type": "display_data"
    },
    {
     "name": "stdout",
     "output_type": "stream",
     "text": [
      "W1630833199.png\n"
     ]
    },
    {
     "data": {
      "image/png": "[encoded data removed]",
      "text/plain": [
       "<Figure size 432x288 with 1 Axes>"
      ]
     },
     "metadata": {
      "needs_background": "light"
     },
     "output_type": "display_data"
    },
    {
     "name": "stdout",
     "output_type": "stream",
     "text": [
      "1/1 [==============================] - 0s 24ms/step\n"
     ]
    },
    {
     "data": {
      "image/png": "[encoded data removed]",
      "text/plain": [
       "<Figure size 432x288 with 1 Axes>"
      ]
     },
     "metadata": {
      "needs_background": "light"
     },
     "output_type": "display_data"
    },
    {
     "name": "stdout",
     "output_type": "stream",
     "text": [
      "W1630833741.png\n"
     ]
    },
    {
     "data": {
      "image/png": "[encoded data removed]",
      "text/plain": [
       "<Figure size 432x288 with 1 Axes>"
      ]
     },
     "metadata": {
      "needs_background": "light"
     },
     "output_type": "display_data"
    },
    {
     "name": "stdout",
     "output_type": "stream",
     "text": [
      "1/1 [==============================] - 0s 29ms/step\n"
     ]
    },
    {
     "data": {
      "image/png": "[encoded data removed]",
      "text/plain": [
       "<Figure size 432x288 with 1 Axes>"
      ]
     },
     "metadata": {
      "needs_background": "light"
     },
     "output_type": "display_data"
    },
    {
     "name": "stdout",
     "output_type": "stream",
     "text": [
      "W1630834283.png\n"
     ]
    },
    {
     "data": {
      "image/png": "[encoded data removed]",
      "text/plain": [
       "<Figure size 432x288 with 1 Axes>"
      ]
     },
     "metadata": {
      "needs_background": "light"
     },
     "output_type": "display_data"
    },
    {
     "name": "stdout",
     "output_type": "stream",
     "text": [
      "1/1 [==============================] - 0s 25ms/step\n"
     ]
    },
    {
     "data": {
      "image/png": "[encoded data removed]",
      "text/plain": [
       "<Figure size 432x288 with 1 Axes>"
      ]
     },
     "metadata": {
      "needs_background": "light"
     },
     "output_type": "display_data"
    },
    {
     "name": "stdout",
     "output_type": "stream",
     "text": [
      "W1630834825.png\n"
     ]
    },
    {
     "data": {
      "image/png": "[encoded data removed]",
      "text/plain": [
       "<Figure size 432x288 with 1 Axes>"
      ]
     },
     "metadata": {
      "needs_background": "light"
     },
     "output_type": "display_data"
    },
    {
     "name": "stdout",
     "output_type": "stream",
     "text": [
      "1/1 [==============================] - 0s 30ms/step\n"
     ]
    },
    {
     "data": {
      "image/png": "[encoded data removed]",
      "text/plain": [
       "<Figure size 432x288 with 1 Axes>"
      ]
     },
     "metadata": {
      "needs_background": "light"
     },
     "output_type": "display_data"
    },
    {
     "name": "stdout",
     "output_type": "stream",
     "text": [
      "W1630835367.png\n"
     ]
    },
    {
     "data": {
      "image/png": "[encoded data removed]",
      "text/plain": [
       "<Figure size 432x288 with 1 Axes>"
      ]
     },
     "metadata": {
      "needs_background": "light"
     },
     "output_type": "display_data"
    },
    {
     "name": "stdout",
     "output_type": "stream",
     "text": [
      "1/1 [==============================] - 0s 25ms/step\n"
     ]
    },
    {
     "data": {
      "image/png": "[encoded data removed]",
      "text/plain": [
       "<Figure size 432x288 with 1 Axes>"
      ]
     },
     "metadata": {
      "needs_background": "light"
     },
     "output_type": "display_data"
    },
    {
     "name": "stdout",
     "output_type": "stream",
     "text": [
      "W1630835909.png\n"
     ]
    },
    {
     "data": {
      "image/png": "[encoded data removed]",
      "text/plain": [
       "<Figure size 432x288 with 1 Axes>"
      ]
     },
     "metadata": {
      "needs_background": "light"
     },
     "output_type": "display_data"
    },
    {
     "name": "stdout",
     "output_type": "stream",
     "text": [
      "1/1 [==============================] - 0s 27ms/step\n"
     ]
    },
    {
     "data": {
      "image/png": "[encoded data removed]",
      "text/plain": [
       "<Figure size 432x288 with 1 Axes>"
      ]
     },
     "metadata": {
      "needs_background": "light"
     },
     "output_type": "display_data"
    },
    {
     "name": "stdout",
     "output_type": "stream",
     "text": [
      "W1630836993.png\n"
     ]
    },
    {
     "data": {
      "image/png": "[encoded data removed]",
      "text/plain": [
       "<Figure size 432x288 with 1 Axes>"
      ]
     },
     "metadata": {
      "needs_background": "light"
     },
     "output_type": "display_data"
    },
    {
     "name": "stdout",
     "output_type": "stream",
     "text": [
      "1/1 [==============================] - 0s 26ms/step\n"
     ]
    },
    {
     "data": {
      "image/png": "[encoded data removed]",
      "text/plain": [
       "<Figure size 432x288 with 1 Axes>"
      ]
     },
     "metadata": {
      "needs_background": "light"
     },
     "output_type": "display_data"
    }
   ],
   "source": [
    "for filename, img in zip(filenames[340:350], remaining_test[340:350]):\n",
    "    print(filename)\n",
    "    plt.imshow(img, cmap=\"gray\", origin=\"lower\")\n",
    "    plt.show()\n",
    "    img = img.reshape((1, 160, 736))\n",
    "    # print(img[0][0])\n",
    "    \n",
    "\n",
    "\n",
    "\n",
    "    prediction = model.predict(img)\n",
    "    plt.imshow(prediction[0], cmap='gray', origin = 'lower')\n",
    "    plt.show()\n",
    "    prediction = []\n",
    "    \n",
    "    "
   ]
  }
 ],
 "metadata": {
  "kernelspec": {
   "display_name": "Python 3 (ipykernel)",
   "language": "python",
   "name": "python3"
  },
  "orig_nbformat": 4
 },
 "nbformat": 4,
 "nbformat_minor": 2
}
