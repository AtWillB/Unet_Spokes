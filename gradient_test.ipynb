{
 "cells": [
  {
   "cell_type": "code",
   "execution_count": 1,
   "metadata": {},
   "outputs": [
    {
     "name": "stdout",
     "output_type": "stream",
     "text": [
      "Collecting segmentation_models\n",
      "  Downloading segmentation_models-1.0.1-py3-none-any.whl (33 kB)\n",
      "Collecting efficientnet==1.0.0\n",
      "  Downloading efficientnet-1.0.0-py3-none-any.whl (17 kB)\n",
      "Collecting image-classifiers==1.0.0\n",
      "  Downloading image_classifiers-1.0.0-py3-none-any.whl (19 kB)\n",
      "Collecting keras-applications<=1.0.8,>=1.0.7\n",
      "  Downloading Keras_Applications-1.0.8-py3-none-any.whl (50 kB)\n",
      "\u001b[2K     \u001b[90m━━━━━━━━━━━━━━━━━━━━━━━━━━━━━━━━━━━━━━━━\u001b[0m \u001b[32m50.7/50.7 kB\u001b[0m \u001b[31m15.1 MB/s\u001b[0m eta \u001b[36m0:00:00\u001b[0m\n",
      "\u001b[?25hRequirement already satisfied: scikit-image in /usr/local/lib/python3.9/dist-packages (from efficientnet==1.0.0->segmentation_models) (0.19.3)\n",
      "Requirement already satisfied: h5py in /usr/local/lib/python3.9/dist-packages (from keras-applications<=1.0.8,>=1.0.7->segmentation_models) (3.7.0)\n",
      "Requirement already satisfied: numpy>=1.9.1 in /usr/local/lib/python3.9/dist-packages (from keras-applications<=1.0.8,>=1.0.7->segmentation_models) (1.23.1)\n",
      "Requirement already satisfied: tifffile>=2019.7.26 in /usr/local/lib/python3.9/dist-packages (from scikit-image->efficientnet==1.0.0->segmentation_models) (2022.5.4)\n",
      "Requirement already satisfied: PyWavelets>=1.1.1 in /usr/local/lib/python3.9/dist-packages (from scikit-image->efficientnet==1.0.0->segmentation_models) (1.3.0)\n",
      "Requirement already satisfied: pillow!=7.1.0,!=7.1.1,!=8.3.0,>=6.1.0 in /usr/local/lib/python3.9/dist-packages (from scikit-image->efficientnet==1.0.0->segmentation_models) (9.2.0)\n",
      "Requirement already satisfied: networkx>=2.2 in /usr/local/lib/python3.9/dist-packages (from scikit-image->efficientnet==1.0.0->segmentation_models) (2.8.4)\n",
      "Requirement already satisfied: packaging>=20.0 in /usr/local/lib/python3.9/dist-packages (from scikit-image->efficientnet==1.0.0->segmentation_models) (21.3)\n",
      "Requirement already satisfied: imageio>=2.4.1 in /usr/local/lib/python3.9/dist-packages (from scikit-image->efficientnet==1.0.0->segmentation_models) (2.19.3)\n",
      "Requirement already satisfied: scipy>=1.4.1 in /usr/local/lib/python3.9/dist-packages (from scikit-image->efficientnet==1.0.0->segmentation_models) (1.8.1)\n",
      "Requirement already satisfied: pyparsing!=3.0.5,>=2.0.2 in /usr/local/lib/python3.9/dist-packages (from packaging>=20.0->scikit-image->efficientnet==1.0.0->segmentation_models) (3.0.9)\n",
      "Installing collected packages: keras-applications, image-classifiers, efficientnet, segmentation_models\n",
      "Successfully installed efficientnet-1.0.0 image-classifiers-1.0.0 keras-applications-1.0.8 segmentation_models-1.0.1\n",
      "\u001b[33mWARNING: Running pip as the 'root' user can result in broken permissions and conflicting behaviour with the system package manager. It is recommended to use a virtual environment instead: https://pip.pypa.io/warnings/venv\u001b[0m\u001b[33m\n",
      "\u001b[0m"
     ]
    }
   ],
   "source": [
    "!pip install segmentation_models"
   ]
  },
  {
   "attachments": {},
   "cell_type": "markdown",
   "metadata": {},
   "source": [
    "Import statements"
   ]
  },
  {
   "cell_type": "code",
   "execution_count": 11,
   "metadata": {},
   "outputs": [
    {
     "ename": "ImportError",
     "evalue": "cannot import name 'define_model' from 'model_utility' (/notebooks/model_utility.py)",
     "output_type": "error",
     "traceback": [
      "\u001b[0;31m---------------------------------------------------------------------------\u001b[0m",
      "\u001b[0;31mImportError\u001b[0m                               Traceback (most recent call last)",
      "\u001b[1;32m/Users/willbyrne/Documents/work/code/hamilton/unet_spokes/src/gradient_test.ipynb Cell 3\u001b[0m in \u001b[0;36m<cell line: 3>\u001b[0;34m()\u001b[0m\n\u001b[1;32m      <a href='vscode-notebook-cell:/Users/willbyrne/Documents/work/code/hamilton/unet_spokes/src/gradient_test.ipynb#W2sZmlsZQ%3D%3D?line=0'>1</a>\u001b[0m \u001b[39mfrom\u001b[39;00m \u001b[39mmodel_utility\u001b[39;00m \u001b[39mimport\u001b[39;00m train_model\n\u001b[1;32m      <a href='vscode-notebook-cell:/Users/willbyrne/Documents/work/code/hamilton/unet_spokes/src/gradient_test.ipynb#W2sZmlsZQ%3D%3D?line=1'>2</a>\u001b[0m \u001b[39mfrom\u001b[39;00m \u001b[39mmodel_utility\u001b[39;00m \u001b[39mimport\u001b[39;00m data_gather\n\u001b[0;32m----> <a href='vscode-notebook-cell:/Users/willbyrne/Documents/work/code/hamilton/unet_spokes/src/gradient_test.ipynb#W2sZmlsZQ%3D%3D?line=2'>3</a>\u001b[0m \u001b[39mfrom\u001b[39;00m \u001b[39mmodel_utility\u001b[39;00m \u001b[39mimport\u001b[39;00m define_model\n\u001b[1;32m      <a href='vscode-notebook-cell:/Users/willbyrne/Documents/work/code/hamilton/unet_spokes/src/gradient_test.ipynb#W2sZmlsZQ%3D%3D?line=4'>5</a>\u001b[0m \u001b[39mimport\u001b[39;00m \u001b[39mglob\u001b[39;00m\n\u001b[1;32m      <a href='vscode-notebook-cell:/Users/willbyrne/Documents/work/code/hamilton/unet_spokes/src/gradient_test.ipynb#W2sZmlsZQ%3D%3D?line=5'>6</a>\u001b[0m \u001b[39mimport\u001b[39;00m \u001b[39mpandas\u001b[39;00m \u001b[39mas\u001b[39;00m \u001b[39mpd\u001b[39;00m\n",
      "\u001b[0;31mImportError\u001b[0m: cannot import name 'define_model' from 'model_utility' (/notebooks/model_utility.py)"
     ]
    }
   ],
   "source": [
    "from model_utility import train_model\n",
    "from model_utility import data_gather\n",
    "from model_utility import define_model\n",
    "\n",
    "import glob\n",
    "import pandas as pd"
   ]
  },
  {
   "attachments": {},
   "cell_type": "markdown",
   "metadata": {},
   "source": [
    "Testing Models"
   ]
  },
  {
   "cell_type": "code",
   "execution_count": null,
   "metadata": {},
   "outputs": [],
   "source": [
    "SIZE_X = 1504\n",
    "SIZE_Y =  224\n",
    "\n",
    "accuracy = {}\n",
    "for model_path in glob.glob('models/*.h5'):\n",
    "    accuracy[model_path] = test_model(model_path, SIZE_X, SIZE_Y)[1]\n",
    "    \n",
    "print(accuracy)"
   ]
  },
  {
   "attachments": {},
   "cell_type": "markdown",
   "metadata": {},
   "source": [
    "Creating Models"
   ]
  },
  {
   "cell_type": "code",
   "execution_count": null,
   "metadata": {},
   "outputs": [],
   "source": [
    "#########################################################\n",
    "#Main\n",
    "SIZE_X = 1504\n",
    "SIZE_Y =  224\n",
    "epoch_num = 30\n",
    "batches = 1\n",
    "X_train, Y_train, X_test, Y_test = data_gather(SIZE_X, SIZE_Y, training_path = \"/datasets/\")\n",
    "training_size = len(X_train)\n",
    "\n",
    "\n",
    "model_params = {\"X_train\": X_train,\n",
    "               \"Y_train\": Y_train,\n",
    "               \"X_test\": X_test, \n",
    "               \"Y_test\": Y_test,\n",
    "               \"epoch_num\": epoch_num, \n",
    "               \"batches\": batches,\n",
    "               \"SIZE_X\": SIZE_X,\n",
    "               \"SIZE_Y\": SIZE_Y, \n",
    "               \"training_size\": training_size, \n",
    "               \"backbone\": \"vgg16\"}\n",
    "\n",
    "#backbone_name_full = ['vgg16','vgg19']\n",
    "backbone_name_full = ['vgg16','vgg19','resnet18','resnet34','resnet50','resnet101','resnet152','seresnet18','seresnet34',\n",
    "                      'seresnet50','seresnet101','seresnet152','resnext50','resnext101','seresnext50','seresnext101', 'senet154',\n",
    "                      'densenet121','densenet169','densenet201', 'inceptionv3', 'inceptionresnetv2', 'mobilenet', 'mobilenetv2',\n",
    "                      'efficientnetb0','efficientnetb1','efficientnetb2','efficientnetb3','efficientnetb4','efficientnetb5',\n",
    "                      'efficientnetb6','efficientnetb7']\n",
    "#backbone_name_1 = ['vgg16','vgg19']#,'resnet18','resnet34','resnet50','resnet101','resnet152']#,'seresnet18','seresnet34']\n",
    "#backbone_name_2 = ['seresnet50','seresnet101','seresnet152','resnext50','resnext101','seresnext50','seresnext101', 'senet154']\n",
    "#backbone_name_3 = ['densenet121','densenet169','densenet201', 'inceptionv3', 'inceptionresnetv2', 'mobilenet', 'mobilenetv2']\n",
    "#backbone_name_4 = ['efficientnetb0','efficientnetb1','efficientnetb2','efficientnetb3','efficientnetb4','efficientnetb5'\n",
    "#                 ,'efficientnetb6','efficientnetb7']\n",
    "\n",
    "epochs = [\"epoch_\"+str(i) for i in range(1,epoch_num+1)]\n",
    "columns = ['backbone_name']+epochs\n",
    "\n",
    "\n",
    "gridsearch_obj = {}\n",
    "for backbone_name in backbone_name_full:\n",
    "    print(f\"running {backbone_name}... \") \n",
    "    model_params[\"backbone\"] = backbone_name\n",
    "    gridsearch_obj[backbone_name] = [train_model(\"models/\", model_params)[1]]\n",
    "\n",
    "print(gridsearch_obj)\n",
    "\n",
    "df = pd.DataFrame(gridsearch_obj)\n",
    "\n",
    "df.to_csv(f\"spoke_{epoch_num}_backbone.csv\")\n",
    "    \n"
   ]
  },
  {
   "attachments": {},
   "cell_type": "markdown",
   "metadata": {},
   "source": [
    "Testing gridsearchcv"
   ]
  },
  {
   "cell_type": "code",
   "execution_count": 3,
   "metadata": {},
   "outputs": [
    {
     "data": {
      "text/plain": [
       "(30, 224, 1504)"
      ]
     },
     "execution_count": 3,
     "metadata": {},
     "output_type": "execute_result"
    }
   ],
   "source": [
    "SIZE_X = 1504\n",
    "SIZE_Y =  224\n",
    "epoch_num = 10\n",
    "\n",
    "X_train, Y_train, X_test, Y_test = data_gather(SIZE_X, SIZE_Y, training_path = \"/datasets/\")\n",
    "\n",
    "X_train.shape"
   ]
  },
  {
   "cell_type": "code",
   "execution_count": 8,
   "metadata": {},
   "outputs": [
    {
     "ename": "AttributeError",
     "evalue": "module 'model_utility' has no attribute 'define_model'",
     "output_type": "error",
     "traceback": [
      "\u001b[0;31m---------------------------------------------------------------------------\u001b[0m",
      "\u001b[0;31mAttributeError\u001b[0m                            Traceback (most recent call last)",
      "\u001b[1;32m/Users/willbyrne/Documents/work/code/hamilton/unet_spokes/src/gradient_test.ipynb Cell 10\u001b[0m in \u001b[0;36m<cell line: 5>\u001b[0;34m()\u001b[0m\n\u001b[1;32m      <a href='vscode-notebook-cell:/Users/willbyrne/Documents/work/code/hamilton/unet_spokes/src/gradient_test.ipynb#X12sZmlsZQ%3D%3D?line=1'>2</a>\u001b[0m batch_size \u001b[39m=\u001b[39m \u001b[39m10\u001b[39m\n\u001b[1;32m      <a href='vscode-notebook-cell:/Users/willbyrne/Documents/work/code/hamilton/unet_spokes/src/gradient_test.ipynb#X12sZmlsZQ%3D%3D?line=2'>3</a>\u001b[0m epochs \u001b[39m=\u001b[39m \u001b[39m10\u001b[39m\n\u001b[0;32m----> <a href='vscode-notebook-cell:/Users/willbyrne/Documents/work/code/hamilton/unet_spokes/src/gradient_test.ipynb#X12sZmlsZQ%3D%3D?line=4'>5</a>\u001b[0m model \u001b[39m=\u001b[39m KerasClassifier(build_fn\u001b[39m=\u001b[39mmodel_utility\u001b[39m.\u001b[39;49mdefine_model, \n\u001b[1;32m      <a href='vscode-notebook-cell:/Users/willbyrne/Documents/work/code/hamilton/unet_spokes/src/gradient_test.ipynb#X12sZmlsZQ%3D%3D?line=5'>6</a>\u001b[0m                         epochs\u001b[39m=\u001b[39mepochs, \n\u001b[1;32m      <a href='vscode-notebook-cell:/Users/willbyrne/Documents/work/code/hamilton/unet_spokes/src/gradient_test.ipynb#X12sZmlsZQ%3D%3D?line=6'>7</a>\u001b[0m                         batch_size \u001b[39m=\u001b[39m batch_size, \n\u001b[1;32m      <a href='vscode-notebook-cell:/Users/willbyrne/Documents/work/code/hamilton/unet_spokes/src/gradient_test.ipynb#X12sZmlsZQ%3D%3D?line=7'>8</a>\u001b[0m                         verbose\u001b[39m=\u001b[39m\u001b[39m1\u001b[39m)\n",
      "\u001b[0;31mAttributeError\u001b[0m: module 'model_utility' has no attribute 'define_model'"
     ]
    }
   ],
   "source": [
    "from keras.wrappers.scikit_learn import KerasClassifier\n",
    "batch_size = 10\n",
    "epochs = 10\n",
    "\n",
    "model = KerasClassifier(build_fn=, \n",
    "                        epochs=epochs, \n",
    "                        batch_size = batch_size, \n",
    "                        verbose=1)"
   ]
  }
 ],
 "metadata": {
  "kernelspec": {
   "display_name": "Python 3 (ipykernel)",
   "language": "python",
   "name": "python3"
  },
  "language_info": {
   "codemirror_mode": {
    "name": "ipython",
    "version": 3
   },
   "file_extension": ".py",
   "mimetype": "text/x-python",
   "name": "python",
   "nbconvert_exporter": "python",
   "pygments_lexer": "ipython3",
   "version": "3.9.13"
  },
  "orig_nbformat": 4
 },
 "nbformat": 4,
 "nbformat_minor": 2
}
