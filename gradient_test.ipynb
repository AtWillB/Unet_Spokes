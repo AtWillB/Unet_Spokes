{
 "cells": [
  {
   "cell_type": "code",
   "execution_count": 9,
   "metadata": {},
   "outputs": [
    {
     "name": "stdout",
     "output_type": "stream",
     "text": [
      "Collecting scikeras\n",
      "  Downloading scikeras-0.10.0-py3-none-any.whl (27 kB)\n",
      "Requirement already satisfied: scikit-learn>=1.0.0 in /usr/local/lib/python3.9/dist-packages (from scikeras) (1.1.1)\n",
      "Requirement already satisfied: packaging>=0.21 in /usr/local/lib/python3.9/dist-packages (from scikeras) (21.3)\n",
      "Requirement already satisfied: pyparsing!=3.0.5,>=2.0.2 in /usr/local/lib/python3.9/dist-packages (from packaging>=0.21->scikeras) (3.0.9)\n",
      "Requirement already satisfied: threadpoolctl>=2.0.0 in /usr/local/lib/python3.9/dist-packages (from scikit-learn>=1.0.0->scikeras) (3.1.0)\n",
      "Requirement already satisfied: scipy>=1.3.2 in /usr/local/lib/python3.9/dist-packages (from scikit-learn>=1.0.0->scikeras) (1.8.1)\n",
      "Requirement already satisfied: numpy>=1.17.3 in /usr/local/lib/python3.9/dist-packages (from scikit-learn>=1.0.0->scikeras) (1.23.1)\n",
      "Requirement already satisfied: joblib>=1.0.0 in /usr/local/lib/python3.9/dist-packages (from scikit-learn>=1.0.0->scikeras) (1.1.0)\n",
      "Installing collected packages: scikeras\n",
      "Successfully installed scikeras-0.10.0\n",
      "\u001b[33mWARNING: Running pip as the 'root' user can result in broken permissions and conflicting behaviour with the system package manager. It is recommended to use a virtual environment instead: https://pip.pypa.io/warnings/venv\u001b[0m\u001b[33m\n",
      "\u001b[0m"
     ]
    }
   ],
   "source": [
    "!pip install segmentation_models\n",
    "!pip install scikeras"
   ]
  },
  {
   "attachments": {},
   "cell_type": "markdown",
   "metadata": {},
   "source": [
    "Import statements"
   ]
  },
  {
   "cell_type": "code",
   "execution_count": 1,
   "metadata": {},
   "outputs": [
    {
     "name": "stdout",
     "output_type": "stream",
     "text": [
      "Segmentation Models: using `keras` framework.\n"
     ]
    }
   ],
   "source": [
    "from model_utility import train_model\n",
    "from model_utility import data_gather\n",
    "from model_utility import define_model\n",
    "\n",
    "import glob\n",
    "import pandas as pd"
   ]
  },
  {
   "attachments": {},
   "cell_type": "markdown",
   "metadata": {},
   "source": [
    "Testing Models"
   ]
  },
  {
   "cell_type": "code",
   "execution_count": null,
   "metadata": {},
   "outputs": [],
   "source": [
    "SIZE_X = 1504\n",
    "SIZE_Y =  224\n",
    "\n",
    "accuracy = {}\n",
    "for model_path in glob.glob('models/*.h5'):\n",
    "    accuracy[model_path] = test_model(model_path, SIZE_X, SIZE_Y)[1]\n",
    "    \n",
    "print(accuracy)"
   ]
  },
  {
   "attachments": {},
   "cell_type": "markdown",
   "metadata": {},
   "source": [
    "Creating Models"
   ]
  },
  {
   "cell_type": "code",
   "execution_count": null,
   "metadata": {},
   "outputs": [],
   "source": [
    "#########################################################\n",
    "#Main\n",
    "SIZE_X = 1504\n",
    "SIZE_Y =  224\n",
    "epoch_num = 30\n",
    "batches = 1\n",
    "X_train, Y_train, X_test, Y_test = data_gather(SIZE_X, SIZE_Y, training_path = \"/datasets/\")\n",
    "training_size = len(X_train)\n",
    "\n",
    "\n",
    "model_params = {\"X_train\": X_train,\n",
    "               \"Y_train\": Y_train,\n",
    "               \"X_test\": X_test, \n",
    "               \"Y_test\": Y_test,\n",
    "               \"epoch_num\": epoch_num, \n",
    "               \"batches\": batches,\n",
    "               \"SIZE_X\": SIZE_X,\n",
    "               \"SIZE_Y\": SIZE_Y, \n",
    "               \"training_size\": training_size, \n",
    "               \"backbone\": \"vgg16\"}\n",
    "\n",
    "#backbone_name_full = ['vgg16','vgg19']\n",
    "backbone_name_full = ['vgg16','vgg19','resnet18','resnet34','resnet50','resnet101','resnet152','seresnet18','seresnet34',\n",
    "                      'seresnet50','seresnet101','seresnet152','resnext50','resnext101','seresnext50','seresnext101', 'senet154',\n",
    "                      'densenet121','densenet169','densenet201', 'inceptionv3', 'inceptionresnetv2', 'mobilenet', 'mobilenetv2',\n",
    "                      'efficientnetb0','efficientnetb1','efficientnetb2','efficientnetb3','efficientnetb4','efficientnetb5',\n",
    "                      'efficientnetb6','efficientnetb7']\n",
    "#backbone_name_1 = ['vgg16','vgg19']#,'resnet18','resnet34','resnet50','resnet101','resnet152']#,'seresnet18','seresnet34']\n",
    "#backbone_name_2 = ['seresnet50','seresnet101','seresnet152','resnext50','resnext101','seresnext50','seresnext101', 'senet154']\n",
    "#backbone_name_3 = ['densenet121','densenet169','densenet201', 'inceptionv3', 'inceptionresnetv2', 'mobilenet', 'mobilenetv2']\n",
    "#backbone_name_4 = ['efficientnetb0','efficientnetb1','efficientnetb2','efficientnetb3','efficientnetb4','efficientnetb5'\n",
    "#                 ,'efficientnetb6','efficientnetb7']\n",
    "\n",
    "epochs = [\"epoch_\"+str(i) for i in range(1,epoch_num+1)]\n",
    "columns = ['backbone_name']+epochs\n",
    "\n",
    "\n",
    "gridsearch_obj = {}\n",
    "for backbone_name in backbone_name_full:\n",
    "    print(f\"running {backbone_name}... \") \n",
    "    model_params[\"backbone\"] = backbone_name\n",
    "    gridsearch_obj[backbone_name] = [train_model(\"models/\", model_params)[1]]\n",
    "\n",
    "print(gridsearch_obj)\n",
    "\n",
    "df = pd.DataFrame(gridsearch_obj)\n",
    "\n",
    "df.to_csv(f\"spoke_{epoch_num}_backbone.csv\")"
   ]
  },
  {
   "cell_type": "code",
   "execution_count": 43,
   "metadata": {},
   "outputs": [],
   "source": [
    "import numpy as np\n",
    "\n",
    "row = [0,1,0,1,1,1,1,1,0,0,0,1,1,1,1,0,0,0,1,1,1,0,0]\n",
    "top_28 = np.load(\"test.npy\")"
   ]
  },
  {
   "cell_type": "code",
   "execution_count": null,
   "metadata": {},
   "outputs": [],
   "source": [
    "\n",
    "\n",
    "def longest_seq(row):\n",
    "    LS = {\"x_start\": 0,\n",
    "      \"x_end\": 0,\n",
    "      \"y\": 0,\n",
    "      \"biggest_sum\": 0}\n",
    "\n",
    "    seq_sum,x_end, x_start = 0,0,0\n",
    "    for num in range(0,len(row)-1):\n",
    "        print(f\"current: {row[num]}, Prev: {row[num-1]}, seq_sum: {seq_sum}, x_start: {x_start}, x_end: {x_end}\")\n",
    "\n",
    "        if row[num] == 1:\n",
    "            if seq_sum == 0:\n",
    "                x_start = num\n",
    "            seq_sum += 1\n",
    "        if row[num] == 0 and row[num-1] == 1:\n",
    "            x_end = num\n",
    "            if LS[\"biggest_sum\"] <= seq_sum:\n",
    "                LS[\"biggest_sum\"] = seq_sum\n",
    "                LS[\"x_start\"] = x_start\n",
    "                LS[\"x_end\"] = x_end\n",
    "                x_end = 0\n",
    "                x_start = 0\n",
    "                seq_sum = 0\n",
    "    return(LS)\n",
    "print(longest_seq(top_28))\n"
   ]
  },
  {
   "cell_type": "code",
   "execution_count": 46,
   "metadata": {},
   "outputs": [
    {
     "name": "stdout",
     "output_type": "stream",
     "text": [
      "{'x_start': 406, 'x_end': 1652, 'y': 0, 'biggest_sum': 1246}\n"
     ]
    }
   ],
   "source": [
    "import numpy as np\n",
    "\n",
    "row = [0,1,0,1,1,1,1,1,0,0,0,1,1,1,1,0,0,0,1,1,1,0,0]\n",
    "top_28 = np.load(\"test.npy\")\n",
    "\n",
    "def longest_seq(row):\n",
    "    LS = {\"x_start\": 0,\n",
    "      \"x_end\": 0,\n",
    "      \"y\": 0,\n",
    "      \"biggest_sum\": 0}\n",
    "\n",
    "    seq_sum,x_end, x_start = 0,0,0\n",
    "    for num in range(0,len(row)-1):\n",
    "        if row[num] == 0:\n",
    "            if seq_sum >= LS[\"biggest_sum\"]:\n",
    "                x_end = num-1\n",
    "                LS[\"x_start\"] = x_start\n",
    "                LS[\"x_end\"] = x_end\n",
    "                LS[\"biggest_sum\"] = seq_sum\n",
    "            seq_sum,x_end, x_start = 0,0,0\n",
    "        else:\n",
    "            seq_sum+= 1\n",
    "            if seq_sum == 1:\n",
    "                x_start = num\n",
    "            \n",
    "                \n",
    "            \n",
    "    return(LS)\n",
    "print(longest_seq(top_28))\n"
   ]
  },
  {
   "cell_type": "code",
   "execution_count": 61,
   "metadata": {},
   "outputs": [],
   "source": [
    "import numpy as np\n",
    "import matplotlib.pyplot as plt\n",
    "import seaborn as sns\n",
    "test  = np.load(\"test2.npy\")"
   ]
  },
  {
   "cell_type": "code",
   "execution_count": 62,
   "metadata": {},
   "outputs": [
    {
     "name": "stdout",
     "output_type": "stream",
     "text": [
      "[0. 0. 0. ... 0. 0. 0.]\n"
     ]
    }
   ],
   "source": [
    "# flat1 = test[int(len(test)/2)-1]\n",
    "# flat2 = test[int(len(test)/2)]\n",
    "# flat3 = test[int(len(test)/2)+1]\n",
    "\n",
    "# flat = np.vstack((flat1, flat2, flat3))\n",
    "flat = test.flatten()\n",
    "print(flat)"
   ]
  },
  {
   "cell_type": "code",
   "execution_count": 64,
   "metadata": {},
   "outputs": [
    {
     "data": {
      "text/plain": [
       "<matplotlib.lines.Line2D at 0x7f96df1bb910>"
      ]
     },
     "execution_count": 64,
     "metadata": {},
     "output_type": "execute_result"
    },
    {
     "data": {
      "image/png": "[encoded data removed]",
      "text/plain": [
       "<Figure size 640x480 with 1 Axes>"
      ]
     },
     "metadata": {},
     "output_type": "display_data"
    }
   ],
   "source": [
    "#flat = flat.flatten()\n",
    "graph = sns.histplot(flat[flat != 0], bins=200)\n",
    "graph.axvline(flat.mean()-flat.std())"
   ]
  },
  {
   "cell_type": "code",
   "execution_count": 65,
   "metadata": {},
   "outputs": [
    {
     "name": "stdout",
     "output_type": "stream",
     "text": [
      "0.00642\n",
      "(199, 1582)\n"
     ]
    },
    {
     "data": {
      "image/png": "[encoded data removed]",
      "text/plain": [
       "<Figure size 640x480 with 1 Axes>"
      ]
     },
     "metadata": {},
     "output_type": "display_data"
    }
   ],
   "source": [
    "from preprocess_filter import apply_quantize\n",
    "\n",
    "print(flat.std())\n",
    "test[test < (flat.mean()-1*flat.std())] = 0\n",
    "print(test.shape)\n",
    "quant = apply_quantize(test)\n",
    "\n",
    "plt.imshow(test, cmap = \"gray\")\n",
    "plt.show()\n",
    "# plt.imshow(quant, cmap = \"gray\")\n",
    "# plt.show()"
   ]
  }
 ],
 "metadata": {
  "kernelspec": {
   "display_name": "Python 3 (ipykernel)",
   "language": "python",
   "name": "python3"
  },
  "language_info": {
   "codemirror_mode": {
    "name": "ipython",
    "version": 3
   },
   "file_extension": ".py",
   "mimetype": "text/x-python",
   "name": "python",
   "nbconvert_exporter": "python",
   "pygments_lexer": "ipython3",
   "version": "3.10.8"
  },
  "orig_nbformat": 4
 },
 "nbformat": 4,
 "nbformat_minor": 2
}
