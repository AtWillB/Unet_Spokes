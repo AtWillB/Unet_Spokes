{
 "cells": [
  {
   "cell_type": "code",
   "execution_count": 9,
   "metadata": {},
   "outputs": [
    {
     "name": "stdout",
     "output_type": "stream",
     "text": [
      "Collecting scikeras\n",
      "  Downloading scikeras-0.10.0-py3-none-any.whl (27 kB)\n",
      "Requirement already satisfied: scikit-learn>=1.0.0 in /usr/local/lib/python3.9/dist-packages (from scikeras) (1.1.1)\n",
      "Requirement already satisfied: packaging>=0.21 in /usr/local/lib/python3.9/dist-packages (from scikeras) (21.3)\n",
      "Requirement already satisfied: pyparsing!=3.0.5,>=2.0.2 in /usr/local/lib/python3.9/dist-packages (from packaging>=0.21->scikeras) (3.0.9)\n",
      "Requirement already satisfied: threadpoolctl>=2.0.0 in /usr/local/lib/python3.9/dist-packages (from scikit-learn>=1.0.0->scikeras) (3.1.0)\n",
      "Requirement already satisfied: scipy>=1.3.2 in /usr/local/lib/python3.9/dist-packages (from scikit-learn>=1.0.0->scikeras) (1.8.1)\n",
      "Requirement already satisfied: numpy>=1.17.3 in /usr/local/lib/python3.9/dist-packages (from scikit-learn>=1.0.0->scikeras) (1.23.1)\n",
      "Requirement already satisfied: joblib>=1.0.0 in /usr/local/lib/python3.9/dist-packages (from scikit-learn>=1.0.0->scikeras) (1.1.0)\n",
      "Installing collected packages: scikeras\n",
      "Successfully installed scikeras-0.10.0\n",
      "\u001b[33mWARNING: Running pip as the 'root' user can result in broken permissions and conflicting behaviour with the system package manager. It is recommended to use a virtual environment instead: https://pip.pypa.io/warnings/venv\u001b[0m\u001b[33m\n",
      "\u001b[0m"
     ]
    }
   ],
   "source": [
    "!pip install segmentation_models\n",
    "!pip install scikeras"
   ]
  },
  {
   "attachments": {},
   "cell_type": "markdown",
   "metadata": {},
   "source": [
    "Import statements"
   ]
  },
  {
   "cell_type": "code",
   "execution_count": 1,
   "metadata": {},
   "outputs": [
    {
     "name": "stdout",
     "output_type": "stream",
     "text": [
      "Segmentation Models: using `keras` framework.\n"
     ]
    }
   ],
   "source": [
    "from model_utility import train_model\n",
    "from model_utility import data_gather\n",
    "from model_utility import define_model\n",
    "\n",
    "import glob\n",
    "import pandas as pd"
   ]
  },
  {
   "attachments": {},
   "cell_type": "markdown",
   "metadata": {},
   "source": [
    "Testing Models"
   ]
  },
  {
   "cell_type": "code",
   "execution_count": null,
   "metadata": {},
   "outputs": [],
   "source": [
    "SIZE_X = 1504\n",
    "SIZE_Y =  224\n",
    "\n",
    "accuracy = {}\n",
    "for model_path in glob.glob('models/*.h5'):\n",
    "    accuracy[model_path] = test_model(model_path, SIZE_X, SIZE_Y)[1]\n",
    "    \n",
    "print(accuracy)"
   ]
  },
  {
   "attachments": {},
   "cell_type": "markdown",
   "metadata": {},
   "source": [
    "Creating Models"
   ]
  },
  {
   "cell_type": "code",
   "execution_count": null,
   "metadata": {},
   "outputs": [],
   "source": [
    "#########################################################\n",
    "#Main\n",
    "SIZE_X = 1504\n",
    "SIZE_Y =  224\n",
    "epoch_num = 30\n",
    "batches = 1\n",
    "X_train, Y_train, X_test, Y_test = data_gather(SIZE_X, SIZE_Y, training_path = \"/datasets/\")\n",
    "training_size = len(X_train)\n",
    "\n",
    "\n",
    "model_params = {\"X_train\": X_train,\n",
    "               \"Y_train\": Y_train,\n",
    "               \"X_test\": X_test, \n",
    "               \"Y_test\": Y_test,\n",
    "               \"epoch_num\": epoch_num, \n",
    "               \"batches\": batches,\n",
    "               \"SIZE_X\": SIZE_X,\n",
    "               \"SIZE_Y\": SIZE_Y, \n",
    "               \"training_size\": training_size, \n",
    "               \"backbone\": \"vgg16\"}\n",
    "\n",
    "#backbone_name_full = ['vgg16','vgg19']\n",
    "backbone_name_full = ['vgg16','vgg19','resnet18','resnet34','resnet50','resnet101','resnet152','seresnet18','seresnet34',\n",
    "                      'seresnet50','seresnet101','seresnet152','resnext50','resnext101','seresnext50','seresnext101', 'senet154',\n",
    "                      'densenet121','densenet169','densenet201', 'inceptionv3', 'inceptionresnetv2', 'mobilenet', 'mobilenetv2',\n",
    "                      'efficientnetb0','efficientnetb1','efficientnetb2','efficientnetb3','efficientnetb4','efficientnetb5',\n",
    "                      'efficientnetb6','efficientnetb7']\n",
    "#backbone_name_1 = ['vgg16','vgg19']#,'resnet18','resnet34','resnet50','resnet101','resnet152']#,'seresnet18','seresnet34']\n",
    "#backbone_name_2 = ['seresnet50','seresnet101','seresnet152','resnext50','resnext101','seresnext50','seresnext101', 'senet154']\n",
    "#backbone_name_3 = ['densenet121','densenet169','densenet201', 'inceptionv3', 'inceptionresnetv2', 'mobilenet', 'mobilenetv2']\n",
    "#backbone_name_4 = ['efficientnetb0','efficientnetb1','efficientnetb2','efficientnetb3','efficientnetb4','efficientnetb5'\n",
    "#                 ,'efficientnetb6','efficientnetb7']\n",
    "\n",
    "epochs = [\"epoch_\"+str(i) for i in range(1,epoch_num+1)]\n",
    "columns = ['backbone_name']+epochs\n",
    "\n",
    "\n",
    "gridsearch_obj = {}\n",
    "for backbone_name in backbone_name_full:\n",
    "    print(f\"running {backbone_name}... \") \n",
    "    model_params[\"backbone\"] = backbone_name\n",
    "    gridsearch_obj[backbone_name] = [train_model(\"models/\", model_params)[1]]\n",
    "\n",
    "print(gridsearch_obj)\n",
    "\n",
    "df = pd.DataFrame(gridsearch_obj)\n",
    "\n",
    "df.to_csv(f\"spoke_{epoch_num}_backbone.csv\")"
   ]
  }
 ],
 "metadata": {
  "kernelspec": {
   "display_name": "Python 3 (ipykernel)",
   "language": "python",
   "name": "python3"
  },
  "language_info": {
   "codemirror_mode": {
    "name": "ipython",
    "version": 3
   },
   "file_extension": ".py",
   "mimetype": "text/x-python",
   "name": "python",
   "nbconvert_exporter": "python",
   "pygments_lexer": "ipython3",
   "version": "3.9.13"
  },
  "orig_nbformat": 4
 },
 "nbformat": 4,
 "nbformat_minor": 2
}
